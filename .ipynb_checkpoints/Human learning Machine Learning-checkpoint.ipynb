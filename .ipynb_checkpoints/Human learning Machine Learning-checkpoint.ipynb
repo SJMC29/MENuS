{
 "cells": [
  {
   "cell_type": "markdown",
   "id": "991121f8",
   "metadata": {},
   "source": [
    "# MENuS\n",
    "## Using Machine Learning to select the best algorithm\n",
    "* Define the features.\n",
    "* Include the ingredients generator.\n",
    "    * Generate an Instance of Ingredients list.\n",
    "* Finish the model.\n",
    "* Use minizinc from python.\n",
    "    * Run it with 3 Algorithms.\n",
    "    * Add the Instance to the Instances List.\n",
    "    * Add the time it takes for each Algorithm to the Time Execution Matrix.\n",
    "    * Transform the Instances List into the Features Array.\n",
    "    * Travel through the Time Execution Matrix and pick the Algorithms with faster results for each Instance.\n",
    "    * The Algorithm with the fastest result will be added to the Labels list.\n",
    "\n",
    "|  | Alg1 | Alg2 | Alg3 |\n",
    "| --- | --- | --- | --- |\n",
    "| Ins1 | X | Y | Z |\n",
    "| Ins2 | X | Y | Z |\n",
    "| Ins3 | X | Y | Z |\n",
    "   \n",
    "* Transform the ingredients list into the dataset for machine learning.\n",
    "    * Create the Ingredients list.\n",
    "    * Test with the minizinc model, all the Alg = 3 -> minizinc(300).\n",
    "    * Take and transform the one that takes less time.\n",
    "* Training the AI. Split dataset, 70% for training and 30% for prediction, at least 80% accuracy expected. \n",
    "----------------------------------------------------------------------------------------------------------"
   ]
  },
  {
   "cell_type": "markdown",
   "id": "9c199d6f",
   "metadata": {},
   "source": [
    "# Generate the Ingredients List"
   ]
  },
  {
   "cell_type": "code",
   "execution_count": 355,
   "id": "1087b2d4",
   "metadata": {},
   "outputs": [],
   "source": [
    "import random\n",
    "import math\n",
    "\n",
    "def printN(n):\n",
    "    n = \"n = \" + str(n)\n",
    "    return n\n",
    "\n",
    "def createProtein():\n",
    "    quantity = 1#random.randint(1,10)\n",
    "    protein = random.randint(1, 30)*quantity\n",
    "    carbohydrate = random.randint(1, 37)*quantity\n",
    "    fat = random.randint(1, 30)*quantity\n",
    "    calories = protein*4 + carbohydrate*4 + fat*4\n",
    "    product = \"\"\n",
    "    product = product + str(calories) + \",\" + str(protein) + \",\" + str(carbohydrate) + \",\" + str(fat) + \",\" + str(random.randint(50, 200)) + \",\" + str(random.randint(800, 4000)) + \"|\"\n",
    "    return product\n",
    "\n",
    "def createCarbohydrate():\n",
    "    quantity = 1#random.randint(1,10)\n",
    "    protein = random.randint(1, 15)*quantity\n",
    "    carbohydrate = random.randint(1, 75)*quantity\n",
    "    fat = random.randint(1, 30)*quantity\n",
    "    calories = protein*4 + carbohydrate*4 + fat*4\n",
    "    product = \"\"\n",
    "    product = product + str(calories) + \",\" + str(protein) + \",\" + str(carbohydrate) + \",\" + str(fat) + \",\" + str(random.randint(50, 200)) + \",\" + str(random.randint(800, 4000)) + \"|\"\n",
    "    return product\n",
    "\n",
    "def createFat():\n",
    "    quantity = 1#random.randint(1,10)\n",
    "    protein = random.randint(1, 15)*quantity\n",
    "    carbohydrate = random.randint(1, 37)*quantity\n",
    "    fat = random.randint(1, 80)*quantity\n",
    "    calories = protein*4 + carbohydrate*4 +fat*4\n",
    "    product = \"\"\n",
    "    product = product + str(calories) + \",\" + str(protein) + \",\" + str(carbohydrate) + \",\" + str(fat) + \",\" + str(random.randint(50, 200)) + \",\" + str(random.randint(800, 4000)) + \"|\"\n",
    "    return product\n",
    "\n",
    "def createGroceries(n):\n",
    "    longitud = 0\n",
    "    groceries = \"[|\"\n",
    "    for i in range(0,math.floor(n/3)):\n",
    "        groceries = groceries + createProtein()\n",
    "        longitud = longitud + 1\n",
    "    for i in range(0,math.floor(n/3)):\n",
    "        groceries = groceries + createCarbohydrate()\n",
    "        longitud = longitud + 1\n",
    "    for i in range(0,math.floor(n/3)):\n",
    "        groceries = groceries + createFat()\n",
    "        longitud = longitud + 1\n",
    "    for i in range(n-longitud):\n",
    "        groceries = groceries + createCarbohydrate()\n",
    "        longitud = longitud + 1\n",
    "    groceries = groceries + \"]\"\n",
    "    return groceries\n",
    "\n",
    "def printGroceries(n):\n",
    "    groceries = \"groceries = \" + str(createGroceries(n))\n",
    "    return groceries\n",
    "\n",
    "def createRequirements(d, p):\n",
    "    #Redondear holgura < 2\n",
    "    holgura = 1.1\n",
    "    requirements = \"[|\" + str(1677*d*p) + \",\" + str(int(2024*d*p*holgura)) + \"|\" + str(38*d*p) + \",\" + str(int(46*d*p*holgura)) + \"|\" + str(130*d*p) + \",\" + str(int(130*d*p*holgura)) + \"|\" + str(57*d*p) + \",\" + str(int(62*d*p*holgura)) + \"|]\"\n",
    "    return requirements\n",
    "\n",
    "def printRequirements(d, p):\n",
    "    requirements = \"requirements = \" + str(createRequirements(d, p)) \n",
    "    return requirements\n",
    "\n",
    "def createDZN(n):\n",
    "#    days = random.randint(7,15)\n",
    "#    people = random.randint(1,5)\n",
    "    days = 3\n",
    "    people = 1\n",
    "    dzn = printN(n) + \";\\n\" + printGroceries(n) + \";\\n\" + printRequirements(days, people) + \";\"\n",
    "    return(dzn)\n",
    "\n",
    "#with open('/Users/Sara Maradiago/Desktop/MENUS/data.dzn', 'w') as f:\n",
    "#    f.write(createDZN(30))"
   ]
  },
  {
   "cell_type": "code",
   "execution_count": 356,
   "id": "91104213",
   "metadata": {
    "scrolled": false
   },
   "outputs": [
    {
     "data": {
      "text/plain": [
       "'n = 10;\\ngroceries = [|212,3,36,14,192,1299|240,24,7,29,175,1493|128,22,2,8,141,1589|356,1,75,13,96,2839|284,14,34,23,145,2839|256,4,44,16,59,1350|116,1,26,2,113,3825|352,8,25,55,108,1325|408,11,36,55,131,985|176,2,31,11,144,1161|];\\nrequirements = [|5031,6679|114,151|390,429|171,204|];'"
      ]
     },
     "execution_count": 356,
     "metadata": {},
     "output_type": "execute_result"
    }
   ],
   "source": [
    "createDZN(10)"
   ]
  },
  {
   "cell_type": "markdown",
   "id": "fadad751",
   "metadata": {},
   "source": [
    "# Create Features and Labels"
   ]
  },
  {
   "cell_type": "code",
   "execution_count": 357,
   "id": "18b6e5cf",
   "metadata": {
    "scrolled": true
   },
   "outputs": [],
   "source": [
    "import numpy as np\n",
    "\n",
    "#-MINIZINC---------------------------------\n",
    "n_inst=2\n",
    "ingredient_size=5\n",
    "il = []\n",
    "tem = np.zeros((n_inst, 3))\n",
    "#------------------------------------------\n",
    "#-MACHINE LEARNING-------------------------\n",
    "q_features = 2\n",
    "features = np.zeros((n_inst, q_features))\n",
    "labels = np.zeros((n_inst), dtype=int)\n",
    "#------------------------------------------\n",
    "\n",
    "# Create Instances List:\n",
    "def create_IL(n, isz):\n",
    "    for i in range(0,n):\n",
    "        il.append(createDZN(isz))\n",
    "    print(\"Updated [il].\\n\",il)\n",
    "        \n",
    "# Create Time Execution Matrix:\n",
    "def create_TEM(n):\n",
    "    for i in range(n):\n",
    "        # Here there should be the Minizinc Time results.\n",
    "        tem[i, :] = np.random.rand(3) * 10\n",
    "    print(\"\\nUpdated [tem].\\n\",tem)"
   ]
  },
  {
   "cell_type": "code",
   "execution_count": 358,
   "id": "8b079165",
   "metadata": {
    "scrolled": false
   },
   "outputs": [
    {
     "name": "stdout",
     "output_type": "stream",
     "text": [
      "Updated [il].\n",
      " ['n = 5;\\ngroceries = [|224,28,23,5,72,2541|248,10,29,23,86,2807|160,10,1,29,162,1963|88,14,3,5,90,3187|160,14,25,1,148,2943|];\\nrequirements = [|5031,6679|114,151|390,429|171,204|];', 'n = 5;\\ngroceries = [|256,19,30,15,69,3475|196,1,36,12,121,1183|432,8,31,69,77,1617|272,4,35,29,88,3915|416,12,67,25,100,3058|];\\nrequirements = [|5031,6679|114,151|390,429|171,204|];']\n",
      "\n",
      "Updated [tem].\n",
      " [[5.29257148 5.94326832 0.10728581]\n",
      " [3.52551664 4.80151457 9.74892674]]\n"
     ]
    }
   ],
   "source": [
    "create_IL(n_inst,ingredient_size)\n",
    "create_TEM(n_inst)"
   ]
  },
  {
   "cell_type": "code",
   "execution_count": 365,
   "id": "ca092789",
   "metadata": {
    "scrolled": false
   },
   "outputs": [
    {
     "name": "stdout",
     "output_type": "stream",
     "text": [
      "[[[ 224   28   23    5   72 2541]\n",
      "  [ 248   10   29   23   86 2807]\n",
      "  [ 160   10    1   29  162 1963]\n",
      "  [  88   14    3    5   90 3187]\n",
      "  [ 160   14   25    1  148 2943]]\n",
      "\n",
      " [[ 256   19   30   15   69 3475]\n",
      "  [ 196    1   36   12  121 1183]\n",
      "  [ 432    8   31   69   77 1617]\n",
      "  [ 272    4   35   29   88 3915]\n",
      "  [ 416   12   67   25  100 3058]]]\n"
     ]
    },
    {
     "ename": "AttributeError",
     "evalue": "'numpy.ndarray' object has no attribute 'median'",
     "output_type": "error",
     "traceback": [
      "\u001b[1;31m---------------------------------------------------------------------------\u001b[0m",
      "\u001b[1;31mAttributeError\u001b[0m                            Traceback (most recent call last)",
      "\u001b[1;32m~\\AppData\\Local\\Temp\\ipykernel_1068\\552229955.py\u001b[0m in \u001b[0;36m<module>\u001b[1;34m\u001b[0m\n\u001b[0;32m     24\u001b[0m     \u001b[0mprint\u001b[0m\u001b[1;33m(\u001b[0m\u001b[0mfeatures\u001b[0m\u001b[1;33m)\u001b[0m\u001b[1;33m\u001b[0m\u001b[1;33m\u001b[0m\u001b[0m\n\u001b[0;32m     25\u001b[0m \u001b[1;33m\u001b[0m\u001b[0m\n\u001b[1;32m---> 26\u001b[1;33m \u001b[0mcreate_features\u001b[0m\u001b[1;33m(\u001b[0m\u001b[0mnp_groceries\u001b[0m\u001b[1;33m)\u001b[0m\u001b[1;33m\u001b[0m\u001b[1;33m\u001b[0m\u001b[0m\n\u001b[0m",
      "\u001b[1;32m~\\AppData\\Local\\Temp\\ipykernel_1068\\552229955.py\u001b[0m in \u001b[0;36mcreate_features\u001b[1;34m(inst_array)\u001b[0m\n\u001b[0;32m     21\u001b[0m         \u001b[1;31m# 0: Calories. 2: Protein. 3: Carbo. 4: Fat. 5: Quantity. 6: Price.\u001b[0m\u001b[1;33m\u001b[0m\u001b[1;33m\u001b[0m\u001b[0m\n\u001b[0;32m     22\u001b[0m         \u001b[0mfeatures\u001b[0m\u001b[1;33m[\u001b[0m\u001b[0mi\u001b[0m\u001b[1;33m,\u001b[0m\u001b[1;36m0\u001b[0m\u001b[1;33m]\u001b[0m \u001b[1;33m=\u001b[0m \u001b[0mnp_groceries\u001b[0m\u001b[1;33m[\u001b[0m\u001b[0mi\u001b[0m\u001b[1;33m,\u001b[0m\u001b[1;33m:\u001b[0m\u001b[1;33m,\u001b[0m\u001b[1;36m0\u001b[0m\u001b[1;33m]\u001b[0m\u001b[1;33m.\u001b[0m\u001b[0mmean\u001b[0m\u001b[1;33m(\u001b[0m\u001b[1;33m)\u001b[0m\u001b[1;33m\u001b[0m\u001b[1;33m\u001b[0m\u001b[0m\n\u001b[1;32m---> 23\u001b[1;33m         \u001b[0mfeatures\u001b[0m\u001b[1;33m[\u001b[0m\u001b[0mi\u001b[0m\u001b[1;33m,\u001b[0m\u001b[1;36m1\u001b[0m\u001b[1;33m]\u001b[0m \u001b[1;33m=\u001b[0m \u001b[0mnp_groceries\u001b[0m\u001b[1;33m[\u001b[0m\u001b[0mi\u001b[0m\u001b[1;33m,\u001b[0m\u001b[1;33m:\u001b[0m\u001b[1;33m,\u001b[0m\u001b[1;36m0\u001b[0m\u001b[1;33m]\u001b[0m\u001b[1;33m.\u001b[0m\u001b[0mmedian\u001b[0m\u001b[1;33m(\u001b[0m\u001b[1;33m)\u001b[0m\u001b[1;33m\u001b[0m\u001b[1;33m\u001b[0m\u001b[0m\n\u001b[0m\u001b[0;32m     24\u001b[0m     \u001b[0mprint\u001b[0m\u001b[1;33m(\u001b[0m\u001b[0mfeatures\u001b[0m\u001b[1;33m)\u001b[0m\u001b[1;33m\u001b[0m\u001b[1;33m\u001b[0m\u001b[0m\n\u001b[0;32m     25\u001b[0m \u001b[1;33m\u001b[0m\u001b[0m\n",
      "\u001b[1;31mAttributeError\u001b[0m: 'numpy.ndarray' object has no attribute 'median'"
     ]
    }
   ],
   "source": [
    "def get_groceries(g_array):\n",
    "    data_groceries = []\n",
    "    for i in range(0, len(g_array)):\n",
    "        loop_groceries = g_array[i].split(\"groceries = [|\")\n",
    "        loop_groceries = loop_groceries[1].split(\"|];\\nrequirements\")\n",
    "        loop_groceries = loop_groceries[0].split(\"|\")\n",
    "        for j in range(0, len(loop_groceries)):\n",
    "            # Conversion from String to Int Array.\n",
    "            loop_groceries[j] = [int(x) for x in loop_groceries[j].split(\",\")]\n",
    "        data_groceries = data_groceries + [loop_groceries] \n",
    "    #print(np_groceries[0,:,0])\n",
    "    return np.array(data_groceries)\n",
    "\n",
    "np_groceries = get_groceries(il) \n",
    "print(np_groceries)   \n",
    "\n",
    "def create_features(inst_array):\n",
    "    for i in range(0,n_inst):\n",
    "        # features: i in the left represents an Instance; 0,1... in the right represents a Feature.\n",
    "        # np_groceries: i in the left represents an Instance; \":\" represents all rows; 0,1... in the right represents a Macronutrient Column.\n",
    "        # 0: Calories. 2: Protein. 3: Carbo. 4: Fat. 5: Quantity. 6: Price.\n",
    "        features[i,0] = np_groceries[i,:,0].mean()\n",
    "        features[i,1] = np_groceries[i,:,0].std()\n",
    "    print(features)     \n",
    "\n",
    "create_features(np_groceries)"
   ]
  },
  {
   "cell_type": "code",
   "execution_count": 360,
   "id": "48481cba",
   "metadata": {},
   "outputs": [
    {
     "name": "stdout",
     "output_type": "stream",
     "text": [
      "Updated [labels].\n",
      " [3 1]\n"
     ]
    }
   ],
   "source": [
    "def create_labels(n,m):\n",
    "    for i in range(0,n):\n",
    "        labels[i] = np.argmin(m[i])+1\n",
    "    print(\"Updated [labels].\\n\",labels)\n",
    "    \n",
    "create_labels(n_inst, tem)"
   ]
  },
  {
   "cell_type": "code",
   "execution_count": null,
   "id": "324167d1",
   "metadata": {},
   "outputs": [],
   "source": []
  }
 ],
 "metadata": {
  "kernelspec": {
   "display_name": "MENuS",
   "language": "python",
   "name": "menus"
  },
  "language_info": {
   "codemirror_mode": {
    "name": "ipython",
    "version": 3
   },
   "file_extension": ".py",
   "mimetype": "text/x-python",
   "name": "python",
   "nbconvert_exporter": "python",
   "pygments_lexer": "ipython3",
   "version": "3.9.13"
  }
 },
 "nbformat": 4,
 "nbformat_minor": 5
}
