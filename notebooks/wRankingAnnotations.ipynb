{
 "cells": [
  {
   "attachments": {},
   "cell_type": "markdown",
   "id": "4d0c340e-803b-4112-a30f-76dea41b5485",
   "metadata": {},
   "source": [
    "## Install Dependences"
   ]
  },
  {
   "cell_type": "code",
   "execution_count": 36,
   "id": "17813603-3f9f-4429-a616-e586a7dc05d7",
   "metadata": {},
   "outputs": [
    {
     "name": "stdout",
     "output_type": "stream",
     "text": [
      "Requirement already satisfied: tqdm in c:\\users\\juanj\\anaconda3\\envs\\menus\\lib\\site-packages (4.65.0)\n",
      "Requirement already satisfied: colorama in c:\\users\\juanj\\anaconda3\\envs\\menus\\lib\\site-packages (from tqdm) (0.4.6)\n"
     ]
    }
   ],
   "source": [
    "!pip install tqdm"
   ]
  },
  {
   "attachments": {},
   "cell_type": "markdown",
   "id": "255c3b1b-be79-4092-9c1d-0f8851ead39e",
   "metadata": {},
   "source": [
    "# Install Libraries"
   ]
  },
  {
   "cell_type": "code",
   "execution_count": 37,
   "id": "e0d57509-0488-4bfc-8e21-6e707f1a3d1a",
   "metadata": {},
   "outputs": [],
   "source": [
    "import numpy as np\n",
    "import os   \n",
    "import subprocess \n",
    "import random\n",
    "import math\n",
    "\n",
    "# Visual\n",
    "from tqdm import tqdm\n",
    "def print_red(text):\n",
    "    print('\\x1b[31m' + text + '\\x1b[0m')\n",
    "def print_yellow(text):\n",
    "    print('\\x1b[33m' + text + '\\x1b[0m')\n",
    "def print_green(text):\n",
    "    print('\\x1b[32m' + text + '\\x1b[0m')\n",
    "def print_pink(text):\n",
    "    print('\\x1b[35m' + text + '\\x1b[0m')\n",
    "def print_cyan(text):\n",
    "    print('\\x1b[36m' + text + '\\x1b[0m')"
   ]
  },
  {
   "attachments": {},
   "cell_type": "markdown",
   "id": "ab775244-df81-4edc-9606-d2526516c09a",
   "metadata": {},
   "source": [
    "## Ranking all annotations\n",
    "Run all the possible combinations of annotations with different models and stores the winners in the variable *rounds*. There can be multiple winners.\n",
    "\n",
    "***An annotation is a winner if it has the best value above all of the other and the best time.***\n",
    "\n",
    "##### Example of *rounds*\n",
    "\n",
    "|  | Ann_1 | Ann_2 | Ann_3 | Ann_4 | ... | Ann_n |\n",
    "| --- | --- | --- | --- | --- | --- | --- |\n",
    "| Ins_1 | 0 | 0 | 1 | 1 | ... | 0 |\n",
    "| Ins_2 | 0 | 1 | 0 | 0 | ... | 1 |\n",
    "| Ins_3 | 1 | 0 | 1 | 0 | ... | 0 |\n",
    "| ... | ... | ... | ... | ... | ... | ... |\n",
    "| Ins_m | 1 | 0 | 1 | 0 | ... | 0 |"
   ]
  },
  {
   "cell_type": "code",
   "execution_count": 38,
   "id": "b943b2c6-6d9c-4154-a202-0386277f4c09",
   "metadata": {
    "tags": []
   },
   "outputs": [
    {
     "name": "stderr",
     "output_type": "stream",
     "text": [
      "Processing Instance 75: 54items [00:09,  5.86items/s]\n"
     ]
    },
    {
     "name": "stdout",
     "output_type": "stream",
     "text": [
      "\u001b[33mFinished: 0\u001b[0m\n"
     ]
    },
    {
     "name": "stderr",
     "output_type": "stream",
     "text": [
      "Processing Instance 5: 54items [00:06,  8.83items/s]\n"
     ]
    },
    {
     "name": "stdout",
     "output_type": "stream",
     "text": [
      "\u001b[33mFinished: 1\u001b[0m\n"
     ]
    },
    {
     "name": "stderr",
     "output_type": "stream",
     "text": [
      "Processing Instance 93: 54items [00:15,  3.47items/s]\n"
     ]
    },
    {
     "name": "stdout",
     "output_type": "stream",
     "text": [
      "\u001b[33mFinished: 2\u001b[0m\n"
     ]
    },
    {
     "name": "stderr",
     "output_type": "stream",
     "text": [
      "Processing Instance 21: 54items [00:11,  4.81items/s]\n"
     ]
    },
    {
     "name": "stdout",
     "output_type": "stream",
     "text": [
      "\u001b[33mFinished: 3\u001b[0m\n"
     ]
    },
    {
     "name": "stderr",
     "output_type": "stream",
     "text": [
      "Processing Instance 73: 54items [00:18,  2.99items/s]\n"
     ]
    },
    {
     "name": "stdout",
     "output_type": "stream",
     "text": [
      "\u001b[33mFinished: 4\u001b[0m\n"
     ]
    },
    {
     "name": "stderr",
     "output_type": "stream",
     "text": [
      "Processing Instance 92: 54items [00:09,  5.88items/s]\n"
     ]
    },
    {
     "name": "stdout",
     "output_type": "stream",
     "text": [
      "\u001b[33mFinished: 5\u001b[0m\n"
     ]
    },
    {
     "name": "stderr",
     "output_type": "stream",
     "text": [
      "Processing Instance 89: 54items [00:10,  5.34items/s]\n"
     ]
    },
    {
     "name": "stdout",
     "output_type": "stream",
     "text": [
      "\u001b[33mFinished: 6\u001b[0m\n"
     ]
    },
    {
     "name": "stderr",
     "output_type": "stream",
     "text": [
      "Processing Instance 52: 54items [00:09,  5.78items/s]\n"
     ]
    },
    {
     "name": "stdout",
     "output_type": "stream",
     "text": [
      "\u001b[33mFinished: 7\u001b[0m\n"
     ]
    },
    {
     "name": "stderr",
     "output_type": "stream",
     "text": [
      "Processing Instance 3: 54items [00:07,  7.18items/s]\n"
     ]
    },
    {
     "name": "stdout",
     "output_type": "stream",
     "text": [
      "\u001b[33mFinished: 8\u001b[0m\n"
     ]
    },
    {
     "name": "stderr",
     "output_type": "stream",
     "text": [
      "Processing Instance 65: 54items [00:11,  4.58items/s]\n"
     ]
    },
    {
     "name": "stdout",
     "output_type": "stream",
     "text": [
      "\u001b[33mFinished: 9\u001b[0m\n"
     ]
    },
    {
     "name": "stderr",
     "output_type": "stream",
     "text": [
      "Processing Instance 29: 54items [00:11,  4.58items/s]\n"
     ]
    },
    {
     "name": "stdout",
     "output_type": "stream",
     "text": [
      "\u001b[33mFinished: 10\u001b[0m\n"
     ]
    },
    {
     "name": "stderr",
     "output_type": "stream",
     "text": [
      "Processing Instance 54: 54items [00:08,  6.13items/s]\n"
     ]
    },
    {
     "name": "stdout",
     "output_type": "stream",
     "text": [
      "\u001b[33mFinished: 11\u001b[0m\n"
     ]
    },
    {
     "name": "stderr",
     "output_type": "stream",
     "text": [
      "Processing Instance 27: 54items [00:06,  8.37items/s]\n"
     ]
    },
    {
     "name": "stdout",
     "output_type": "stream",
     "text": [
      "\u001b[33mFinished: 12\u001b[0m\n"
     ]
    },
    {
     "name": "stderr",
     "output_type": "stream",
     "text": [
      "Processing Instance 91: 54items [00:12,  4.22items/s]\n"
     ]
    },
    {
     "name": "stdout",
     "output_type": "stream",
     "text": [
      "\u001b[33mFinished: 13\u001b[0m\n"
     ]
    },
    {
     "name": "stderr",
     "output_type": "stream",
     "text": [
      "Processing Instance 37: 54items [00:07,  6.83items/s]\n"
     ]
    },
    {
     "name": "stdout",
     "output_type": "stream",
     "text": [
      "\u001b[33mFinished: 14\u001b[0m\n"
     ]
    },
    {
     "name": "stderr",
     "output_type": "stream",
     "text": [
      "Processing Instance 30: 54items [00:11,  4.90items/s]\n"
     ]
    },
    {
     "name": "stdout",
     "output_type": "stream",
     "text": [
      "\u001b[33mFinished: 15\u001b[0m\n"
     ]
    },
    {
     "name": "stderr",
     "output_type": "stream",
     "text": [
      "Processing Instance 88: 54items [00:09,  5.50items/s]\n"
     ]
    },
    {
     "name": "stdout",
     "output_type": "stream",
     "text": [
      "\u001b[33mFinished: 16\u001b[0m\n"
     ]
    },
    {
     "name": "stderr",
     "output_type": "stream",
     "text": [
      "Processing Instance 63: 54items [00:08,  6.32items/s]\n"
     ]
    },
    {
     "name": "stdout",
     "output_type": "stream",
     "text": [
      "\u001b[33mFinished: 17\u001b[0m\n"
     ]
    },
    {
     "name": "stderr",
     "output_type": "stream",
     "text": [
      "Processing Instance 56: 54items [00:08,  6.11items/s]\n"
     ]
    },
    {
     "name": "stdout",
     "output_type": "stream",
     "text": [
      "\u001b[33mFinished: 18\u001b[0m\n"
     ]
    },
    {
     "name": "stderr",
     "output_type": "stream",
     "text": [
      "Processing Instance 0: 54items [00:10,  5.17items/s]\n"
     ]
    },
    {
     "name": "stdout",
     "output_type": "stream",
     "text": [
      "\u001b[33mFinished: 19\u001b[0m\n"
     ]
    },
    {
     "name": "stderr",
     "output_type": "stream",
     "text": [
      "Processing Instance 26: 54items [00:11,  4.73items/s]\n"
     ]
    },
    {
     "name": "stdout",
     "output_type": "stream",
     "text": [
      "\u001b[33mFinished: 20\u001b[0m\n"
     ]
    },
    {
     "name": "stderr",
     "output_type": "stream",
     "text": [
      "Processing Instance 97: 54items [00:09,  5.48items/s]\n"
     ]
    },
    {
     "name": "stdout",
     "output_type": "stream",
     "text": [
      "\u001b[33mFinished: 21\u001b[0m\n"
     ]
    },
    {
     "name": "stderr",
     "output_type": "stream",
     "text": [
      "Processing Instance 70: 54items [00:17,  3.01items/s]\n"
     ]
    },
    {
     "name": "stdout",
     "output_type": "stream",
     "text": [
      "\u001b[33mFinished: 22\u001b[0m\n"
     ]
    },
    {
     "name": "stderr",
     "output_type": "stream",
     "text": [
      "Processing Instance 55: 54items [00:11,  4.61items/s]\n"
     ]
    },
    {
     "name": "stdout",
     "output_type": "stream",
     "text": [
      "\u001b[33mFinished: 23\u001b[0m\n"
     ]
    },
    {
     "name": "stderr",
     "output_type": "stream",
     "text": [
      "Processing Instance 46: 54items [00:07,  6.79items/s]\n"
     ]
    },
    {
     "name": "stdout",
     "output_type": "stream",
     "text": [
      "\u001b[33mFinished: 24\u001b[0m\n"
     ]
    },
    {
     "name": "stderr",
     "output_type": "stream",
     "text": [
      "Processing Instance 0: 54items [00:10,  5.17items/s]\n"
     ]
    },
    {
     "name": "stdout",
     "output_type": "stream",
     "text": [
      "\u001b[33mFinished: 25\u001b[0m\n"
     ]
    },
    {
     "name": "stderr",
     "output_type": "stream",
     "text": [
      "Processing Instance 76: 54items [00:16,  3.20items/s]\n"
     ]
    },
    {
     "name": "stdout",
     "output_type": "stream",
     "text": [
      "\u001b[33mFinished: 26\u001b[0m\n"
     ]
    },
    {
     "name": "stderr",
     "output_type": "stream",
     "text": [
      "Processing Instance 24: 54items [00:11,  4.82items/s]\n"
     ]
    },
    {
     "name": "stdout",
     "output_type": "stream",
     "text": [
      "\u001b[33mFinished: 27\u001b[0m\n"
     ]
    },
    {
     "name": "stderr",
     "output_type": "stream",
     "text": [
      "Processing Instance 99: 54items [00:10,  5.18items/s]\n"
     ]
    },
    {
     "name": "stdout",
     "output_type": "stream",
     "text": [
      "\u001b[33mFinished: 28\u001b[0m\n"
     ]
    },
    {
     "name": "stderr",
     "output_type": "stream",
     "text": [
      "Processing Instance 59: 54items [00:09,  5.75items/s]\n"
     ]
    },
    {
     "name": "stdout",
     "output_type": "stream",
     "text": [
      "\u001b[33mFinished: 29\u001b[0m\n"
     ]
    },
    {
     "name": "stderr",
     "output_type": "stream",
     "text": [
      "Processing Instance 56: 54items [00:08,  6.12items/s]\n"
     ]
    },
    {
     "name": "stdout",
     "output_type": "stream",
     "text": [
      "\u001b[33mFinished: 30\u001b[0m\n"
     ]
    },
    {
     "name": "stderr",
     "output_type": "stream",
     "text": [
      "Processing Instance 54: 54items [00:08,  6.13items/s]\n"
     ]
    },
    {
     "name": "stdout",
     "output_type": "stream",
     "text": [
      "\u001b[33mFinished: 31\u001b[0m\n"
     ]
    },
    {
     "name": "stderr",
     "output_type": "stream",
     "text": [
      "Processing Instance 69: 54items [00:09,  5.92items/s]\n"
     ]
    },
    {
     "name": "stdout",
     "output_type": "stream",
     "text": [
      "\u001b[33mFinished: 32\u001b[0m\n"
     ]
    },
    {
     "name": "stderr",
     "output_type": "stream",
     "text": [
      "Processing Instance 51: 54items [00:10,  4.95items/s]\n"
     ]
    },
    {
     "name": "stdout",
     "output_type": "stream",
     "text": [
      "\u001b[33mFinished: 33\u001b[0m\n"
     ]
    },
    {
     "name": "stderr",
     "output_type": "stream",
     "text": [
      "Processing Instance 37: 54items [00:07,  6.82items/s]\n"
     ]
    },
    {
     "name": "stdout",
     "output_type": "stream",
     "text": [
      "\u001b[33mFinished: 34\u001b[0m\n"
     ]
    },
    {
     "name": "stderr",
     "output_type": "stream",
     "text": [
      "Processing Instance 33: 54items [00:09,  5.46items/s]\n"
     ]
    },
    {
     "name": "stdout",
     "output_type": "stream",
     "text": [
      "\u001b[33mFinished: 35\u001b[0m\n"
     ]
    },
    {
     "name": "stderr",
     "output_type": "stream",
     "text": [
      "Processing Instance 79: 54items [00:17,  3.00items/s]\n"
     ]
    },
    {
     "name": "stdout",
     "output_type": "stream",
     "text": [
      "\u001b[33mFinished: 36\u001b[0m\n"
     ]
    },
    {
     "name": "stderr",
     "output_type": "stream",
     "text": [
      "Processing Instance 10: 54items [00:12,  4.39items/s]\n"
     ]
    },
    {
     "name": "stdout",
     "output_type": "stream",
     "text": [
      "\u001b[33mFinished: 37\u001b[0m\n"
     ]
    },
    {
     "name": "stderr",
     "output_type": "stream",
     "text": [
      "Processing Instance 36: 54items [00:12,  4.24items/s]\n"
     ]
    },
    {
     "name": "stdout",
     "output_type": "stream",
     "text": [
      "\u001b[33mFinished: 38\u001b[0m\n"
     ]
    },
    {
     "name": "stderr",
     "output_type": "stream",
     "text": [
      "Processing Instance 14: 54items [00:11,  4.76items/s]\n"
     ]
    },
    {
     "name": "stdout",
     "output_type": "stream",
     "text": [
      "\u001b[33mFinished: 39\u001b[0m\n"
     ]
    },
    {
     "name": "stderr",
     "output_type": "stream",
     "text": [
      "Processing Instance 68: 54items [00:13,  4.00items/s]\n"
     ]
    },
    {
     "name": "stdout",
     "output_type": "stream",
     "text": [
      "\u001b[33mFinished: 40\u001b[0m\n"
     ]
    },
    {
     "name": "stderr",
     "output_type": "stream",
     "text": [
      "Processing Instance 48: 54items [00:14,  3.76items/s]\n"
     ]
    },
    {
     "name": "stdout",
     "output_type": "stream",
     "text": [
      "\u001b[33mFinished: 41\u001b[0m\n"
     ]
    },
    {
     "name": "stderr",
     "output_type": "stream",
     "text": [
      "Processing Instance 41: 54items [00:10,  5.05items/s]\n"
     ]
    },
    {
     "name": "stdout",
     "output_type": "stream",
     "text": [
      "\u001b[33mFinished: 42\u001b[0m\n"
     ]
    },
    {
     "name": "stderr",
     "output_type": "stream",
     "text": [
      "Processing Instance 73: 54items [00:18,  2.99items/s]\n"
     ]
    },
    {
     "name": "stdout",
     "output_type": "stream",
     "text": [
      "\u001b[33mFinished: 43\u001b[0m\n"
     ]
    },
    {
     "name": "stderr",
     "output_type": "stream",
     "text": [
      "Processing Instance 70: 54items [00:17,  3.00items/s]\n"
     ]
    },
    {
     "name": "stdout",
     "output_type": "stream",
     "text": [
      "\u001b[33mFinished: 44\u001b[0m\n"
     ]
    },
    {
     "name": "stderr",
     "output_type": "stream",
     "text": [
      "Processing Instance 15: 54items [00:14,  3.75items/s]\n"
     ]
    },
    {
     "name": "stdout",
     "output_type": "stream",
     "text": [
      "\u001b[33mFinished: 45\u001b[0m\n"
     ]
    },
    {
     "name": "stderr",
     "output_type": "stream",
     "text": [
      "Processing Instance 84: 54items [00:10,  5.12items/s]\n"
     ]
    },
    {
     "name": "stdout",
     "output_type": "stream",
     "text": [
      "\u001b[33mFinished: 46\u001b[0m\n"
     ]
    },
    {
     "name": "stderr",
     "output_type": "stream",
     "text": [
      "Processing Instance 60: 54items [00:07,  6.86items/s]\n"
     ]
    },
    {
     "name": "stdout",
     "output_type": "stream",
     "text": [
      "\u001b[33mFinished: 47\u001b[0m\n"
     ]
    },
    {
     "name": "stderr",
     "output_type": "stream",
     "text": [
      "Processing Instance 87: 54items [00:10,  5.16items/s]\n"
     ]
    },
    {
     "name": "stdout",
     "output_type": "stream",
     "text": [
      "\u001b[33mFinished: 48\u001b[0m\n"
     ]
    },
    {
     "name": "stderr",
     "output_type": "stream",
     "text": [
      "Processing Instance 24: 54items [00:11,  4.87items/s]\n"
     ]
    },
    {
     "name": "stdout",
     "output_type": "stream",
     "text": [
      "\u001b[33mFinished: 49\u001b[0m\n"
     ]
    },
    {
     "name": "stderr",
     "output_type": "stream",
     "text": [
      "Processing Instance 26: 54items [00:11,  4.74items/s]\n"
     ]
    },
    {
     "name": "stdout",
     "output_type": "stream",
     "text": [
      "\u001b[33mFinished: 50\u001b[0m\n"
     ]
    },
    {
     "name": "stderr",
     "output_type": "stream",
     "text": [
      "Processing Instance 88: 54items [00:09,  5.48items/s]\n"
     ]
    },
    {
     "name": "stdout",
     "output_type": "stream",
     "text": [
      "\u001b[33mFinished: 51\u001b[0m\n"
     ]
    },
    {
     "name": "stderr",
     "output_type": "stream",
     "text": [
      "Processing Instance 22: 54items [00:25,  2.14items/s]\n"
     ]
    },
    {
     "name": "stdout",
     "output_type": "stream",
     "text": [
      "\u001b[33mFinished: 52\u001b[0m\n"
     ]
    },
    {
     "name": "stderr",
     "output_type": "stream",
     "text": [
      "Processing Instance 10: 54items [00:12,  4.35items/s]\n"
     ]
    },
    {
     "name": "stdout",
     "output_type": "stream",
     "text": [
      "\u001b[33mFinished: 53\u001b[0m\n"
     ]
    },
    {
     "name": "stderr",
     "output_type": "stream",
     "text": [
      "Processing Instance 50: 54items [00:10,  5.39items/s]\n"
     ]
    },
    {
     "name": "stdout",
     "output_type": "stream",
     "text": [
      "\u001b[33mFinished: 54\u001b[0m\n"
     ]
    },
    {
     "name": "stderr",
     "output_type": "stream",
     "text": [
      "Processing Instance 37: 54items [00:07,  6.83items/s]\n"
     ]
    },
    {
     "name": "stdout",
     "output_type": "stream",
     "text": [
      "\u001b[33mFinished: 55\u001b[0m\n"
     ]
    },
    {
     "name": "stderr",
     "output_type": "stream",
     "text": [
      "Processing Instance 28: 54items [00:08,  6.13items/s]\n"
     ]
    },
    {
     "name": "stdout",
     "output_type": "stream",
     "text": [
      "\u001b[33mFinished: 56\u001b[0m\n"
     ]
    },
    {
     "name": "stderr",
     "output_type": "stream",
     "text": [
      "Processing Instance 91: 54items [00:12,  4.22items/s]\n"
     ]
    },
    {
     "name": "stdout",
     "output_type": "stream",
     "text": [
      "\u001b[33mFinished: 57\u001b[0m\n"
     ]
    },
    {
     "name": "stderr",
     "output_type": "stream",
     "text": [
      "Processing Instance 99: 54items [00:10,  5.19items/s]\n"
     ]
    },
    {
     "name": "stdout",
     "output_type": "stream",
     "text": [
      "\u001b[33mFinished: 58\u001b[0m\n"
     ]
    },
    {
     "name": "stderr",
     "output_type": "stream",
     "text": [
      "Processing Instance 53: 54items [00:10,  5.20items/s]\n"
     ]
    },
    {
     "name": "stdout",
     "output_type": "stream",
     "text": [
      "\u001b[33mFinished: 59\u001b[0m\n"
     ]
    },
    {
     "name": "stderr",
     "output_type": "stream",
     "text": [
      "Processing Instance 36: 54items [00:12,  4.23items/s]\n"
     ]
    },
    {
     "name": "stdout",
     "output_type": "stream",
     "text": [
      "\u001b[33mFinished: 60\u001b[0m\n"
     ]
    },
    {
     "name": "stderr",
     "output_type": "stream",
     "text": [
      "Processing Instance 6: 54items [00:12,  4.25items/s]\n"
     ]
    },
    {
     "name": "stdout",
     "output_type": "stream",
     "text": [
      "\u001b[33mFinished: 61\u001b[0m\n"
     ]
    },
    {
     "name": "stderr",
     "output_type": "stream",
     "text": [
      "Processing Instance 71: 54items [00:08,  6.70items/s]\n"
     ]
    },
    {
     "name": "stdout",
     "output_type": "stream",
     "text": [
      "\u001b[33mFinished: 62\u001b[0m\n"
     ]
    },
    {
     "name": "stderr",
     "output_type": "stream",
     "text": [
      "Processing Instance 11: 54items [00:09,  5.61items/s]\n"
     ]
    },
    {
     "name": "stdout",
     "output_type": "stream",
     "text": [
      "\u001b[33mFinished: 63\u001b[0m\n"
     ]
    },
    {
     "name": "stderr",
     "output_type": "stream",
     "text": [
      "Processing Instance 47: 54items [00:12,  4.26items/s]\n"
     ]
    },
    {
     "name": "stdout",
     "output_type": "stream",
     "text": [
      "\u001b[33mFinished: 64\u001b[0m\n"
     ]
    },
    {
     "name": "stderr",
     "output_type": "stream",
     "text": [
      "Processing Instance 72: 54items [00:10,  5.20items/s]\n"
     ]
    },
    {
     "name": "stdout",
     "output_type": "stream",
     "text": [
      "\u001b[33mFinished: 65\u001b[0m\n"
     ]
    },
    {
     "name": "stderr",
     "output_type": "stream",
     "text": [
      "Processing Instance 99: 54items [00:10,  5.17items/s]\n"
     ]
    },
    {
     "name": "stdout",
     "output_type": "stream",
     "text": [
      "\u001b[33mFinished: 66\u001b[0m\n"
     ]
    },
    {
     "name": "stderr",
     "output_type": "stream",
     "text": [
      "Processing Instance 0: 54items [00:10,  5.09items/s]\n"
     ]
    },
    {
     "name": "stdout",
     "output_type": "stream",
     "text": [
      "\u001b[33mFinished: 67\u001b[0m\n"
     ]
    },
    {
     "name": "stderr",
     "output_type": "stream",
     "text": [
      "Processing Instance 14: 54items [00:11,  4.72items/s]\n"
     ]
    },
    {
     "name": "stdout",
     "output_type": "stream",
     "text": [
      "\u001b[33mFinished: 68\u001b[0m\n"
     ]
    },
    {
     "name": "stderr",
     "output_type": "stream",
     "text": [
      "Processing Instance 56: 54items [00:08,  6.18items/s]\n"
     ]
    },
    {
     "name": "stdout",
     "output_type": "stream",
     "text": [
      "\u001b[33mFinished: 69\u001b[0m\n"
     ]
    },
    {
     "name": "stderr",
     "output_type": "stream",
     "text": [
      "Processing Instance 90: 54items [00:19,  2.80items/s]\n"
     ]
    },
    {
     "name": "stdout",
     "output_type": "stream",
     "text": [
      "\u001b[33mFinished: 70\u001b[0m\n"
     ]
    },
    {
     "name": "stderr",
     "output_type": "stream",
     "text": [
      "Processing Instance 3: 54items [00:07,  7.30items/s]\n"
     ]
    },
    {
     "name": "stdout",
     "output_type": "stream",
     "text": [
      "\u001b[33mFinished: 71\u001b[0m\n"
     ]
    },
    {
     "name": "stderr",
     "output_type": "stream",
     "text": [
      "Processing Instance 21: 54items [00:11,  4.83items/s]\n"
     ]
    },
    {
     "name": "stdout",
     "output_type": "stream",
     "text": [
      "\u001b[33mFinished: 72\u001b[0m\n"
     ]
    },
    {
     "name": "stderr",
     "output_type": "stream",
     "text": [
      "Processing Instance 25: 54items [00:10,  5.32items/s]\n"
     ]
    },
    {
     "name": "stdout",
     "output_type": "stream",
     "text": [
      "\u001b[33mFinished: 73\u001b[0m\n"
     ]
    },
    {
     "name": "stderr",
     "output_type": "stream",
     "text": [
      "Processing Instance 21: 54items [00:11,  4.83items/s]\n"
     ]
    },
    {
     "name": "stdout",
     "output_type": "stream",
     "text": [
      "\u001b[33mFinished: 74\u001b[0m\n"
     ]
    },
    {
     "name": "stderr",
     "output_type": "stream",
     "text": [
      "Processing Instance 8: 54items [00:27,  1.98items/s]\n"
     ]
    },
    {
     "name": "stdout",
     "output_type": "stream",
     "text": [
      "\u001b[33mFinished: 75\u001b[0m\n"
     ]
    },
    {
     "name": "stderr",
     "output_type": "stream",
     "text": [
      "Processing Instance 26: 54items [00:11,  4.80items/s]\n"
     ]
    },
    {
     "name": "stdout",
     "output_type": "stream",
     "text": [
      "\u001b[33mFinished: 76\u001b[0m\n"
     ]
    },
    {
     "name": "stderr",
     "output_type": "stream",
     "text": [
      "Processing Instance 49: 54items [00:07,  7.24items/s]\n"
     ]
    },
    {
     "name": "stdout",
     "output_type": "stream",
     "text": [
      "\u001b[33mFinished: 77\u001b[0m\n"
     ]
    },
    {
     "name": "stderr",
     "output_type": "stream",
     "text": [
      "Processing Instance 31: 54items [00:13,  4.09items/s]\n"
     ]
    },
    {
     "name": "stdout",
     "output_type": "stream",
     "text": [
      "\u001b[33mFinished: 78\u001b[0m\n"
     ]
    },
    {
     "name": "stderr",
     "output_type": "stream",
     "text": [
      "Processing Instance 76: 54items [00:16,  3.29items/s]\n"
     ]
    },
    {
     "name": "stdout",
     "output_type": "stream",
     "text": [
      "\u001b[33mFinished: 79\u001b[0m\n"
     ]
    },
    {
     "name": "stderr",
     "output_type": "stream",
     "text": [
      "Processing Instance 68: 54items [00:13,  3.99items/s]\n"
     ]
    },
    {
     "name": "stdout",
     "output_type": "stream",
     "text": [
      "\u001b[33mFinished: 80\u001b[0m\n"
     ]
    },
    {
     "name": "stderr",
     "output_type": "stream",
     "text": [
      "Processing Instance 16: 54items [00:12,  4.26items/s]\n"
     ]
    },
    {
     "name": "stdout",
     "output_type": "stream",
     "text": [
      "\u001b[33mFinished: 81\u001b[0m\n"
     ]
    },
    {
     "name": "stderr",
     "output_type": "stream",
     "text": [
      "Processing Instance 7: 54items [00:09,  5.42items/s]\n"
     ]
    },
    {
     "name": "stdout",
     "output_type": "stream",
     "text": [
      "\u001b[33mFinished: 82\u001b[0m\n"
     ]
    },
    {
     "name": "stderr",
     "output_type": "stream",
     "text": [
      "Processing Instance 44: 54items [00:15,  3.53items/s]\n"
     ]
    },
    {
     "name": "stdout",
     "output_type": "stream",
     "text": [
      "\u001b[33mFinished: 83\u001b[0m\n"
     ]
    },
    {
     "name": "stderr",
     "output_type": "stream",
     "text": [
      "Processing Instance 75: 54items [00:08,  6.08items/s]\n"
     ]
    },
    {
     "name": "stdout",
     "output_type": "stream",
     "text": [
      "\u001b[33mFinished: 84\u001b[0m\n"
     ]
    },
    {
     "name": "stderr",
     "output_type": "stream",
     "text": [
      "Processing Instance 67: 54items [00:05,  9.11items/s]\n"
     ]
    },
    {
     "name": "stdout",
     "output_type": "stream",
     "text": [
      "\u001b[33mFinished: 85\u001b[0m\n"
     ]
    },
    {
     "name": "stderr",
     "output_type": "stream",
     "text": [
      "Processing Instance 99: 54items [00:10,  5.30items/s]\n"
     ]
    },
    {
     "name": "stdout",
     "output_type": "stream",
     "text": [
      "\u001b[33mFinished: 86\u001b[0m\n"
     ]
    },
    {
     "name": "stderr",
     "output_type": "stream",
     "text": [
      "Processing Instance 2: 54items [00:09,  5.96items/s]\n"
     ]
    },
    {
     "name": "stdout",
     "output_type": "stream",
     "text": [
      "\u001b[33mFinished: 87\u001b[0m\n"
     ]
    },
    {
     "name": "stderr",
     "output_type": "stream",
     "text": [
      "Processing Instance 73: 54items [00:17,  3.06items/s]\n"
     ]
    },
    {
     "name": "stdout",
     "output_type": "stream",
     "text": [
      "\u001b[33mFinished: 88\u001b[0m\n"
     ]
    },
    {
     "name": "stderr",
     "output_type": "stream",
     "text": [
      "Processing Instance 52: 54items [00:09,  5.96items/s]\n"
     ]
    },
    {
     "name": "stdout",
     "output_type": "stream",
     "text": [
      "\u001b[33mFinished: 89\u001b[0m\n"
     ]
    },
    {
     "name": "stderr",
     "output_type": "stream",
     "text": [
      "Processing Instance 24: 54items [00:10,  5.00items/s]\n"
     ]
    },
    {
     "name": "stdout",
     "output_type": "stream",
     "text": [
      "\u001b[33mFinished: 90\u001b[0m\n"
     ]
    },
    {
     "name": "stderr",
     "output_type": "stream",
     "text": [
      "Processing Instance 93: 54items [00:15,  3.54items/s]\n"
     ]
    },
    {
     "name": "stdout",
     "output_type": "stream",
     "text": [
      "\u001b[33mFinished: 91\u001b[0m\n"
     ]
    },
    {
     "name": "stderr",
     "output_type": "stream",
     "text": [
      "Processing Instance 23: 54items [00:36,  1.47items/s]\n"
     ]
    },
    {
     "name": "stdout",
     "output_type": "stream",
     "text": [
      "\u001b[33mFinished: 92\u001b[0m\n"
     ]
    },
    {
     "name": "stderr",
     "output_type": "stream",
     "text": [
      "Processing Instance 98: 54items [00:08,  6.46items/s]\n"
     ]
    },
    {
     "name": "stdout",
     "output_type": "stream",
     "text": [
      "\u001b[33mFinished: 93\u001b[0m\n"
     ]
    },
    {
     "name": "stderr",
     "output_type": "stream",
     "text": [
      "Processing Instance 2: 54items [00:09,  5.97items/s]\n"
     ]
    },
    {
     "name": "stdout",
     "output_type": "stream",
     "text": [
      "\u001b[33mFinished: 94\u001b[0m\n"
     ]
    },
    {
     "name": "stderr",
     "output_type": "stream",
     "text": [
      "Processing Instance 18: 54items [00:07,  7.33items/s]\n"
     ]
    },
    {
     "name": "stdout",
     "output_type": "stream",
     "text": [
      "\u001b[33mFinished: 95\u001b[0m\n"
     ]
    },
    {
     "name": "stderr",
     "output_type": "stream",
     "text": [
      "Processing Instance 10: 54items [00:12,  4.50items/s]\n"
     ]
    },
    {
     "name": "stdout",
     "output_type": "stream",
     "text": [
      "\u001b[33mFinished: 96\u001b[0m\n"
     ]
    },
    {
     "name": "stderr",
     "output_type": "stream",
     "text": [
      "Processing Instance 2: 54items [00:09,  5.95items/s]\n"
     ]
    },
    {
     "name": "stdout",
     "output_type": "stream",
     "text": [
      "\u001b[33mFinished: 97\u001b[0m\n"
     ]
    },
    {
     "name": "stderr",
     "output_type": "stream",
     "text": [
      "Processing Instance 65: 54items [00:11,  4.69items/s]\n"
     ]
    },
    {
     "name": "stdout",
     "output_type": "stream",
     "text": [
      "\u001b[33mFinished: 98\u001b[0m\n"
     ]
    },
    {
     "name": "stderr",
     "output_type": "stream",
     "text": [
      "Processing Instance 10: 54items [00:12,  4.49items/s]"
     ]
    },
    {
     "name": "stdout",
     "output_type": "stream",
     "text": [
      "\u001b[33mFinished: 99\u001b[0m\n",
      "\u001b[32mDone!\u001b[0m\n",
      "\u001b[36mSave rounds to another file\u001b[0m\n",
      "\u001b[32mDone!\u001b[0m\n"
     ]
    },
    {
     "name": "stderr",
     "output_type": "stream",
     "text": [
      "\n"
     ]
    }
   ],
   "source": [
    "def select_winners(mnts, times):\n",
    "    winners = [1] * len(mnts)\n",
    "    min_mnt = min(mnts)\n",
    "    min_time = min(times)\n",
    "    # print_green(f'min_mnt {min_mnt} min_time {min_time}.')\n",
    "    for i, mnt in enumerate(mnts):\n",
    "        if math.isinf(mnt):\n",
    "            winners[i] = 0\n",
    "        else:\n",
    "            if mnt == min_mnt:\n",
    "                if times[i] != min_time:\n",
    "                    winners[i] = 0\n",
    "            else:\n",
    "                winners[i] = 0\n",
    "\n",
    "    return winners\n",
    "\n",
    "def annotations_winners(index, models_folder, instances_folder, timeout_mzn, timeout):\n",
    "    annotations = [os.path.join(models_folder, f) for f in os.listdir(models_folder) if f.endswith('.mzn')]\n",
    "    instance = [os.path.join(instances_folder, f) for f in os.listdir(instances_folder) if f.endswith('.dzn')][index]\n",
    "    \n",
    "    mnts = [0] * len(annotations)\n",
    "    times = [0] * len(annotations)\n",
    "    timeout_mzn = timeout_mzn*1000\n",
    "    \n",
    "    for i, annotation in tqdm(enumerate(annotations), desc='Processing Instance '+str(index), unit='items'):\n",
    "        \n",
    "        # Run the minizinc command for the current annotation and data file  \n",
    "        cmd = f\"minizinc --solver HiGHS --output-time {annotation} {instance} --output-time --solver-time-limit {timeout_mzn}\"\n",
    "        proc = subprocess.Popen(cmd, shell=True, stdout=subprocess.PIPE)\n",
    "        try: \n",
    "            # Get output from fzn\n",
    "            stdout, stderr = proc.communicate(timeout=timeout) \n",
    "            stdout = stdout.decode()\n",
    "            try:\n",
    "                # Store value mnt (temp).\n",
    "                start = stdout.find('mnt = ')+6\n",
    "                end = stdout.find(';',start)\n",
    "                mnt = int(stdout[start:end])\n",
    "                # Store value time (temp).\n",
    "                time = float(stdout.split(' ')[-2])\n",
    "            except:\n",
    "                mnt = float('inf')\n",
    "                time = float('inf')\n",
    "            # print_green(f'{annotation[10:-4]} with {instance[3:-4]} SOLVED: {mnt} in {time:.2f} seconds.')\n",
    "\n",
    "        except subprocess.TimeoutExpired: \n",
    "            print_red(f'Error from minizinc: Stopping.')                \n",
    "            mnt = float('inf')\n",
    "            time = float('inf')\n",
    "            if os.name == 'nt': # If the os is Windows\n",
    "                subprocess.call(['taskkill', '/F', '/T', '/PID', str(proc.pid)]) # Force kill the process\n",
    "            else:\n",
    "                os.killpg(os.getpgid(proc.pid), signal.SIGTERM) # Kill the process group\n",
    "                \n",
    "        mnts[i] = mnt\n",
    "        times[i] = time\n",
    "    # print('mnts',mnts)\n",
    "    # print('times',times)\n",
    "    return select_winners(mnts,times)\n",
    "\n",
    "n_instances = 100\n",
    "rounds = np.zeros((n_instances, len([os.path.join('../models', f) for f in os.listdir('../models') if f.endswith('.mzn')])))\n",
    "\n",
    "# loop through the list with a progress bar\n",
    "for i in range(0, n_instances):\n",
    "    instance = random.randint(0,n_instances-1)\n",
    "    rounds[i]=np.array(annotations_winners(instance, '../models', '../instances',5, 10))\n",
    "    print_yellow(f'Finished: {i}')\n",
    "print_green(f'Done!')\n",
    "\n",
    "# Save rounds to another file\n",
    "print_cyan(f'Save rounds to another file')\n",
    "path = '../models/rounds.txt'\n",
    "with open(path, 'w', encoding='utf8') as file_object:\n",
    "    file_object.write(str(rounds.tolist()))\n",
    "print_green(f'Done!')"
   ]
  },
  {
   "attachments": {},
   "cell_type": "markdown",
   "id": "78f8077b-90a6-4f4b-8e70-0d26e561510f",
   "metadata": {},
   "source": [
    "## Store and transform *rounds*\n",
    "\n",
    "Save *rounds* to another file, sum all the rounds to get the best annotation."
   ]
  },
  {
   "cell_type": "code",
   "execution_count": 71,
   "id": "a6d1ef13-9b42-4ec4-b486-dcd0f66b2922",
   "metadata": {},
   "outputs": [
    {
     "name": "stdout",
     "output_type": "stream",
     "text": [
      "\u001b[35mrounds\u001b[0m\n",
      "[[1. 1. 1. ... 0. 1. 1.]\n",
      " [0. 0. 0. ... 0. 0. 0.]\n",
      " [1. 1. 1. ... 1. 1. 1.]\n",
      " ...\n",
      " [1. 1. 1. ... 0. 1. 1.]\n",
      " [0. 0. 0. ... 0. 0. 0.]\n",
      " [0. 0. 1. ... 0. 0. 0.]]\n",
      "\u001b[35m\n",
      "Final score:\u001b[0m\n",
      "[41 57 63 62 57 64 60 65 56 61 65 62 61 64 64 60 67 63 63 64 61 62 65 66\n",
      " 60 64 58 65 67 63 64 66 61 65 62 64 65 65 63 62 66 63 63 62 60 66 66 61\n",
      " 57 64 66 59 67 62]\n"
     ]
    }
   ],
   "source": [
    "rounds = ''\n",
    "with open('../models/rounds.txt', encoding=\"utf8\") as file_object:\n",
    "    rounds = np.array(eval(file_object.read()))\n",
    "        \n",
    "print_pink(\"rounds\")\n",
    "print(rounds)\n",
    "\n",
    "# sum the rounds\n",
    "scores = np.sum(rounds, axis=0)\n",
    "scores = scores.astype(int)\n",
    "\n",
    "# print the scores\n",
    "print_pink(\"\\nFinal score:\")\n",
    "print(scores)"
   ]
  },
  {
   "attachments": {},
   "cell_type": "markdown",
   "id": "3f4a40c5-0a8a-4391-9105-f1f1347918c4",
   "metadata": {},
   "source": [
    "## Plot the scores on a bar chart."
   ]
  },
  {
   "cell_type": "code",
   "execution_count": 72,
   "id": "b8b5ff73-09c2-41ae-b4ff-eb328bda9ecb",
   "metadata": {
    "tags": []
   },
   "outputs": [
    {
     "data": {
      "image/png": "[encoded data removed]",
      "text/plain": [
       "<Figure size 800x1200 with 1 Axes>"
      ]
     },
     "metadata": {},
     "output_type": "display_data"
    }
   ],
   "source": [
    "import matplotlib.pyplot as plt \n",
    "\n",
    "# Define figure size\n",
    "fig, ax = plt.subplots(figsize=(8, 12))\n",
    "\n",
    "models_folder = '../models'  \n",
    "models = [os.path.join(models_folder, f) for f in os.listdir(models_folder) if f.endswith('.mzn')]\n",
    "# Filter models and times\n",
    "models = [model.replace(\"../models\\\\\", \"\").replace(\".mzn\", \"\") for model in models]\n",
    "\n",
    "# Set different color for bars with highest values\n",
    "max_idx = np.max(scores)\n",
    "# colors = ['#b03060' if score != max_idx else 'green' for score in scores]\n",
    "\n",
    "def hex_to_RGB(hex_str):\n",
    "    \"\"\" #FFFFFF -> [255,255,255]\"\"\"\n",
    "    #Pass 16 to the integer function for change of base\n",
    "    return [int(hex_str[i:i+2], 16) for i in range(1,6,2)]\n",
    "\n",
    "def get_color_gradient(c1, c2, n):\n",
    "    \"\"\"\n",
    "    Given two hex colors, returns a color gradient\n",
    "    with n colors.\n",
    "    \"\"\"\n",
    "    assert n > 1\n",
    "    c1_rgb = np.array(hex_to_RGB(c1))/255\n",
    "    c2_rgb = np.array(hex_to_RGB(c2))/255\n",
    "    mix_pcts = [x/(n-1) for x in range(n)]\n",
    "    rgb_colors = [((1-mix)*c1_rgb + (mix*c2_rgb)) for mix in mix_pcts]\n",
    "    return [\"#\" + \"\".join([format(int(round(val*255)), \"02x\") for val in item]) for item in rgb_colors]\n",
    "\n",
    "color1 = \"#b0303f\"\n",
    "color2 = \"#15e673\"\n",
    "colors = get_color_gradient(color1, color2, len(scores))\n",
    "# Use barh function to create horizontal bar chart\n",
    "ax.barh(models, scores, color=colors)\n",
    "\n",
    "# Set x-axis label and y-axis label\n",
    "ax.set_xlabel('Scores (Won rounds)')\n",
    "ax.set_ylabel('Annotations')\n",
    "\n",
    "# Add value labels next to each bar\n",
    "for i, v in enumerate(scores):\n",
    "    ax.text(v, i, str(v), color='black', ha='left', va='center')\n",
    "\n",
    "# Show the plot\n",
    "plt.show()\n"
   ]
  }
 ],
 "metadata": {
  "kernelspec": {
   "display_name": "MENuS",
   "language": "python",
   "name": "menus"
  },
  "language_info": {
   "codemirror_mode": {
    "name": "ipython",
    "version": 3
   },
   "file_extension": ".py",
   "mimetype": "text/x-python",
   "name": "python",
   "nbconvert_exporter": "python",
   "pygments_lexer": "ipython3",
   "version": "3.10.9"
  }
 },
 "nbformat": 4,
 "nbformat_minor": 5
}
