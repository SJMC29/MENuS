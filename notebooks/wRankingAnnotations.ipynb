{
 "cells": [
  {
   "cell_type": "markdown",
   "id": "227290c0-22c8-4ef7-be0d-6d84baca13e4",
   "metadata": {},
   "source": [
    "# Timer"
   ]
  },
  {
   "cell_type": "code",
   "execution_count": 195,
   "id": "b4723b91-7afc-4977-b10f-4c18588402ba",
   "metadata": {
    "tags": []
   },
   "outputs": [],
   "source": [
    "def print_red(text):\n",
    "    print('\\x1b[31m' + text + '\\x1b[0m')\n",
    "    \n",
    "def print_yellow(text):\n",
    "    print('\\x1b[33m' + text + '\\x1b[0m')\n",
    "\n",
    "def print_green(text):\n",
    "    print('\\x1b[32m' + text + '\\x1b[0m')\n",
    "\n",
    "def print_pink(text):\n",
    "    print('\\x1b[35m' + text + '\\x1b[0m')\n",
    "\n",
    "def print_cyan(text):\n",
    "    print('\\x1b[36m' + text + '\\x1b[0m')"
   ]
  },
  {
   "cell_type": "code",
   "execution_count": 196,
   "id": "2c12f68f-73a1-46b5-959b-2c841653356b",
   "metadata": {},
   "outputs": [
    {
     "ename": "ValueError",
     "evalue": "could not broadcast input array from shape (8,) into shape (54,)",
     "output_type": "error",
     "traceback": [
      "\u001b[1;31m---------------------------------------------------------------------------\u001b[0m",
      "\u001b[1;31mValueError\u001b[0m                                Traceback (most recent call last)",
      "Cell \u001b[1;32mIn[196], line 2\u001b[0m\n\u001b[0;32m      1\u001b[0m matrix \u001b[38;5;241m=\u001b[39m np\u001b[38;5;241m.\u001b[39mzeros((\u001b[38;5;241m2\u001b[39m, \u001b[38;5;28mlen\u001b[39m([os\u001b[38;5;241m.\u001b[39mpath\u001b[38;5;241m.\u001b[39mjoin(\u001b[38;5;124m'\u001b[39m\u001b[38;5;124m../models\u001b[39m\u001b[38;5;124m'\u001b[39m, f) \u001b[38;5;28;01mfor\u001b[39;00m f \u001b[38;5;129;01min\u001b[39;00m os\u001b[38;5;241m.\u001b[39mlistdir(\u001b[38;5;124m'\u001b[39m\u001b[38;5;124m../models\u001b[39m\u001b[38;5;124m'\u001b[39m) \u001b[38;5;28;01mif\u001b[39;00m f\u001b[38;5;241m.\u001b[39mendswith(\u001b[38;5;124m'\u001b[39m\u001b[38;5;124m.mzn\u001b[39m\u001b[38;5;124m'\u001b[39m)])))\n\u001b[1;32m----> 2\u001b[0m matrix[\u001b[38;5;241m0\u001b[39m] \u001b[38;5;241m=\u001b[39m [\u001b[38;5;241m0\u001b[39m, \u001b[38;5;241m0\u001b[39m, \u001b[38;5;241m0\u001b[39m, \u001b[38;5;241m0\u001b[39m, \u001b[38;5;241m0\u001b[39m, \u001b[38;5;241m0\u001b[39m, \u001b[38;5;241m0\u001b[39m, \u001b[38;5;241m1\u001b[39m]\n\u001b[0;32m      3\u001b[0m \u001b[38;5;28mprint\u001b[39m(matrix)\n",
      "\u001b[1;31mValueError\u001b[0m: could not broadcast input array from shape (8,) into shape (54,)"
     ]
    }
   ],
   "source": [
    "\n",
    "matrix = np.zeros((2, len([os.path.join('../models', f) for f in os.listdir('../models') if f.endswith('.mzn')])))\n",
    "matrix[0] = [0, 0, 0, 0, 0, 0, 0, 1]\n",
    "print(matrix)"
   ]
  },
  {
   "cell_type": "markdown",
   "id": "ab6e4179-a6fc-4bf4-97dd-33aef03a3b97",
   "metadata": {},
   "source": [
    "## Ranking all annotations"
   ]
  },
  {
   "cell_type": "code",
   "execution_count": null,
   "id": "b943b2c6-6d9c-4154-a202-0386277f4c09",
   "metadata": {
    "tags": []
   },
   "outputs": [],
   "source": [
    "import os   \n",
    "import subprocess \n",
    "import random\n",
    "import numpy as np\n",
    "\n",
    "def select_winners(mnts, times):\n",
    "    winners = [1] * len(mnts)\n",
    "    min_mnt = min(mnts)\n",
    "    min_time = min(times)\n",
    "    \n",
    "    print('min_mnt',min_mnt)\n",
    "    print('min_time',min_time)\n",
    "    \n",
    "    for i, mnt in enumerate(mnts):\n",
    "        if mnt == min_mnt:\n",
    "            if times[i] != min_time:\n",
    "                winners[i] = 0\n",
    "        else:\n",
    "            winners[i] = 0\n",
    "        \n",
    "    \n",
    "    return winners\n",
    "\n",
    "def annotations_winners(index, models_folder, instances_folder, timeout_mzn, timeout):\n",
    "    annotations = [os.path.join(models_folder, f) for f in os.listdir(models_folder) if f.endswith('.mzn')]\n",
    "    instance = [os.path.join(instances_folder, f) for f in os.listdir(instances_folder) if f.endswith('.dzn')][index]\n",
    "    \n",
    "    mnts = [0] * len(annotations)\n",
    "    times = [0] * len(annotations)\n",
    "    timeout_mzn = timeout_mzn*1000\n",
    "    \n",
    "    for i, annotation in enumerate(annotations):        \n",
    "        # Run the minizinc command for the current annotation and data file  \n",
    "        cmd = f\"minizinc --solver COIN-BC --output-time {annotation} {instance} --output-time --solver-time-limit {timeout_mzn}\" \n",
    "        proc = subprocess.Popen(cmd, shell=True, stdout=subprocess.PIPE)\n",
    "        try: \n",
    "            # Get output from fzn\n",
    "            stdout, stderr = proc.communicate(timeout=timeout) \n",
    "            stdout = stdout.decode()\n",
    "            try:\n",
    "                # Store value mnt (temp).\n",
    "                start = stdout.find('mnt = ')+6\n",
    "                end = stdout.find(';',start)\n",
    "                mnt = int(stdout[start:end])\n",
    "                # Store value time (temp).\n",
    "                time = float(stdout.split(' ')[-2])\n",
    "            except:\n",
    "                mnt = float('inf')\n",
    "                time = float('inf')\n",
    "            print_green(f'{annotation[10:-4]} with {instance[3:-4]} SOLVED: {mnt} in {time:.2f} seconds.')\n",
    "\n",
    "        except subprocess.TimeoutExpired: \n",
    "            print_red(f'Error from minizinc: Stopping.')                \n",
    "            mnt = float('inf')\n",
    "            time = float('inf')\n",
    "            if os.name == 'nt': # If the os is Windows\n",
    "                subprocess.call(['taskkill', '/F', '/T', '/PID', str(proc.pid)]) # Force kill the process\n",
    "            else:\n",
    "                os.killpg(os.getpgid(proc.pid), signal.SIGTERM) # Kill the process group\n",
    "                \n",
    "        mnts[i] = mnt\n",
    "        times[i] = time\n",
    "    # print('mnts',mnts)\n",
    "    # print('times',times)\n",
    "    \n",
    "    return select_winners(mnts,times)\n",
    "\n",
    "matrix = np.zeros((20, len([os.path.join('../models', f) for f in os.listdir('../models') if f.endswith('.mzn')])))\n",
    "for i in range(0,20):\n",
    "    matrix[i]=np.array(annotations_winners(random.randint(0,20), '../models', '../instances',5, 10))\n",
    "\n",
    "#r1 = np.array(annotations_winners(0, '../models', '../instances',5, 10))\n",
    "#r2 = np.array(annotations_winners(5, '../models', '../instances',5, 10))"
   ]
  },
  {
   "cell_type": "code",
   "execution_count": null,
   "id": "a6d1ef13-9b42-4ec4-b486-dcd0f66b2922",
   "metadata": {},
   "outputs": [],
   "source": [
    "print(matrix)\n",
    "# sum the rows\n",
    "row_sums = np.sum(matrix, axis=0)\n",
    "\n",
    "# print the row sums\n",
    "print(row_sums)"
   ]
  },
  {
   "cell_type": "code",
   "execution_count": null,
   "id": "b8b5ff73-09c2-41ae-b4ff-eb328bda9ecb",
   "metadata": {
    "tags": []
   },
   "outputs": [],
   "source": [
    "import matplotlib.pyplot as plt \n",
    "\n",
    "# Define figure size\n",
    "fig, ax = plt.subplots(figsize=(8, 13))\n",
    "# CUT\n",
    "limit = 20000\n",
    "\n",
    "models_folder = '../models'  \n",
    "models = [os.path.join(models_folder, f) for f in os.listdir(models_folder) if f.endswith('.mzn')]\n",
    "# Filter models and times\n",
    "models = [model for i, model in enumerate(models) if times[i] < limit] \n",
    "models = [model.replace(\"../models\\\\\", \"\").replace(\".mzn\", \"\") for model in models]\n",
    "sav_times = [int(time) for time in times if time < limit]\n",
    "\n",
    "# Use barh function to create horizontal bar chart\n",
    "ax.barh(models, sav_times)\n",
    "\n",
    "# Set x-axis label and y-axis label\n",
    "ax.set_xlabel('Time (s)')\n",
    "ax.set_ylabel('Models')\n",
    "\n",
    "# Add value labels next to each bar\n",
    "for i, v in enumerate(sav_times):\n",
    "    ax.text(v, i, str(v), color='black', ha='left', va='center')\n",
    "\n",
    "# Show the plot\n",
    "plt.show()\n"
   ]
  },
  {
   "cell_type": "markdown",
   "id": "bbbb752a-753c-4950-a192-6147b974ea61",
   "metadata": {},
   "source": [
    "## Ranking winners"
   ]
  },
  {
   "cell_type": "code",
   "execution_count": null,
   "id": "748e8a9a-0289-4882-87dc-3493c0d015a6",
   "metadata": {
    "tags": []
   },
   "outputs": [],
   "source": [
    "\n",
    "models_folder = '../models/tie'  \n",
    "models = [os.path.join(models_folder, f) for f in os.listdir(models_folder) if f.endswith('.mzn')]\n",
    "\n",
    "instances_folder = '../instances'\n",
    "instances = [os.path.join(instances_folder, f) for f in os.listdir(instances_folder) if f.endswith('.dzn')][:10]\n",
    "# Remember, you are missing the stastic sample, calculate this number using len(instances) \n",
    "times = [0] * len(models)\n",
    "\n",
    "punishment = 100000\n",
    "timeout = 25\n",
    "timeout_mzn = 20*1000\n",
    "\n",
    "for i, model in enumerate(models):\n",
    "    for instance in instances:\n",
    "        # Run the minizinc command for the current model and data file  \n",
    "        cmd = f\"minizinc --solver Gecode --output-time {model} {instance} --output-time --solver-time-limit {timeout_mzn}\" \n",
    "        proc = subprocess.Popen(cmd, shell=True, stdout=subprocess.PIPE)\n",
    "        try: \n",
    "            # Get output from fzn\n",
    "            stdout, stderr = proc.communicate(timeout=timeout)\n",
    "            \n",
    "            try:\n",
    "                mnt = int(stdout.decode().split(' ')[-5][:-4])\n",
    "            except:\n",
    "                mnt = punishment\n",
    "            elapsed_time = float(stdout.decode().split(' ')[-2])\n",
    "            \n",
    "            print_green(f'{model} with {instance} SOLVED with a value of {mnt} in {elapsed_time:.2f} seconds.')\n",
    "            times[i] = (times[i]+mnt)\n",
    "        except subprocess.TimeoutExpired: \n",
    "            print_red(f'Error from minizinc: Stopping.')\n",
    "            times[i] = (times[i]+timeout)\n",
    "            if os.name == 'nt': # If the os is Windows\n",
    "                subprocess.call(['taskkill', '/F', '/T', '/PID', str(proc.pid)]) # Force kill the process\n",
    "            else:\n",
    "                os.killpg(os.getpgid(proc.pid), signal.SIGTERM) # Kill the process group\n",
    "print(\"----FINISHED----\")\n"
   ]
  },
  {
   "cell_type": "code",
   "execution_count": null,
   "id": "2482914a-c950-4a56-91b8-58f2ff280b15",
   "metadata": {},
   "outputs": [],
   "source": [
    "# Define figure size\n",
    "fig, ax = plt.subplots(figsize=(8, 13))\n",
    "# CUT\n",
    "limit = 20000\n",
    "\n",
    "models_folder = '../models/tie'  \n",
    "models = [os.path.join(models_folder, f) for f in os.listdir(models_folder) if f.endswith('.mzn')]\n",
    "# Filter models and times\n",
    "models = [model for i, model in enumerate(models) if times[i] < limit] \n",
    "models = [model.replace(\"../models/tie\\\\\", \"\").replace(\".mzn\", \"\") for model in models]\n",
    "sav_times = [int(time) for time in times if time < limit]\n",
    "\n",
    "# Use barh function to create horizontal bar chart\n",
    "ax.barh(models, sav_times)\n",
    "\n",
    "# Set x-axis label and y-axis label\n",
    "ax.set_xlabel('Time (s)')\n",
    "ax.set_ylabel('Models')\n",
    "\n",
    "# Add value labels next to each bar\n",
    "for i, v in enumerate(sav_times):\n",
    "    ax.text(v, i, str(v), color='black', ha='left', va='center')\n",
    "\n",
    "# Show the plot\n",
    "plt.show()"
   ]
  },
  {
   "cell_type": "code",
   "execution_count": null,
   "id": "a0e6acbc-5903-42f1-8f15-61bdf2ebf0c3",
   "metadata": {},
   "outputs": [],
   "source": []
  }
 ],
 "metadata": {
  "kernelspec": {
   "display_name": "MENuS",
   "language": "python",
   "name": "menus"
  },
  "language_info": {
   "codemirror_mode": {
    "name": "ipython",
    "version": 3
   },
   "file_extension": ".py",
   "mimetype": "text/x-python",
   "name": "python",
   "nbconvert_exporter": "python",
   "pygments_lexer": "ipython3",
   "version": "3.10.9"
  }
 },
 "nbformat": 4,
 "nbformat_minor": 5
}
