{
 "cells": [
  {
   "cell_type": "markdown",
   "id": "227290c0-22c8-4ef7-be0d-6d84baca13e4",
   "metadata": {},
   "source": [
    "# Timer"
   ]
  },
  {
   "cell_type": "markdown",
   "id": "e3d608e6-50f7-4abb-9b96-bf6a438e8b1f",
   "metadata": {
    "tags": []
   },
   "source": [
    "def print_red(text):\n",
    "    print('\\x1b[31m' + text + '\\x1b[0m')\n",
    "    \n",
    "def print_yellow(text):\n",
    "    print('\\x1b[33m' + text + '\\x1b[0m')\n",
    "\n",
    "def print_green(text):\n",
    "    print('\\x1b[32m' + text + '\\x1b[0m')\n",
    "\n",
    "def print_pink(text):\n",
    "    print('\\x1b[35m' + text + '\\x1b[0m')\n",
    "\n",
    "def print_cyan(text):\n",
    "    print('\\x1b[36m' + text + '\\x1b[0m')"
   ]
  },
  {
   "cell_type": "markdown",
   "id": "ab6e4179-a6fc-4bf4-97dd-33aef03a3b97",
   "metadata": {},
   "source": [
    "## Ranking all annotations"
   ]
  },
  {
   "cell_type": "code",
   "execution_count": 18,
   "id": "b943b2c6-6d9c-4154-a202-0386277f4c09",
   "metadata": {
    "tags": []
   },
   "outputs": [
    {
     "name": "stdout",
     "output_type": "stream",
     "text": [
      "\u001b[32m../models\\anti_first_fail-indomain.mzn with ../instances\\0.dzn SOLVED with a value of 280 in 1.08 seconds.\u001b[0m\n"
     ]
    },
    {
     "name": "stderr",
     "output_type": "stream",
     "text": [
      "Exception ignored in: <function WeakSet.__init__.<locals>._remove at 0x0000026E28C88A60>\n",
      "Traceback (most recent call last):\n",
      "  File \"C:\\Users\\juanj\\anaconda3\\envs\\MENuS\\lib\\_weakrefset.py\", line 40, in _remove\n",
      "KeyboardInterrupt: \n",
      "\n",
      "KeyboardInterrupt\n",
      "\n"
     ]
    }
   ],
   "source": [
    "import os   \n",
    "import subprocess \n",
    "import random\n",
    "\n",
    "models_folder = '../models'  \n",
    "models = [os.path.join(models_folder, f) for f in os.listdir(models_folder) if f.endswith('.mzn')]\n",
    "\n",
    "instances_folder = '../instances'\n",
    "instances = [os.path.join(instances_folder, f) for f in os.listdir(instances_folder) if f.endswith('.dzn')][:1]\n",
    "# Remember, you are missing the stastic sample, calculate this number using len(instances) \n",
    "times = [0] * len(models)\n",
    "\n",
    "punishment = 100000\n",
    "timeout = 10\n",
    "timeout_mzn = 1*1000 ## CHANGE THIS JUAN PLEASE\n",
    "\n",
    "for i, model in enumerate(models):\n",
    "    for instance in instances:\n",
    "        # Run the minizinc command for the current model and data file  \n",
    "        cmd = f\"minizinc --solver Gecode --output-time {model} {instance} --output-time --solver-time-limit {timeout_mzn}\" \n",
    "        proc = subprocess.Popen(cmd, shell=True, stdout=subprocess.PIPE)\n",
    "        try: \n",
    "            # Get output from fzn\n",
    "            stdout, stderr = proc.communicate(timeout=timeout)\n",
    "            \n",
    "            try:\n",
    "                mnt = int(stdout.decode().split(' ')[-5][:-4])\n",
    "            except:\n",
    "                mnt = punishment\n",
    "            elapsed_time = float(stdout.decode().split(' ')[-2])\n",
    "            \n",
    "            print_green(f'{model} with {instance} SOLVED with a value of {mnt} in {elapsed_time:.2f} seconds.')\n",
    "            times[i] = (times[i]+mnt)/2\n",
    "        except subprocess.TimeoutExpired: \n",
    "            print_red(f'Error from minizinc: Stopping.')\n",
    "            times[i] = (times[i]+timeout)/2\n",
    "            if os.name == 'nt': # If the os is Windows\n",
    "                subprocess.call(['taskkill', '/F', '/T', '/PID', str(proc.pid)]) # Force kill the process\n",
    "            else:\n",
    "                os.killpg(os.getpgid(proc.pid), signal.SIGTERM) # Kill the process group\n",
    "print(\"----FINISHED----\")\n"
   ]
  },
  {
   "cell_type": "code",
   "execution_count": null,
   "id": "b8b5ff73-09c2-41ae-b4ff-eb328bda9ecb",
   "metadata": {
    "tags": []
   },
   "outputs": [],
   "source": [
    "import matplotlib.pyplot as plt \n",
    "\n",
    "# Define figure size\n",
    "fig, ax = plt.subplots(figsize=(8, 13))\n",
    "# CUT\n",
    "limit = 20000\n",
    "\n",
    "models_folder = '../models'  \n",
    "models = [os.path.join(models_folder, f) for f in os.listdir(models_folder) if f.endswith('.mzn')]\n",
    "# Filter models and times\n",
    "models = [model for i, model in enumerate(models) if times[i] < limit] \n",
    "models = [model.replace(\"../models\\\\\", \"\").replace(\".mzn\", \"\") for model in models]\n",
    "sav_times = [int(time) for time in times if time < limit]\n",
    "\n",
    "# Use barh function to create horizontal bar chart\n",
    "ax.barh(models, sav_times)\n",
    "\n",
    "# Set x-axis label and y-axis label\n",
    "ax.set_xlabel('Time (s)')\n",
    "ax.set_ylabel('Models')\n",
    "\n",
    "# Add value labels next to each bar\n",
    "for i, v in enumerate(sav_times):\n",
    "    ax.text(v, i, str(v), color='black', ha='left', va='center')\n",
    "\n",
    "# Show the plot\n",
    "plt.show()\n"
   ]
  },
  {
   "cell_type": "markdown",
   "id": "bbbb752a-753c-4950-a192-6147b974ea61",
   "metadata": {},
   "source": [
    "## Ranking winners"
   ]
  },
  {
   "cell_type": "code",
   "execution_count": 23,
   "id": "748e8a9a-0289-4882-87dc-3493c0d015a6",
   "metadata": {
    "tags": []
   },
   "outputs": [
    {
     "name": "stdout",
     "output_type": "stream",
     "text": [
      "\u001b[32m../models/tie\\input_order-indomain.mzn with ../instances\\0.dzn SOLVED with a value of 280 in 20.08 seconds.\u001b[0m\n",
      "\u001b[32m../models/tie\\input_order-indomain.mzn with ../instances\\1.dzn SOLVED with a value of 100 in 20.08 seconds.\u001b[0m\n",
      "\u001b[32m../models/tie\\input_order-indomain.mzn with ../instances\\10.dzn SOLVED with a value of 140 in 20.08 seconds.\u001b[0m\n",
      "\u001b[32m../models/tie\\input_order-indomain.mzn with ../instances\\11.dzn SOLVED with a value of 130 in 20.08 seconds.\u001b[0m\n",
      "\u001b[32m../models/tie\\input_order-indomain.mzn with ../instances\\12.dzn SOLVED with a value of 230 in 20.08 seconds.\u001b[0m\n",
      "\u001b[32m../models/tie\\input_order-indomain.mzn with ../instances\\13.dzn SOLVED with a value of 100 in 20.08 seconds.\u001b[0m\n",
      "\u001b[32m../models/tie\\input_order-indomain.mzn with ../instances\\14.dzn SOLVED with a value of 190 in 20.08 seconds.\u001b[0m\n",
      "\u001b[32m../models/tie\\input_order-indomain.mzn with ../instances\\15.dzn SOLVED with a value of 230 in 20.08 seconds.\u001b[0m\n",
      "\u001b[32m../models/tie\\input_order-indomain.mzn with ../instances\\16.dzn SOLVED with a value of 90 in 20.08 seconds.\u001b[0m\n",
      "\u001b[32m../models/tie\\input_order-indomain.mzn with ../instances\\17.dzn SOLVED with a value of 290 in 20.08 seconds.\u001b[0m\n",
      "\u001b[32m../models/tie\\input_order-indomain.mzn with ../instances\\18.dzn SOLVED with a value of 90 in 20.08 seconds.\u001b[0m\n",
      "\u001b[32m../models/tie\\input_order-indomain.mzn with ../instances\\19.dzn SOLVED with a value of 100 in 20.08 seconds.\u001b[0m\n",
      "\u001b[32m../models/tie\\input_order-indomain.mzn with ../instances\\2.dzn SOLVED with a value of 140 in 20.08 seconds.\u001b[0m\n",
      "\u001b[32m../models/tie\\input_order-indomain.mzn with ../instances\\20.dzn SOLVED with a value of 80 in 20.08 seconds.\u001b[0m\n",
      "\u001b[32m../models/tie\\input_order-indomain.mzn with ../instances\\21.dzn SOLVED with a value of 80 in 20.08 seconds.\u001b[0m\n",
      "\u001b[32m../models/tie\\input_order-indomain.mzn with ../instances\\22.dzn SOLVED with a value of 110 in 20.09 seconds.\u001b[0m\n",
      "\u001b[32m../models/tie\\input_order-indomain.mzn with ../instances\\23.dzn SOLVED with a value of 110 in 20.08 seconds.\u001b[0m\n",
      "\u001b[32m../models/tie\\input_order-indomain.mzn with ../instances\\24.dzn SOLVED with a value of 150 in 20.08 seconds.\u001b[0m\n",
      "\u001b[32m../models/tie\\input_order-indomain.mzn with ../instances\\25.dzn SOLVED with a value of 120 in 20.08 seconds.\u001b[0m\n",
      "\u001b[32m../models/tie\\input_order-indomain.mzn with ../instances\\26.dzn SOLVED with a value of 190 in 20.08 seconds.\u001b[0m\n",
      "\u001b[32m../models/tie\\max_regret-indomain.mzn with ../instances\\0.dzn SOLVED with a value of 280 in 20.08 seconds.\u001b[0m\n",
      "\u001b[32m../models/tie\\max_regret-indomain.mzn with ../instances\\1.dzn SOLVED with a value of 100 in 20.08 seconds.\u001b[0m\n",
      "\u001b[32m../models/tie\\max_regret-indomain.mzn with ../instances\\10.dzn SOLVED with a value of 140 in 20.08 seconds.\u001b[0m\n",
      "\u001b[32m../models/tie\\max_regret-indomain.mzn with ../instances\\11.dzn SOLVED with a value of 130 in 20.08 seconds.\u001b[0m\n",
      "\u001b[32m../models/tie\\max_regret-indomain.mzn with ../instances\\12.dzn SOLVED with a value of 230 in 20.08 seconds.\u001b[0m\n",
      "\u001b[32m../models/tie\\max_regret-indomain.mzn with ../instances\\13.dzn SOLVED with a value of 100 in 20.08 seconds.\u001b[0m\n",
      "\u001b[32m../models/tie\\max_regret-indomain.mzn with ../instances\\14.dzn SOLVED with a value of 190 in 20.08 seconds.\u001b[0m\n",
      "\u001b[32m../models/tie\\max_regret-indomain.mzn with ../instances\\15.dzn SOLVED with a value of 230 in 20.08 seconds.\u001b[0m\n",
      "\u001b[32m../models/tie\\max_regret-indomain.mzn with ../instances\\16.dzn SOLVED with a value of 90 in 20.08 seconds.\u001b[0m\n",
      "\u001b[32m../models/tie\\max_regret-indomain.mzn with ../instances\\17.dzn SOLVED with a value of 290 in 20.08 seconds.\u001b[0m\n",
      "\u001b[32m../models/tie\\max_regret-indomain.mzn with ../instances\\18.dzn SOLVED with a value of 90 in 20.08 seconds.\u001b[0m\n",
      "\u001b[32m../models/tie\\max_regret-indomain.mzn with ../instances\\19.dzn SOLVED with a value of 100 in 20.08 seconds.\u001b[0m\n",
      "\u001b[32m../models/tie\\max_regret-indomain.mzn with ../instances\\2.dzn SOLVED with a value of 140 in 20.08 seconds.\u001b[0m\n",
      "\u001b[32m../models/tie\\max_regret-indomain.mzn with ../instances\\20.dzn SOLVED with a value of 80 in 20.08 seconds.\u001b[0m\n",
      "\u001b[32m../models/tie\\max_regret-indomain.mzn with ../instances\\21.dzn SOLVED with a value of 80 in 20.08 seconds.\u001b[0m\n",
      "\u001b[32m../models/tie\\max_regret-indomain.mzn with ../instances\\22.dzn SOLVED with a value of 110 in 20.08 seconds.\u001b[0m\n",
      "\u001b[32m../models/tie\\max_regret-indomain.mzn with ../instances\\23.dzn SOLVED with a value of 110 in 20.08 seconds.\u001b[0m\n",
      "\u001b[32m../models/tie\\max_regret-indomain.mzn with ../instances\\24.dzn SOLVED with a value of 150 in 20.08 seconds.\u001b[0m\n",
      "\u001b[32m../models/tie\\max_regret-indomain.mzn with ../instances\\25.dzn SOLVED with a value of 120 in 20.08 seconds.\u001b[0m\n",
      "\u001b[32m../models/tie\\max_regret-indomain.mzn with ../instances\\26.dzn SOLVED with a value of 190 in 20.08 seconds.\u001b[0m\n",
      "\u001b[32m../models/tie\\occurrence-indomain.mzn with ../instances\\0.dzn SOLVED with a value of 280 in 20.08 seconds.\u001b[0m\n",
      "\u001b[32m../models/tie\\occurrence-indomain.mzn with ../instances\\1.dzn SOLVED with a value of 100 in 20.08 seconds.\u001b[0m\n",
      "\u001b[32m../models/tie\\occurrence-indomain.mzn with ../instances\\10.dzn SOLVED with a value of 140 in 20.09 seconds.\u001b[0m\n",
      "\u001b[32m../models/tie\\occurrence-indomain.mzn with ../instances\\11.dzn SOLVED with a value of 130 in 20.09 seconds.\u001b[0m\n",
      "\u001b[32m../models/tie\\occurrence-indomain.mzn with ../instances\\12.dzn SOLVED with a value of 230 in 20.09 seconds.\u001b[0m\n",
      "\u001b[32m../models/tie\\occurrence-indomain.mzn with ../instances\\13.dzn SOLVED with a value of 100 in 20.08 seconds.\u001b[0m\n",
      "\u001b[32m../models/tie\\occurrence-indomain.mzn with ../instances\\14.dzn SOLVED with a value of 190 in 20.08 seconds.\u001b[0m\n",
      "\u001b[32m../models/tie\\occurrence-indomain.mzn with ../instances\\15.dzn SOLVED with a value of 230 in 20.08 seconds.\u001b[0m\n",
      "\u001b[32m../models/tie\\occurrence-indomain.mzn with ../instances\\16.dzn SOLVED with a value of 90 in 20.08 seconds.\u001b[0m\n",
      "\u001b[32m../models/tie\\occurrence-indomain.mzn with ../instances\\17.dzn SOLVED with a value of 290 in 20.08 seconds.\u001b[0m\n",
      "\u001b[32m../models/tie\\occurrence-indomain.mzn with ../instances\\18.dzn SOLVED with a value of 90 in 20.08 seconds.\u001b[0m\n",
      "\u001b[32m../models/tie\\occurrence-indomain.mzn with ../instances\\19.dzn SOLVED with a value of 100 in 20.08 seconds.\u001b[0m\n",
      "\u001b[32m../models/tie\\occurrence-indomain.mzn with ../instances\\2.dzn SOLVED with a value of 140 in 20.08 seconds.\u001b[0m\n",
      "\u001b[32m../models/tie\\occurrence-indomain.mzn with ../instances\\20.dzn SOLVED with a value of 80 in 20.08 seconds.\u001b[0m\n",
      "\u001b[32m../models/tie\\occurrence-indomain.mzn with ../instances\\21.dzn SOLVED with a value of 80 in 20.08 seconds.\u001b[0m\n",
      "\u001b[32m../models/tie\\occurrence-indomain.mzn with ../instances\\22.dzn SOLVED with a value of 110 in 20.08 seconds.\u001b[0m\n",
      "\u001b[32m../models/tie\\occurrence-indomain.mzn with ../instances\\23.dzn SOLVED with a value of 110 in 20.08 seconds.\u001b[0m\n",
      "\u001b[32m../models/tie\\occurrence-indomain.mzn with ../instances\\24.dzn SOLVED with a value of 150 in 20.08 seconds.\u001b[0m\n",
      "\u001b[32m../models/tie\\occurrence-indomain.mzn with ../instances\\25.dzn SOLVED with a value of 120 in 20.08 seconds.\u001b[0m\n",
      "\u001b[32m../models/tie\\occurrence-indomain.mzn with ../instances\\26.dzn SOLVED with a value of 190 in 20.08 seconds.\u001b[0m\n",
      "\u001b[32m../models/tie\\smallest-indomain.mzn with ../instances\\0.dzn SOLVED with a value of 280 in 20.08 seconds.\u001b[0m\n",
      "\u001b[32m../models/tie\\smallest-indomain.mzn with ../instances\\1.dzn SOLVED with a value of 100 in 20.08 seconds.\u001b[0m\n",
      "\u001b[32m../models/tie\\smallest-indomain.mzn with ../instances\\10.dzn SOLVED with a value of 140 in 20.08 seconds.\u001b[0m\n",
      "\u001b[32m../models/tie\\smallest-indomain.mzn with ../instances\\11.dzn SOLVED with a value of 130 in 20.08 seconds.\u001b[0m\n",
      "\u001b[32m../models/tie\\smallest-indomain.mzn with ../instances\\12.dzn SOLVED with a value of 230 in 20.09 seconds.\u001b[0m\n",
      "\u001b[32m../models/tie\\smallest-indomain.mzn with ../instances\\13.dzn SOLVED with a value of 100 in 20.08 seconds.\u001b[0m\n",
      "\u001b[32m../models/tie\\smallest-indomain.mzn with ../instances\\14.dzn SOLVED with a value of 190 in 20.08 seconds.\u001b[0m\n",
      "\u001b[32m../models/tie\\smallest-indomain.mzn with ../instances\\15.dzn SOLVED with a value of 230 in 20.08 seconds.\u001b[0m\n",
      "\u001b[32m../models/tie\\smallest-indomain.mzn with ../instances\\16.dzn SOLVED with a value of 90 in 20.08 seconds.\u001b[0m\n",
      "\u001b[32m../models/tie\\smallest-indomain.mzn with ../instances\\17.dzn SOLVED with a value of 290 in 20.08 seconds.\u001b[0m\n",
      "\u001b[32m../models/tie\\smallest-indomain.mzn with ../instances\\18.dzn SOLVED with a value of 90 in 20.08 seconds.\u001b[0m\n",
      "\u001b[32m../models/tie\\smallest-indomain.mzn with ../instances\\19.dzn SOLVED with a value of 100 in 20.08 seconds.\u001b[0m\n",
      "\u001b[32m../models/tie\\smallest-indomain.mzn with ../instances\\2.dzn SOLVED with a value of 140 in 20.08 seconds.\u001b[0m\n",
      "\u001b[32m../models/tie\\smallest-indomain.mzn with ../instances\\20.dzn SOLVED with a value of 80 in 20.08 seconds.\u001b[0m\n",
      "\u001b[32m../models/tie\\smallest-indomain.mzn with ../instances\\21.dzn SOLVED with a value of 80 in 20.08 seconds.\u001b[0m\n",
      "\u001b[32m../models/tie\\smallest-indomain.mzn with ../instances\\22.dzn SOLVED with a value of 110 in 20.08 seconds.\u001b[0m\n",
      "\u001b[32m../models/tie\\smallest-indomain.mzn with ../instances\\23.dzn SOLVED with a value of 110 in 20.08 seconds.\u001b[0m\n",
      "\u001b[32m../models/tie\\smallest-indomain.mzn with ../instances\\24.dzn SOLVED with a value of 150 in 20.08 seconds.\u001b[0m\n",
      "\u001b[32m../models/tie\\smallest-indomain.mzn with ../instances\\25.dzn SOLVED with a value of 120 in 20.08 seconds.\u001b[0m\n",
      "\u001b[32m../models/tie\\smallest-indomain.mzn with ../instances\\26.dzn SOLVED with a value of 190 in 20.08 seconds.\u001b[0m\n",
      "----FINISHED----\n"
     ]
    }
   ],
   "source": [
    "\n",
    "models_folder = '../models/tie'  \n",
    "models = [os.path.join(models_folder, f) for f in os.listdir(models_folder) if f.endswith('.mzn')]\n",
    "\n",
    "instances_folder = '../instances'\n",
    "instances = [os.path.join(instances_folder, f) for f in os.listdir(instances_folder) if f.endswith('.dzn')][:20]\n",
    "# Remember, you are missing the stastic sample, calculate this number using len(instances) \n",
    "times = [0] * len(models)\n",
    "\n",
    "punishment = 100000\n",
    "timeout = 25\n",
    "timeout_mzn = 20*1000\n",
    "\n",
    "for i, model in enumerate(models):\n",
    "    for instance in instances:\n",
    "        # Run the minizinc command for the current model and data file  \n",
    "        cmd = f\"minizinc --solver Gecode --output-time {model} {instance} --output-time --solver-time-limit {timeout_mzn}\" \n",
    "        proc = subprocess.Popen(cmd, shell=True, stdout=subprocess.PIPE)\n",
    "        try: \n",
    "            # Get output from fzn\n",
    "            stdout, stderr = proc.communicate(timeout=timeout)\n",
    "            \n",
    "            try:\n",
    "                mnt = int(stdout.decode().split(' ')[-5][:-4])\n",
    "            except:\n",
    "                mnt = punishment\n",
    "            elapsed_time = float(stdout.decode().split(' ')[-2])\n",
    "            \n",
    "            print_green(f'{model} with {instance} SOLVED with a value of {mnt} in {elapsed_time:.2f} seconds.')\n",
    "            times[i] = (times[i]+mnt)\n",
    "        except subprocess.TimeoutExpired: \n",
    "            print_red(f'Error from minizinc: Stopping.')\n",
    "            times[i] = (times[i]+timeout)\n",
    "            if os.name == 'nt': # If the os is Windows\n",
    "                subprocess.call(['taskkill', '/F', '/T', '/PID', str(proc.pid)]) # Force kill the process\n",
    "            else:\n",
    "                os.killpg(os.getpgid(proc.pid), signal.SIGTERM) # Kill the process group\n",
    "print(\"----FINISHED----\")\n"
   ]
  },
  {
   "cell_type": "code",
   "execution_count": 24,
   "id": "2482914a-c950-4a56-91b8-58f2ff280b15",
   "metadata": {},
   "outputs": [
    {
     "data": {
      "image/png": "[encoded data removed]",
      "text/plain": [
       "<Figure size 800x1300 with 1 Axes>"
      ]
     },
     "metadata": {},
     "output_type": "display_data"
    }
   ],
   "source": [
    "# Define figure size\n",
    "fig, ax = plt.subplots(figsize=(8, 13))\n",
    "# CUT\n",
    "limit = 20000\n",
    "\n",
    "models_folder = '../models/tie'  \n",
    "models = [os.path.join(models_folder, f) for f in os.listdir(models_folder) if f.endswith('.mzn')]\n",
    "# Filter models and times\n",
    "models = [model for i, model in enumerate(models) if times[i] < limit] \n",
    "models = [model.replace(\"../models/tie\\\\\", \"\").replace(\".mzn\", \"\") for model in models]\n",
    "sav_times = [int(time) for time in times if time < limit]\n",
    "\n",
    "# Use barh function to create horizontal bar chart\n",
    "ax.barh(models, sav_times)\n",
    "\n",
    "# Set x-axis label and y-axis label\n",
    "ax.set_xlabel('Time (s)')\n",
    "ax.set_ylabel('Models')\n",
    "\n",
    "# Add value labels next to each bar\n",
    "for i, v in enumerate(sav_times):\n",
    "    ax.text(v, i, str(v), color='black', ha='left', va='center')\n",
    "\n",
    "# Show the plot\n",
    "plt.show()"
   ]
  }
 ],
 "metadata": {
  "kernelspec": {
   "display_name": "MENuS",
   "language": "python",
   "name": "menus"
  },
  "language_info": {
   "codemirror_mode": {
    "name": "ipython",
    "version": 3
   },
   "file_extension": ".py",
   "mimetype": "text/x-python",
   "name": "python",
   "nbconvert_exporter": "python",
   "pygments_lexer": "ipython3",
   "version": "3.10.9"
  }
 },
 "nbformat": 4,
 "nbformat_minor": 5
}
