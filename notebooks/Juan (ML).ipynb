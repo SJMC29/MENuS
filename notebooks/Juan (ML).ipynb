{
 "cells": [
  {
   "cell_type": "code",
   "execution_count": 4,
   "id": "0c62bc4e",
   "metadata": {},
   "outputs": [],
   "source": [
    "from sklearn import tree\n",
    "\n",
    "features = [[7,0.6,40],[7,0.6,41],[37,0.8,37],[37,0.8,38]]\n",
    "labels = [0,0,1,1]"
   ]
  },
  {
   "cell_type": "code",
   "execution_count": 3,
   "id": "b7faee9d",
   "metadata": {
    "jupyter": {
     "source_hidden": true
    },
    "tags": []
   },
   "outputs": [
    {
     "name": "stdout",
     "output_type": "stream",
     "text": [
      "[1]\n"
     ]
    }
   ],
   "source": [
    "classifier = tree.DecisionTreeClassifier()\n",
    "classifier.fit(features, labels)\n",
    "\n",
    "res = classifier.predict([[10,0.8,40]])\n",
    "print(res)"
   ]
  },
  {
   "cell_type": "code",
   "execution_count": 5,
   "id": "3615364f",
   "metadata": {},
   "outputs": [
    {
     "name": "stdout",
     "output_type": "stream",
     "text": [
      "[[7, 0.6, 40], [7, 0.6, 41], [37, 0.8, 37], [37, 0.8, 38]]\n"
     ]
    }
   ],
   "source": [
    "print(features)"
   ]
  },
  {
   "cell_type": "code",
   "execution_count": null,
   "id": "3236bef4-8119-4a2c-bae7-4ce1b5873928",
   "metadata": {},
   "outputs": [
    {
     "name": "stdout",
     "output_type": "stream",
     "text": [
      "Inicio\n",
      "q = array1d(1..8, [5, 2, 4, 7, 3, 8, 6, 1]);\n",
      "----------\n",
      "Fin\n"
     ]
    }
   ],
   "source": [
    "print(\"Inicio\")\n",
    "!minizinc --solver Gecode nqueens.mzn data.dzn\n",
    "print(\"Fin\")"
   ]
  }
 ],
 "metadata": {
  "kernelspec": {
   "display_name": "Python 3 (ipykernel)",
   "language": "python",
   "name": "python3"
  },
  "language_info": {
   "codemirror_mode": {
    "name": "ipython",
    "version": 3
   },
   "file_extension": ".py",
   "mimetype": "text/x-python",
   "name": "python",
   "nbconvert_exporter": "python",
   "pygments_lexer": "ipython3",
   "version": "3.10.6"
  }
 },
 "nbformat": 4,
 "nbformat_minor": 5
}
