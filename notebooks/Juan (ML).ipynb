{
 "cells": [
  {
   "cell_type": "code",
   "execution_count": 4,
   "id": "0c62bc4e",
   "metadata": {},
   "outputs": [],
   "source": [
    "from sklearn import tree\n",
    "\n",
    "features = [[7,0.6,40],[7,0.6,41],[37,0.8,37],[37,0.8,38]]\n",
    "labels = [0,0,1,1]"
   ]
  },
  {
   "cell_type": "code",
   "execution_count": 3,
   "id": "b7faee9d",
   "metadata": {
    "tags": []
   },
   "outputs": [
    {
     "name": "stdout",
     "output_type": "stream",
     "text": [
      "[1]\n"
     ]
    }
   ],
   "source": [
    "classifier = tree.DecisionTreeClassifier()\n",
    "classifier.fit(features, labels)\n",
    "\n",
    "res = classifier.predict([[10,0.8,40]])\n",
    "print(res)"
   ]
  },
  {
   "cell_type": "code",
   "execution_count": 5,
   "id": "3615364f",
   "metadata": {},
   "outputs": [
    {
     "name": "stdout",
     "output_type": "stream",
     "text": [
      "[[7, 0.6, 40], [7, 0.6, 41], [37, 0.8, 37], [37, 0.8, 38]]\n"
     ]
    }
   ],
   "source": [
    "print(features)"
   ]
  },
  {
   "cell_type": "code",
   "execution_count": 36,
   "id": "3236bef4-8119-4a2c-bae7-4ce1b5873928",
   "metadata": {},
   "outputs": [
    {
     "name": "stdout",
     "output_type": "stream",
     "text": [
      "Inicio\n",
      "=====UNKNOWN=====Fin\n",
      "\n",
      "% time elapsed: 0.23 s\n"
     ]
    }
   ],
   "source": [
    "print(\"Inicio\")\n",
    "#!minizinc --solver Gecode ../base.mzn ../instances/0.dzn\n",
    "!minizinc --solver Gecode ./nqueens.mzn ./data.dzn --output-time --solver-time-limit 10\n",
    "print(\"Fin\")"
   ]
  },
  {
   "cell_type": "code",
   "execution_count": 13,
   "id": "8927a25a-29fd-490a-bbfd-1328beb84cb4",
   "metadata": {},
   "outputs": [],
   "source": [
    "def print_red(text):\n",
    "    print('\\x1b[31m' + text + '\\x1b[0m')\n",
    "    \n",
    "def print_yellow(text):\n",
    "    print('\\x1b[33m' + text + '\\x1b[0m')\n",
    "\n",
    "def print_green(text):\n",
    "    print('\\x1b[32m' + text + '\\x1b[0m')\n",
    "\n",
    "def print_pink(text):\n",
    "    print('\\x1b[35m' + text + '\\x1b[0m')\n",
    "\n",
    "def print_cyan(text):\n",
    "    print('\\x1b[36m' + text + '\\x1b[0m')"
   ]
  },
  {
   "cell_type": "code",
   "execution_count": 55,
   "id": "95bb6e26-e132-4ca5-8e2f-b61183635983",
   "metadata": {},
   "outputs": [
    {
     "name": "stdout",
     "output_type": "stream",
     "text": [
      "\u001b[32mmodel SOLVED with a value of 220 in 5.09 seconds.\u001b[0m\n"
     ]
    },
    {
     "data": {
      "text/plain": [
       "5.09"
      ]
     },
     "execution_count": 55,
     "metadata": {},
     "output_type": "execute_result"
    }
   ],
   "source": [
    "import subprocess \n",
    "import os\n",
    "\n",
    "def solve_with_minizinc():\n",
    "    timeout = 10\n",
    "    timeout_mzn = 5*1000\n",
    "    # Run the minizinc command for the current model and data file  \n",
    "    cmd = f\"minizinc --solver Gecode ../base.mzn ../instances/0.dzn --output-time --solver-time-limit {timeout_mzn}\"\n",
    "    try: \n",
    "        # Get output from fzn\n",
    "        proc = subprocess.Popen(cmd, shell=True, stdout=subprocess.PIPE)\n",
    "        stdout, stderr = proc.communicate(timeout=timeout)\n",
    "        mnt = int(stdout.decode().split(' ')[-5][:-4])\n",
    "        elapsed_time = float(stdout.decode().split(' ')[-2])\n",
    "\n",
    "        print_green(f'model SOLVED with a value of {mnt} in {elapsed_time:.2f} seconds.')\n",
    "        # times.append(elapsed_time)\n",
    "        return elapsed_time\n",
    "    except subprocess.TimeoutExpired: \n",
    "        print_red(f'Error from minizinc: Stopping.')\n",
    "        # times.append(timeout)\n",
    "        if os.name == 'nt': # If the os is Windows\n",
    "            subprocess.call(['taskkill', '/F', '/T', '/PID', str(proc.pid)]) # Force kill the process\n",
    "        else:\n",
    "            os.killpg(os.getpgid(proc.pid), signal.SIGTERM) # Kill the process group\n",
    "        return timeout\n",
    "\n",
    "solve_with_minizinc()"
   ]
  },
  {
   "cell_type": "code",
   "execution_count": null,
   "id": "7edc400a-1c56-4a17-b07c-f49c34d8b5db",
   "metadata": {},
   "outputs": [],
   "source": []
  }
 ],
 "metadata": {
  "kernelspec": {
   "display_name": "Python 3 (ipykernel)",
   "language": "python",
   "name": "python3"
  },
  "language_info": {
   "codemirror_mode": {
    "name": "ipython",
    "version": 3
   },
   "file_extension": ".py",
   "mimetype": "text/x-python",
   "name": "python",
   "nbconvert_exporter": "python",
   "pygments_lexer": "ipython3",
   "version": "3.9.13"
  }
 },
 "nbformat": 4,
 "nbformat_minor": 5
}
