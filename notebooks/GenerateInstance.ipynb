{
 "cells": [
  {
   "cell_type": "markdown",
   "id": "f44121bb-10a4-4e65-979f-6db97514536e",
   "metadata": {},
   "source": [
    "# Generate instances"
   ]
  },
  {
   "cell_type": "code",
   "execution_count": 8,
   "id": "373f59cb-e384-4fea-bfc5-11d28cbba286",
   "metadata": {},
   "outputs": [],
   "source": [
    "import random\n",
    "import math\n",
    "def printN(n):\n",
    "    n = \"n = \" + str(n)    \n",
    "    return n\n",
    "def createProtein():\n",
    "    quantity = 1*random.randint(5,10)    \n",
    "    protein = random.randint(1, 30)*quantity\n",
    "    carbohydrate = random.randint(1, 37)*quantity    \n",
    "    fat = random.randint(1, 30)*quantity\n",
    "    calories = protein*4 + carbohydrate*4 + fat*9    \n",
    "    product = \"\"\n",
    "    product = product + str(calories) + \",\" + str(protein) + \",\" + str(carbohydrate) + \",\" + str(fat) + \",\" + str(random.randint(50, 200)) + \",\" + str(random.randint(800, 4000)) + \"|\"    \n",
    "    return product\n",
    "def createCarbohydrate():\n",
    "    quantity = 1*random.randint(5,10)    \n",
    "    protein = random.randint(1, 15)*quantity\n",
    "    carbohydrate = random.randint(1, 75)*quantity    \n",
    "    fat = random.randint(1, 30)*quantity\n",
    "    calories = protein*4 + carbohydrate*4 + fat*9    \n",
    "    product = \"\"\n",
    "    product = product + str(calories) + \",\" + str(protein) + \",\" + str(carbohydrate) + \",\" + str(fat) + \",\" + str(random.randint(50, 200)) + \",\" + str(random.randint(800, 4000)) + \"|\"    \n",
    "    return product\n",
    "def createFat():\n",
    "    quantity = 1*random.randint(5,10)    \n",
    "    protein = random.randint(1, 15)*quantity\n",
    "    carbohydrate = random.randint(1, 37)*quantity    \n",
    "    fat = random.randint(1, 80)*quantity\n",
    "    calories = protein*4 + carbohydrate*4 +fat*9    \n",
    "    product = \"\"\n",
    "    product = product + str(calories) + \",\" + str(protein) + \",\" + str(carbohydrate) + \",\" + str(fat) + \",\" + str(random.randint(50, 200)) + \",\" + str(random.randint(800, 4000)) + \"|\"    \n",
    "    return product\n",
    "def createGroceries(n):\n",
    "    longitud = 0    \n",
    "    groceries = \"[|\"\n",
    "    for i in range(0,math.floor(n/3)):        \n",
    "        groceries = groceries + createProtein()\n",
    "        longitud = longitud + 1    \n",
    "    for i in range(0,math.floor(n/3)):\n",
    "        groceries = groceries + createCarbohydrate()        \n",
    "        longitud = longitud + 1\n",
    "    for i in range(0,math.floor(n/3)):        \n",
    "        groceries = groceries + createFat()\n",
    "        longitud = longitud + 1    \n",
    "    for i in range(n-longitud):\n",
    "        groceries = groceries + createCarbohydrate()        \n",
    "        longitud = longitud + 1\n",
    "    groceries = groceries + \"]\"    \n",
    "    print(\"Len Groceries:\"+ str(longitud))\n",
    "    return groceries\n",
    "def printGroceries(n):    \n",
    "    groceries = \"groceries = \" + str(createGroceries(n))\n",
    "    return groceries\n",
    "def createRequirements(d, p):    #Redondear holgura < 2\n",
    "    holgura = 1.1    \n",
    "    minprot = 38*d*p\n",
    "    maxprot = int(46*d*p*holgura)    \n",
    "    mincar = 200*d*p\n",
    "    maxcar = int(200*d*p*holgura)    \n",
    "    minfat = 57*d*p\n",
    "    maxfat = int(62*d*p*holgura)    \n",
    "    mincal = minprot*4 + mincar*4 + minfat*9\n",
    "    maxcal = maxprot*4 + maxcar*4 + maxfat*9    \n",
    "    requirements = \"[|\" + str(mincal) + \",\" + str(maxcal) + \"|\" + str(minprot) + \",\" + str(maxprot) + \"|\" + str(mincar) + \",\" + str(maxcar) + \"|\" + str(minfat) + \",\" + str(maxfat) + \"|]\"\n",
    "    return requirements\n",
    "def printRequirements(d, p):    \n",
    "    requirements = \"requirements = \" + str(createRequirements(d, p)) \n",
    "    return requirements\n",
    "def printBudget(d,p):\n",
    "    budget = \"budget = \" + str(int(50000*d*p))\n",
    "    return budget\n",
    "def createDZN(n): \n",
    "    days = random.randint(4, 6)\n",
    "    people = random.randint(4, 6)\n",
    "    dzn = printN(n) + \";\\n\" + printBudget(days,people) + \";\\n\" + printGroceries(n) + \";\\n\" + printRequirements(days, people) + \";\"    \n",
    "    print(dzn)\n",
    "    return(dzn)\n",
    "#with open('/Users/juanj/Desktop/data.dzn', 'w') as f:#    f.write(createDZN(100))\n",
    "# PRUEBAS:\n",
    "#    days = 7#    people = 1\n"
   ]
  },
  {
   "cell_type": "code",
   "execution_count": 9,
   "id": "4ea0153d-1e11-4311-bde9-3095c1c72ab8",
   "metadata": {
    "tags": []
   },
   "outputs": [
    {
     "name": "stdout",
     "output_type": "stream",
     "text": [
      "Len Groceries:5\n",
      "n = 5;\n",
      "budget = 1200000;\n",
      "groceries = [|3424,64,288,224,146,1490|2695,84,448,63,72,2307|5761,91,231,497,110,1816|1280,30,200,40,106,2899|6100,100,750,300,149,3785|];\n",
      "requirements = [|35160,40700|912,1214|4800,5280|1368,1636|];\n",
      "created: Instance 0\n"
     ]
    }
   ],
   "source": [
    "def create_IL(n):\n",
    "    for i in range(n):\n",
    "        path = '../instances/'+str(i)+'.dzn'\n",
    "        #print(model)\n",
    "        with open(path, 'w', encoding='utf8') as file_object:\n",
    "            file_object.write(createDZN(random.randint(5, 5)))\n",
    "        print('created: Instance',i)\n",
    "\n",
    "create_IL(1)"
   ]
  },
  {
   "cell_type": "code",
   "execution_count": null,
   "id": "49e2f2bd-6081-4852-b808-329835d05ca2",
   "metadata": {},
   "outputs": [],
   "source": []
  }
 ],
 "metadata": {
  "kernelspec": {
   "display_name": "Python 3 (ipykernel)",
   "language": "python",
   "name": "python3"
  },
  "language_info": {
   "codemirror_mode": {
    "name": "ipython",
    "version": 3
   },
   "file_extension": ".py",
   "mimetype": "text/x-python",
   "name": "python",
   "nbconvert_exporter": "python",
   "pygments_lexer": "ipython3",
   "version": "3.9.13"
  }
 },
 "nbformat": 4,
 "nbformat_minor": 5
}
