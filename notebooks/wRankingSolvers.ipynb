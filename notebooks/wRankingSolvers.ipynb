{
 "cells": [
  {
   "attachments": {},
   "cell_type": "markdown",
   "id": "4d0c340e-803b-4112-a30f-76dea41b5485",
   "metadata": {},
   "source": [
    "## Install Dependences"
   ]
  },
  {
   "cell_type": "code",
   "execution_count": 189,
   "id": "17813603-3f9f-4429-a616-e586a7dc05d7",
   "metadata": {},
   "outputs": [
    {
     "name": "stdout",
     "output_type": "stream",
     "text": [
      "Requirement already satisfied: tqdm in c:\\users\\juanj\\anaconda3\\envs\\menus\\lib\\site-packages (4.65.0)\n",
      "Requirement already satisfied: colorama in c:\\users\\juanj\\anaconda3\\envs\\menus\\lib\\site-packages (from tqdm) (0.4.6)\n"
     ]
    }
   ],
   "source": [
    "!pip install tqdm"
   ]
  },
  {
   "attachments": {},
   "cell_type": "markdown",
   "id": "255c3b1b-be79-4092-9c1d-0f8851ead39e",
   "metadata": {},
   "source": [
    "# Install Libraries"
   ]
  },
  {
   "cell_type": "code",
   "execution_count": 190,
   "id": "e0d57509-0488-4bfc-8e21-6e707f1a3d1a",
   "metadata": {},
   "outputs": [],
   "source": [
    "import numpy as np\n",
    "import os   \n",
    "import subprocess \n",
    "import random\n",
    "import math\n",
    "\n",
    "# Visual\n",
    "from tqdm import tqdm\n",
    "def print_red(text):\n",
    "    print('\\x1b[31m' + text + '\\x1b[0m')\n",
    "def print_yellow(text):\n",
    "    print('\\x1b[33m' + text + '\\x1b[0m')\n",
    "def print_green(text):\n",
    "    print('\\x1b[32m' + text + '\\x1b[0m')\n",
    "def print_pink(text):\n",
    "    print('\\x1b[35m' + text + '\\x1b[0m')\n",
    "def print_cyan(text):\n",
    "    print('\\x1b[36m' + text + '\\x1b[0m')"
   ]
  },
  {
   "attachments": {},
   "cell_type": "markdown",
   "id": "ab775244-df81-4edc-9606-d2526516c09a",
   "metadata": {},
   "source": [
    "## Ranking all annotations\n",
    "Run all the possible combinations of annotations with different models and stores the winners in the variable *rounds*. There can be multiple winners.\n",
    "\n",
    "***An annotation is a winner if it has the best value above all of the other and the best time.***\n",
    "\n",
    "##### Example of *rounds*\n",
    "\n",
    "|  | Ann_1 | Ann_2 | Ann_3 | Ann_4 | ... | Ann_n |\n",
    "| --- | --- | --- | --- | --- | --- | --- |\n",
    "| Ins_1 | 0 | 0 | 1 | 1 | ... | 0 |\n",
    "| Ins_2 | 0 | 1 | 0 | 0 | ... | 1 |\n",
    "| Ins_3 | 1 | 0 | 1 | 0 | ... | 0 |\n",
    "| ... | ... | ... | ... | ... | ... | ... |\n",
    "| Ins_m | 1 | 0 | 1 | 0 | ... | 0 |"
   ]
  },
  {
   "cell_type": "code",
   "execution_count": 191,
   "id": "b943b2c6-6d9c-4154-a202-0386277f4c09",
   "metadata": {
    "tags": []
   },
   "outputs": [
    {
     "name": "stderr",
     "output_type": "stream",
     "text": [
      "Processing Instance 0: 5items [00:26,  5.24s/items]\n",
      "Processing Instance 1: 5items [00:24,  4.83s/items]\n",
      "Processing Instance 2: 5items [00:26,  5.33s/items]\n",
      "Processing Instance 3: 5items [00:21,  4.21s/items]\n",
      "Processing Instance 4: 5items [00:22,  4.50s/items]\n",
      "Processing Instance 5: 5items [00:20,  4.05s/items]\n",
      "Processing Instance 6: 5items [00:26,  5.31s/items]\n",
      "Processing Instance 7: 5items [00:21,  4.34s/items]\n",
      "Processing Instance 8: 5items [00:26,  5.31s/items]\n",
      "Processing Instance 9: 5items [00:29,  5.85s/items]\n",
      "Processing Instance 10: 5items [00:25,  5.07s/items]\n",
      "Processing Instance 11: 5items [00:29,  5.97s/items]\n",
      "Processing Instance 12: 5items [00:22,  4.41s/items]\n",
      "Processing Instance 13: 5items [00:26,  5.30s/items]\n",
      "Processing Instance 14: 1items [00:10, 10.10s/items]"
     ]
    },
    {
     "name": "stdout",
     "output_type": "stream",
     "text": [
      "\u001b[31mError from minizinc: Stopping.\u001b[0m\n"
     ]
    },
    {
     "name": "stderr",
     "output_type": "stream",
     "text": [
      "Processing Instance 14: 5items [00:31,  6.27s/items]\n",
      "Processing Instance 15: 5items [00:25,  5.16s/items]\n",
      "Processing Instance 16: 5items [00:26,  5.30s/items]\n",
      "Processing Instance 17: 5items [00:21,  4.40s/items]\n",
      "Processing Instance 18: 5items [00:26,  5.22s/items]\n",
      "Processing Instance 19: 5items [00:26,  5.36s/items]\n",
      "Processing Instance 20: 5items [00:28,  5.74s/items]\n",
      "Processing Instance 21: 5items [00:25,  5.18s/items]\n",
      "Processing Instance 22: 5items [00:25,  5.08s/items]\n",
      "Processing Instance 23: 5items [00:21,  4.22s/items]\n",
      "Processing Instance 24: 1items [00:10, 10.09s/items]"
     ]
    },
    {
     "name": "stdout",
     "output_type": "stream",
     "text": [
      "\u001b[31mError from minizinc: Stopping.\u001b[0m\n"
     ]
    },
    {
     "name": "stderr",
     "output_type": "stream",
     "text": [
      "Processing Instance 24: 5items [00:27,  5.49s/items]\n",
      "Processing Instance 25: 5items [00:22,  4.53s/items]\n",
      "Processing Instance 26: 5items [00:24,  4.98s/items]\n",
      "Processing Instance 27: 5items [00:24,  4.90s/items]\n",
      "Processing Instance 28: 5items [00:22,  4.53s/items]\n",
      "Processing Instance 29: 5items [00:26,  5.34s/items]\n",
      "Processing Instance 30: 5items [00:24,  4.90s/items]\n",
      "Processing Instance 31: 1items [00:10, 10.09s/items]"
     ]
    },
    {
     "name": "stdout",
     "output_type": "stream",
     "text": [
      "\u001b[31mError from minizinc: Stopping.\u001b[0m\n"
     ]
    },
    {
     "name": "stderr",
     "output_type": "stream",
     "text": [
      "Processing Instance 31: 5items [00:31,  6.24s/items]\n",
      "Processing Instance 32: 5items [00:21,  4.22s/items]\n",
      "Processing Instance 33: 5items [00:22,  4.55s/items]\n",
      "Processing Instance 34: 5items [00:27,  5.44s/items]\n",
      "Processing Instance 35: 5items [00:26,  5.27s/items]\n",
      "Processing Instance 36: 5items [00:21,  4.32s/items]\n",
      "Processing Instance 37: 5items [00:19,  3.96s/items]\n",
      "Processing Instance 38: 5items [00:25,  5.12s/items]\n",
      "Processing Instance 39: 5items [00:22,  4.46s/items]\n",
      "Processing Instance 40: 5items [00:23,  4.77s/items]\n",
      "Processing Instance 41: 5items [00:27,  5.57s/items]\n",
      "Processing Instance 42: 5items [00:26,  5.38s/items]\n",
      "Processing Instance 43: 5items [00:22,  4.57s/items]\n",
      "Processing Instance 44: 5items [00:25,  5.04s/items]\n",
      "Processing Instance 45: 5items [00:22,  4.50s/items]\n",
      "Processing Instance 46: 5items [00:21,  4.38s/items]\n",
      "Processing Instance 47: 5items [00:21,  4.38s/items]\n",
      "Processing Instance 48: 5items [00:21,  4.35s/items]\n",
      "Processing Instance 49: 1items [00:10, 10.09s/items]"
     ]
    },
    {
     "name": "stdout",
     "output_type": "stream",
     "text": [
      "\u001b[31mError from minizinc: Stopping.\u001b[0m\n"
     ]
    },
    {
     "name": "stderr",
     "output_type": "stream",
     "text": [
      "Processing Instance 49: 5items [00:26,  5.27s/items]\n",
      "Processing Instance 50: 5items [00:27,  5.45s/items]\n",
      "Processing Instance 51: 5items [00:21,  4.37s/items]\n",
      "Processing Instance 52: 5items [00:23,  4.62s/items]\n",
      "Processing Instance 53: 5items [00:21,  4.34s/items]\n",
      "Processing Instance 54: 5items [00:25,  5.01s/items]\n",
      "Processing Instance 55: 5items [00:19,  3.95s/items]\n",
      "Processing Instance 56: 5items [00:27,  5.57s/items]\n",
      "Processing Instance 57: 5items [00:21,  4.39s/items]\n",
      "Processing Instance 58: 5items [00:22,  4.47s/items]\n",
      "Processing Instance 59: 5items [00:23,  4.72s/items]\n",
      "Processing Instance 60: 5items [00:21,  4.38s/items]\n",
      "Processing Instance 61: 5items [00:24,  4.99s/items]\n",
      "Processing Instance 62: 5items [00:26,  5.22s/items]\n",
      "Processing Instance 63: 5items [00:24,  4.90s/items]\n",
      "Processing Instance 64: 5items [00:23,  4.63s/items]\n",
      "Processing Instance 65: 5items [00:22,  4.40s/items]\n",
      "Processing Instance 66: 5items [00:23,  4.69s/items]\n",
      "Processing Instance 67: 1items [00:10, 10.09s/items]"
     ]
    },
    {
     "name": "stdout",
     "output_type": "stream",
     "text": [
      "\u001b[31mError from minizinc: Stopping.\u001b[0m\n"
     ]
    },
    {
     "name": "stderr",
     "output_type": "stream",
     "text": [
      "Processing Instance 67: 5items [00:28,  5.74s/items]\n",
      "Processing Instance 68: 5items [00:26,  5.29s/items]\n",
      "Processing Instance 69: 5items [00:26,  5.31s/items]\n",
      "Processing Instance 70: 5items [00:22,  4.53s/items]\n",
      "Processing Instance 71: 5items [00:24,  4.90s/items]\n",
      "Processing Instance 72: 5items [00:22,  4.49s/items]\n",
      "Processing Instance 73: 5items [00:22,  4.44s/items]\n",
      "Processing Instance 74: 5items [00:26,  5.29s/items]\n",
      "Processing Instance 75: 5items [00:22,  4.56s/items]\n",
      "Processing Instance 76: 5items [00:21,  4.36s/items]\n",
      "Processing Instance 77: 5items [00:27,  5.46s/items]\n",
      "Processing Instance 78: 5items [00:22,  4.50s/items]\n",
      "Processing Instance 79: 5items [00:22,  4.55s/items]\n",
      "Processing Instance 80: 1items [00:10, 10.10s/items]"
     ]
    },
    {
     "name": "stdout",
     "output_type": "stream",
     "text": [
      "\u001b[31mError from minizinc: Stopping.\u001b[0m\n"
     ]
    },
    {
     "name": "stderr",
     "output_type": "stream",
     "text": [
      "Processing Instance 80: 5items [00:26,  5.26s/items]\n",
      "Processing Instance 81: 5items [00:25,  5.12s/items]\n",
      "Processing Instance 82: 5items [00:27,  5.56s/items]\n",
      "Processing Instance 83: 5items [00:26,  5.37s/items]\n",
      "Processing Instance 84: 5items [00:25,  5.10s/items]\n",
      "Processing Instance 85: 5items [00:23,  4.79s/items]\n",
      "Processing Instance 86: 5items [00:21,  4.38s/items]\n",
      "Processing Instance 87: 5items [00:29,  5.88s/items]\n",
      "Processing Instance 88: 5items [00:21,  4.22s/items]\n",
      "Processing Instance 89: 5items [00:22,  4.53s/items]\n",
      "Processing Instance 90: 5items [00:27,  5.57s/items]\n",
      "Processing Instance 91: 5items [00:25,  5.05s/items]\n",
      "Processing Instance 92: 5items [00:20,  4.19s/items]\n",
      "Processing Instance 93: 5items [00:24,  4.94s/items]\n",
      "Processing Instance 94: 5items [00:24,  4.81s/items]\n",
      "Processing Instance 95: 5items [00:23,  4.60s/items]\n",
      "Processing Instance 96: 5items [00:26,  5.23s/items]\n",
      "Processing Instance 97: 5items [00:26,  5.21s/items]\n",
      "Processing Instance 98: 5items [00:22,  4.42s/items]\n",
      "Processing Instance 99: 5items [00:23,  4.70s/items]"
     ]
    },
    {
     "name": "stdout",
     "output_type": "stream",
     "text": [
      "\u001b[32mDone!\u001b[0m\n",
      "\u001b[36mSave rounds to another file\u001b[0m\n",
      "\u001b[32mDone!\u001b[0m\n"
     ]
    },
    {
     "name": "stderr",
     "output_type": "stream",
     "text": [
      "\n"
     ]
    }
   ],
   "source": [
    "import re\n",
    "def select_winners(mnts):\n",
    "    winners = [1] * len(mnts)\n",
    "    min_mnt = min(mnts)\n",
    "    # print_green(f'min_mnt {min_mnt} min_time {min_time}.')\n",
    "    for i, mnt in enumerate(mnts):\n",
    "        if math.isinf(mnt):\n",
    "            winners[i] = 0\n",
    "        else:\n",
    "            if mnt != min_mnt:\n",
    "                winners[i] = 0\n",
    "\n",
    "    return winners\n",
    "\n",
    "def solvers_winners(index, solvers, instances_folder, timeout_mzn, timeout):\n",
    "    # annotations = [os.path.join(models_folder, f) for f in os.listdir(models_folder) if f.endswith('.mzn')]\n",
    "    instance = [os.path.join(instances_folder, f) for f in os.listdir(instances_folder) if f.endswith('.dzn')]\n",
    "    # instance = [os.path.join(instances_folder, f) for f in os.listdir(instances_folder) if f.endswith('.dzn')]\n",
    "    # Sort\n",
    "    def numeric_sort_key(file_path):\n",
    "        match = re.search(r'\\d+', file_path)\n",
    "        return int(match.group()) if match else file_path\n",
    "    instance = sorted(instance, key=numeric_sort_key)[index]\n",
    "\n",
    "    \n",
    "    mnts = [0] * len(solvers)\n",
    "    timeout_mzn = timeout_mzn*1000\n",
    "    \n",
    "    for i, solver in tqdm(enumerate(solvers), desc='Processing Instance '+str(index), unit='items'):        \n",
    "        # Run the minizinc command for the current annotation and data file  \n",
    "        cmd = f\"minizinc --solver {solver} --output-time ../models/largest-indomain_max.mzn {instance} --output-time --solver-time-limit {timeout_mzn}\"        \n",
    "        proc = subprocess.Popen(cmd, shell=True, stdout=subprocess.PIPE)\n",
    "        try: \n",
    "            # Get output from fzn\n",
    "            stdout, stderr = proc.communicate(timeout=timeout) \n",
    "            stdout = stdout.decode()\n",
    "            try:\n",
    "                # Store value mnt (temp).\n",
    "                start = stdout.find('mnt = ')+6\n",
    "                end = stdout.find(';',start)\n",
    "                mnt = int(stdout[start:end])\n",
    "            except:\n",
    "                if stdout.find('UNSATISFIABLE') != -1:\n",
    "                    mnt = 0\n",
    "                else:\n",
    "                    mnt = float('inf')\n",
    "            # print_green(f'{annotation[10:-4]} with {instance[3:-4]} SOLVED: {mnt} in {time:.2f} seconds.')\n",
    "\n",
    "        except subprocess.TimeoutExpired: \n",
    "            print_red(f'Error from minizinc: Stopping.')                \n",
    "            mnt = float('inf')\n",
    "            if os.name == 'nt': # If the os is Windows\n",
    "                subprocess.call(['taskkill', '/F', '/T', '/PID', str(proc.pid)]) # Force kill the process\n",
    "            else:\n",
    "                os.killpg(os.getpgid(proc.pid), signal.SIGTERM) # Kill the process group\n",
    "                \n",
    "        mnts[i] = mnt\n",
    "    # print('mnts',mnts)\n",
    "    # print('times',times)\n",
    "    return select_winners(mnts)\n",
    "\n",
    "n_instances = 100\n",
    "solvers = [\"HiGHS\", \"COIN-BC\", \"OR-TOOLS\", \"Gecode\", \"Chuffed\"]\n",
    "rounds = np.zeros((n_instances, len(solvers)))\n",
    "\n",
    "# loop through the list with a progress bar\n",
    "for i in range(0, n_instances):\n",
    "    rounds[i]=np.array(solvers_winners(i, solvers, '../instances',5, 10))\n",
    "    # print_yellow(f'Finished: {i}')\n",
    "print_green(f'Done!')\n",
    "\n",
    "# Save rounds to another file\n",
    "print_cyan(f'Save rounds to another file')\n",
    "path = '../instances/rounds.txt'\n",
    "with open(path, 'w', encoding='utf8') as file_object:\n",
    "    file_object.write(str(rounds.tolist()))\n",
    "print_green(f'Done!')"
   ]
  },
  {
   "attachments": {},
   "cell_type": "markdown",
   "id": "78f8077b-90a6-4f4b-8e70-0d26e561510f",
   "metadata": {},
   "source": [
    "## Store and transform *rounds*\n",
    "\n",
    "Save *rounds* to another file, sum all the rounds to get the best annotation."
   ]
  },
  {
   "cell_type": "code",
   "execution_count": 192,
   "id": "a6d1ef13-9b42-4ec4-b486-dcd0f66b2922",
   "metadata": {},
   "outputs": [
    {
     "name": "stdout",
     "output_type": "stream",
     "text": [
      "\u001b[35mrounds\u001b[0m\n",
      "[[0. 1. 0. 0. 0.]\n",
      " [0. 1. 0. 0. 0.]\n",
      " [0. 1. 0. 0. 0.]\n",
      " [1. 0. 0. 0. 0.]\n",
      " [0. 1. 0. 0. 0.]\n",
      " [1. 1. 0. 0. 0.]\n",
      " [0. 1. 0. 0. 0.]\n",
      " [1. 1. 0. 0. 0.]\n",
      " [0. 1. 0. 0. 0.]\n",
      " [0. 1. 0. 0. 0.]\n",
      " [0. 1. 0. 0. 0.]\n",
      " [0. 1. 0. 0. 0.]\n",
      " [1. 1. 0. 0. 0.]\n",
      " [0. 1. 0. 0. 0.]\n",
      " [0. 1. 0. 0. 0.]\n",
      " [0. 1. 0. 0. 0.]\n",
      " [1. 0. 0. 0. 0.]\n",
      " [0. 0. 0. 0. 0.]\n",
      " [0. 1. 0. 0. 0.]\n",
      " [0. 1. 0. 0. 0.]\n",
      " [0. 1. 0. 0. 0.]\n",
      " [0. 1. 0. 0. 0.]\n",
      " [0. 1. 0. 0. 0.]\n",
      " [1. 1. 0. 0. 0.]\n",
      " [0. 1. 0. 0. 0.]\n",
      " [1. 1. 0. 0. 0.]\n",
      " [0. 1. 0. 0. 0.]\n",
      " [1. 0. 0. 0. 0.]\n",
      " [0. 1. 0. 0. 0.]\n",
      " [0. 1. 0. 0. 0.]\n",
      " [0. 1. 0. 0. 0.]\n",
      " [0. 1. 0. 0. 0.]\n",
      " [1. 1. 0. 0. 0.]\n",
      " [0. 1. 0. 0. 0.]\n",
      " [0. 1. 0. 0. 0.]\n",
      " [1. 1. 0. 0. 0.]\n",
      " [0. 1. 0. 0. 0.]\n",
      " [1. 1. 0. 0. 0.]\n",
      " [0. 1. 0. 0. 0.]\n",
      " [0. 1. 0. 0. 0.]\n",
      " [0. 1. 0. 0. 0.]\n",
      " [0. 1. 0. 0. 0.]\n",
      " [0. 1. 0. 0. 0.]\n",
      " [0. 1. 0. 0. 0.]\n",
      " [0. 1. 0. 0. 0.]\n",
      " [0. 1. 0. 0. 0.]\n",
      " [1. 1. 0. 0. 0.]\n",
      " [0. 0. 0. 0. 0.]\n",
      " [0. 0. 0. 0. 0.]\n",
      " [0. 1. 0. 0. 0.]\n",
      " [0. 1. 0. 0. 0.]\n",
      " [1. 0. 0. 0. 0.]\n",
      " [1. 0. 0. 0. 0.]\n",
      " [1. 0. 0. 0. 0.]\n",
      " [1. 1. 0. 0. 0.]\n",
      " [1. 1. 0. 0. 0.]\n",
      " [0. 1. 0. 0. 0.]\n",
      " [0. 1. 0. 0. 0.]\n",
      " [1. 1. 0. 0. 0.]\n",
      " [0. 1. 0. 0. 0.]\n",
      " [0. 1. 0. 0. 0.]\n",
      " [1. 0. 0. 0. 0.]\n",
      " [0. 1. 0. 0. 0.]\n",
      " [0. 1. 0. 0. 0.]\n",
      " [0. 1. 0. 0. 0.]\n",
      " [0. 1. 0. 0. 0.]\n",
      " [1. 1. 0. 0. 0.]\n",
      " [0. 1. 0. 0. 0.]\n",
      " [1. 0. 0. 0. 0.]\n",
      " [0. 1. 0. 0. 0.]\n",
      " [0. 1. 0. 0. 0.]\n",
      " [0. 1. 0. 0. 0.]\n",
      " [0. 1. 0. 0. 0.]\n",
      " [1. 0. 0. 0. 0.]\n",
      " [0. 1. 0. 0. 0.]\n",
      " [0. 1. 0. 0. 0.]\n",
      " [1. 0. 0. 0. 0.]\n",
      " [0. 1. 0. 0. 0.]\n",
      " [0. 1. 0. 0. 0.]\n",
      " [0. 1. 0. 0. 0.]\n",
      " [0. 1. 0. 0. 0.]\n",
      " [0. 1. 0. 0. 0.]\n",
      " [0. 1. 0. 0. 0.]\n",
      " [0. 1. 0. 0. 0.]\n",
      " [1. 0. 0. 0. 0.]\n",
      " [0. 1. 0. 0. 0.]\n",
      " [0. 0. 0. 0. 0.]\n",
      " [0. 1. 0. 0. 0.]\n",
      " [1. 1. 0. 0. 0.]\n",
      " [0. 1. 0. 0. 0.]\n",
      " [0. 1. 0. 0. 0.]\n",
      " [0. 1. 0. 0. 0.]\n",
      " [1. 1. 0. 0. 0.]\n",
      " [1. 1. 0. 0. 0.]\n",
      " [0. 1. 0. 0. 0.]\n",
      " [0. 1. 0. 0. 0.]\n",
      " [0. 1. 0. 0. 0.]\n",
      " [0. 1. 0. 0. 0.]\n",
      " [0. 1. 0. 0. 0.]\n",
      " [0. 1. 0. 0. 0.]]\n",
      "\u001b[35m\n",
      "Final score:\u001b[0m\n",
      "[27 85  0  0  0]\n"
     ]
    }
   ],
   "source": [
    "rounds = ''\n",
    "with open('../instances/rounds.txt', encoding=\"utf8\") as file_object:\n",
    "    rounds = np.array(eval(file_object.read()))\n",
    "        \n",
    "print_pink(\"rounds\")\n",
    "print(rounds)\n",
    "\n",
    "# sum the rounds\n",
    "scores = np.sum(rounds, axis=0)\n",
    "scores = scores.astype(int)\n",
    "\n",
    "# print the scores\n",
    "print_pink(\"\\nFinal score:\")\n",
    "print(scores)"
   ]
  },
  {
   "attachments": {},
   "cell_type": "markdown",
   "id": "3f4a40c5-0a8a-4391-9105-f1f1347918c4",
   "metadata": {},
   "source": [
    "## Plot the scores on a bar chart."
   ]
  },
  {
   "cell_type": "code",
   "execution_count": 193,
   "id": "b8b5ff73-09c2-41ae-b4ff-eb328bda9ecb",
   "metadata": {
    "tags": []
   },
   "outputs": [
    {
     "data": {
      "image/png": "[encoded data removed]",
      "text/plain": [
       "<Figure size 800x200 with 1 Axes>"
      ]
     },
     "metadata": {},
     "output_type": "display_data"
    }
   ],
   "source": [
    "import matplotlib.pyplot as plt \n",
    "\n",
    "# Define figure size\n",
    "fig, ax = plt.subplots(figsize=(8, 2))\n",
    "\n",
    "solvers = [\"HiGHS\", \"COIN-BC\", \"OR-TOOLS\", \"Gecode\", \"Chuffed\"]\n",
    "\n",
    "# Use barh function to create horizontal bar chart\n",
    "ax.barh(solvers, scores, color='#924ced')\n",
    "\n",
    "# Set x-axis label and y-axis label\n",
    "ax.set_xlabel('Scores (Won rounds)')\n",
    "ax.set_ylabel('Solvers')\n",
    "\n",
    "# Add value labels next to each bar\n",
    "for i, v in enumerate(scores):\n",
    "    ax.text(v, i, str(v), color='black', ha='left', va='center')\n",
    "\n",
    "# Show the plot\n",
    "plt.show()\n"
   ]
  }
 ],
 "metadata": {
  "kernelspec": {
   "display_name": "MENuS",
   "language": "python",
   "name": "menus"
  },
  "language_info": {
   "codemirror_mode": {
    "name": "ipython",
    "version": 3
   },
   "file_extension": ".py",
   "mimetype": "text/x-python",
   "name": "python",
   "nbconvert_exporter": "python",
   "pygments_lexer": "ipython3",
   "version": "3.10.9"
  }
 },
 "nbformat": 4,
 "nbformat_minor": 5
}
