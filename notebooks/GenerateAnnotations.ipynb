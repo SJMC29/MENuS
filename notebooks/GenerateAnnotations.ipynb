{
 "cells": [
  {
   "cell_type": "markdown",
   "id": "2d222a51-4da4-47e7-ab5b-767283d7194b",
   "metadata": {},
   "source": [
    "# Generate Annotations\n",
    "The propuse of this notebook is generate all the 140 anotations combinations for our minizinc model"
   ]
  },
  {
   "cell_type": "markdown",
   "id": "330cf6c6-7de6-4c8a-a983-771c8218d2fd",
   "metadata": {},
   "source": [
    "## Get the model"
   ]
  },
  {
   "cell_type": "code",
   "execution_count": 11,
   "id": "1b55cfd5-9aa1-456d-9aef-ccc6d9655b94",
   "metadata": {},
   "outputs": [],
   "source": [
    "import re\n",
    "\n",
    "model = \"\"\n",
    "\n",
    "with open('./models/base.mzn', encoding=\"utf8\") as file_object:\n",
    "    model = file_object.read()\n",
    "\n",
    "# print(model)"
   ]
  },
  {
   "cell_type": "markdown",
   "id": "bd370fd3-e85e-4d26-bb78-e93a8166fc83",
   "metadata": {},
   "source": [
    "# Format data"
   ]
  },
  {
   "cell_type": "code",
   "execution_count": 21,
   "id": "eb83f74b-b31a-4e2a-ae41-9eaa7cbc46e8",
   "metadata": {},
   "outputs": [],
   "source": [
    "    \n",
    "begin = model[0:model.find(\"],\")+2]\n",
    "end = model[model.find(\"minimize\"):len(model)]\n",
    "\n",
    "\n",
    "# print(begin)\n",
    "# print(end)"
   ]
  },
  {
   "cell_type": "markdown",
   "id": "eb9b810c-2a41-4568-ab85-3d9690097abc",
   "metadata": {},
   "source": [
    "# Get the Annotations"
   ]
  },
  {
   "cell_type": "code",
   "execution_count": 17,
   "id": "ff67a7ea-85fd-45be-a2e0-6ae813335995",
   "metadata": {},
   "outputs": [],
   "source": [
    "variable_selection = [\"anti_first_fail\", \"dom_w_deg\", \"first_fail\", \"impact\", \"input_order\", \"largest\", \"max_regret\", \"most_constrained\", \"occurrence\", \"smallest\"]\n",
    "value_choice = [\"indomain\", \"indomain_interval\", \"indomain_max\", \"indomain_median\", \"indomain_middle\", \"indomain_min\", \"indomain_random\", \"indomain_reverse_split\", \"indomain_split\", \"indomain_split_random\", \"outdomain_max\", \"outdomain_median\", \"outdomain_min\", \"outdomain_random\"]"
   ]
  },
  {
   "cell_type": "markdown",
   "id": "01475364-9992-4e5c-8f57-1c9342b4f885",
   "metadata": {},
   "source": [
    "# Generate the models\n",
    "`int_search( <variables>, <varchoice>, <constrainchoice> )`"
   ]
  },
  {
   "cell_type": "code",
   "execution_count": 31,
   "id": "5d62844d-1c1f-44cc-9b79-fa8b52953195",
   "metadata": {},
   "outputs": [
    {
     "name": "stdout",
     "output_type": "stream",
     "text": [
      "created: anti_first_fail indomain\n",
      "created: anti_first_fail indomain_interval\n",
      "created: anti_first_fail indomain_max\n",
      "created: anti_first_fail indomain_median\n",
      "created: anti_first_fail indomain_middle\n",
      "created: anti_first_fail indomain_min\n",
      "created: anti_first_fail indomain_random\n",
      "created: anti_first_fail indomain_reverse_split\n",
      "created: anti_first_fail indomain_split\n",
      "created: anti_first_fail indomain_split_random\n",
      "created: anti_first_fail outdomain_max\n",
      "created: anti_first_fail outdomain_median\n",
      "created: anti_first_fail outdomain_min\n",
      "created: anti_first_fail outdomain_random\n",
      "created: dom_w_deg indomain\n",
      "created: dom_w_deg indomain_interval\n",
      "created: dom_w_deg indomain_max\n",
      "created: dom_w_deg indomain_median\n",
      "created: dom_w_deg indomain_middle\n",
      "created: dom_w_deg indomain_min\n",
      "created: dom_w_deg indomain_random\n",
      "created: dom_w_deg indomain_reverse_split\n",
      "created: dom_w_deg indomain_split\n",
      "created: dom_w_deg indomain_split_random\n",
      "created: dom_w_deg outdomain_max\n",
      "created: dom_w_deg outdomain_median\n",
      "created: dom_w_deg outdomain_min\n",
      "created: dom_w_deg outdomain_random\n",
      "created: first_fail indomain\n",
      "created: first_fail indomain_interval\n",
      "created: first_fail indomain_max\n",
      "created: first_fail indomain_median\n",
      "created: first_fail indomain_middle\n",
      "created: first_fail indomain_min\n",
      "created: first_fail indomain_random\n",
      "created: first_fail indomain_reverse_split\n",
      "created: first_fail indomain_split\n",
      "created: first_fail indomain_split_random\n",
      "created: first_fail outdomain_max\n",
      "created: first_fail outdomain_median\n",
      "created: first_fail outdomain_min\n",
      "created: first_fail outdomain_random\n",
      "created: impact indomain\n",
      "created: impact indomain_interval\n",
      "created: impact indomain_max\n",
      "created: impact indomain_median\n",
      "created: impact indomain_middle\n",
      "created: impact indomain_min\n",
      "created: impact indomain_random\n",
      "created: impact indomain_reverse_split\n",
      "created: impact indomain_split\n",
      "created: impact indomain_split_random\n",
      "created: impact outdomain_max\n",
      "created: impact outdomain_median\n",
      "created: impact outdomain_min\n",
      "created: impact outdomain_random\n",
      "created: input_order indomain\n",
      "created: input_order indomain_interval\n",
      "created: input_order indomain_max\n",
      "created: input_order indomain_median\n",
      "created: input_order indomain_middle\n",
      "created: input_order indomain_min\n",
      "created: input_order indomain_random\n",
      "created: input_order indomain_reverse_split\n",
      "created: input_order indomain_split\n",
      "created: input_order indomain_split_random\n",
      "created: input_order outdomain_max\n",
      "created: input_order outdomain_median\n",
      "created: input_order outdomain_min\n",
      "created: input_order outdomain_random\n",
      "created: largest indomain\n",
      "created: largest indomain_interval\n",
      "created: largest indomain_max\n",
      "created: largest indomain_median\n",
      "created: largest indomain_middle\n",
      "created: largest indomain_min\n",
      "created: largest indomain_random\n",
      "created: largest indomain_reverse_split\n",
      "created: largest indomain_split\n",
      "created: largest indomain_split_random\n",
      "created: largest outdomain_max\n",
      "created: largest outdomain_median\n",
      "created: largest outdomain_min\n",
      "created: largest outdomain_random\n",
      "created: max_regret indomain\n",
      "created: max_regret indomain_interval\n",
      "created: max_regret indomain_max\n",
      "created: max_regret indomain_median\n",
      "created: max_regret indomain_middle\n",
      "created: max_regret indomain_min\n",
      "created: max_regret indomain_random\n",
      "created: max_regret indomain_reverse_split\n",
      "created: max_regret indomain_split\n",
      "created: max_regret indomain_split_random\n",
      "created: max_regret outdomain_max\n",
      "created: max_regret outdomain_median\n",
      "created: max_regret outdomain_min\n",
      "created: max_regret outdomain_random\n",
      "created: most_constrained indomain\n",
      "created: most_constrained indomain_interval\n",
      "created: most_constrained indomain_max\n",
      "created: most_constrained indomain_median\n",
      "created: most_constrained indomain_middle\n",
      "created: most_constrained indomain_min\n",
      "created: most_constrained indomain_random\n",
      "created: most_constrained indomain_reverse_split\n",
      "created: most_constrained indomain_split\n",
      "created: most_constrained indomain_split_random\n",
      "created: most_constrained outdomain_max\n",
      "created: most_constrained outdomain_median\n",
      "created: most_constrained outdomain_min\n",
      "created: most_constrained outdomain_random\n",
      "created: occurrence indomain\n",
      "created: occurrence indomain_interval\n",
      "created: occurrence indomain_max\n",
      "created: occurrence indomain_median\n",
      "created: occurrence indomain_middle\n",
      "created: occurrence indomain_min\n",
      "created: occurrence indomain_random\n",
      "created: occurrence indomain_reverse_split\n",
      "created: occurrence indomain_split\n",
      "created: occurrence indomain_split_random\n",
      "created: occurrence outdomain_max\n",
      "created: occurrence outdomain_median\n",
      "created: occurrence outdomain_min\n",
      "created: occurrence outdomain_random\n",
      "created: smallest indomain\n",
      "created: smallest indomain_interval\n",
      "created: smallest indomain_max\n",
      "created: smallest indomain_median\n",
      "created: smallest indomain_middle\n",
      "created: smallest indomain_min\n",
      "created: smallest indomain_random\n",
      "created: smallest indomain_reverse_split\n",
      "created: smallest indomain_split\n",
      "created: smallest indomain_split_random\n",
      "created: smallest outdomain_max\n",
      "created: smallest outdomain_median\n",
      "created: smallest outdomain_min\n",
      "created: smallest outdomain_random\n"
     ]
    }
   ],
   "source": [
    "for i in range(len(variable_selection)):\n",
    "    for j in range(len(value_choice)):\n",
    "        varchoice = variable_selection[i]\n",
    "        constrainchoice = value_choice[j]\n",
    "        path = './models/'+varchoice+'-'+ constrainchoice+'.mzn'\n",
    "        \n",
    "        model = begin + ' ' + varchoice + ',' + constrainchoice + ')\\n' + end\n",
    "        \n",
    "        #print(model)\n",
    "        with open(path, 'w', encoding='utf8') as file_object:\n",
    "            file_object.write(model)\n",
    "        print('created:',varchoice,constrainchoice)"
   ]
  },
  {
   "cell_type": "code",
   "execution_count": null,
   "id": "81a53591-f57f-49ce-972f-128c2995bba5",
   "metadata": {},
   "outputs": [],
   "source": []
  }
 ],
 "metadata": {
  "kernelspec": {
   "display_name": "Python 3 (ipykernel)",
   "language": "python",
   "name": "python3"
  },
  "language_info": {
   "codemirror_mode": {
    "name": "ipython",
    "version": 3
   },
   "file_extension": ".py",
   "mimetype": "text/x-python",
   "name": "python",
   "nbconvert_exporter": "python",
   "pygments_lexer": "ipython3",
   "version": "3.9.13"
  }
 },
 "nbformat": 4,
 "nbformat_minor": 5
}
