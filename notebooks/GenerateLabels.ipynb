{
 "cells": [
  {
   "attachments": {},
   "cell_type": "markdown",
   "id": "4779d03c-ce82-4d54-bcc7-95f93d9f31cd",
   "metadata": {},
   "source": [
    "### Auxiliar Functions"
   ]
  },
  {
   "cell_type": "code",
   "execution_count": 145,
   "id": "bce0ac10-6d08-4434-8a2c-5ec495c4f5f6",
   "metadata": {},
   "outputs": [],
   "source": [
    "import os\n",
    "import re\n",
    "import numpy as np\n",
    "import random\n",
    "import subprocess\n",
    "import matplotlib.pyplot as plt\n",
    "\n",
    "def print_red(text):\n",
    "    print('\\x1b[31m' + text + '\\x1b[0m')\n",
    "def print_yellow(text):\n",
    "    print('\\x1b[33m' + text + '\\x1b[0m')\n",
    "def print_green(text):\n",
    "    print('\\x1b[32m' + text + '\\x1b[0m')\n",
    "def print_pink(text):\n",
    "    print('\\x1b[35m' + text + '\\x1b[0m')\n",
    "def print_cyan(text):\n",
    "    print('\\x1b[36m' + text + '\\x1b[0m')"
   ]
  },
  {
   "attachments": {},
   "cell_type": "markdown",
   "id": "66edfe84-2809-4857-a046-2ca9e0916343",
   "metadata": {},
   "source": [
    "## Get the Instances / Ingredient list\n",
    "The instances have been generated using the notebook: Generate Instance.ipynb"
   ]
  },
  {
   "cell_type": "code",
   "execution_count": 146,
   "id": "0a460051-f892-4037-b5f8-54a2c3666ce1",
   "metadata": {},
   "outputs": [],
   "source": [
    "instances_folder = '..\\instances'\n",
    "instances_path = [os.path.join(instances_folder, f) for f in os.listdir(instances_folder) if f.endswith('.dzn')]\n",
    "# Sort\n",
    "def numeric_sort_key(file_path):\n",
    "    match = re.search(r'\\d+', file_path)\n",
    "    return int(match.group()) if match else file_path\n",
    "\n",
    "instances_path = sorted(instances_path, key=numeric_sort_key)\n",
    "instances = instances_path\n",
    "# print(instances_path)"
   ]
  },
  {
   "attachments": {},
   "cell_type": "markdown",
   "id": "268cc177-f021-4051-9f96-e4bcdb111cc5",
   "metadata": {},
   "source": [
    "# Minizinc\n",
    "### Chosen model with annotations\n",
    "The models have been generated using the notebook: GenerateAnnotations.ipynb"
   ]
  },
  {
   "cell_type": "code",
   "execution_count": 147,
   "id": "54ec4975-409f-4da4-9560-2202db231e15",
   "metadata": {},
   "outputs": [],
   "source": [
    "models = ['../models/largest-indomain_max.mzn']# ../models/largest-indomain_max.mzn'"
   ]
  },
  {
   "attachments": {},
   "cell_type": "markdown",
   "id": "c1156ed7-7a68-498c-8bfc-ddfbf2790596",
   "metadata": {},
   "source": [
    "### Solvers"
   ]
  },
  {
   "cell_type": "code",
   "execution_count": 148,
   "id": "cf73aa63-4479-4b05-857e-0441c8b50673",
   "metadata": {},
   "outputs": [
    {
     "name": "stdout",
     "output_type": "stream",
     "text": [
      "MiniZinc driver.\n",
      "Available solver configurations:\n",
      "  Chuffed 0.11.0 (org.chuffed.chuffed, cp, lcg, int)\n",
      "  COIN-BC 2.10.8/1.17.7 (org.minizinc.mip.coin-bc, mip, float, api, osicbc, coinbc, cbc)\n",
      "  CPLEX <unknown version> (org.minizinc.mip.cplex, mip, float, api)\n",
      "  findMUS 0.7.0 (org.minizinc.findmus)\n",
      "  Gecode 6.3.0 (org.gecode.gecode, default solver, cp, int, float, set, restart)\n",
      "  Gecode Gist 6.3.0 (org.gecode.gist, cp, int, float, set, restart)\n",
      "  Globalizer 0.1.7.2 (org.minizinc.globalizer, experimental, tool)\n",
      "  Gurobi <unknown version> (org.minizinc.mip.gurobi, mip, float, api)\n",
      "  HiGHS 1.4.2 (org.minizinc.mip.highs, mip, float, api, highs)\n",
      "  OR-TOOLS 9.6.0 (com.google.or-tools)\n",
      "  Picat_SAT 3.4 (org.picat-lang.picat, sat, int)\n",
      "  SCIP <unknown version> (org.minizinc.mip.scip, mip, float, api)\n",
      "  Xpress <unknown version> (org.minizinc.mip.xpress, mip, float, api)\n",
      "Search path for solver configurations:\n",
      "  C:\\Users\\juanj\\AppData\\Roaming/MiniZinc/solvers\n",
      "  C:\\Program Files\\MiniZinc\\share\\minizinc/solvers\n"
     ]
    }
   ],
   "source": [
    "!minizinc --solvers\n",
    "solvers = [\"HiGHS\", \"OR-TOOLS\"]"
   ]
  },
  {
   "attachments": {},
   "cell_type": "markdown",
   "id": "ae852a97-19f8-48bd-80d7-f36fb558b42e",
   "metadata": {},
   "source": [
    "## Calculate labels"
   ]
  },
  {
   "cell_type": "code",
   "execution_count": 149,
   "id": "1a6b9d3d-098e-43be-8246-52cb92ab803a",
   "metadata": {
    "tags": []
   },
   "outputs": [],
   "source": [
    "# Returns the solver who solved the model in the best way possible\n",
    "def get_labels(instances, timeout_mzn):    \n",
    "    winner = [0] * len(instances) # 0 for HiGHS, 1 for COIN-BC\n",
    "    times = []\n",
    "    timeout_mzn = timeout_mzn*1000\n",
    "    \n",
    "    for i, instance in enumerate(instances):\n",
    "        mnt = float('inf')\n",
    "        time = float('inf')\n",
    "        times.append([])\n",
    "        \n",
    "        for j, solver in enumerate(solvers):\n",
    "            for k, model in enumerate(models):\n",
    "                # Run the minizinc command for the current model and data file\n",
    "                # cmd = \"minizinc --solver PicatSAT --output-time ../models/largest-indomain_max.mzn ../instances/1.dzn --output-time --solver-time-limit 5000 > output.txt\"\n",
    "                \n",
    "                if solver == \"COIN-BC\":\n",
    "                    cmd = f'minizinc --solver {solver} --output-time {model} {instance} --output-time --solver-time-limit {timeout_mzn} --cbcFlag \"threads 4\" > output.txt'\n",
    "                else:\n",
    "                    cmd = f\"minizinc --solver {solver} --output-time {model} {instance} --output-time --solver-time-limit {timeout_mzn} -p4 > output.txt\"\n",
    "                proc = subprocess.Popen(cmd, stdout=subprocess.PIPE, shell=True)\n",
    "                try:\n",
    "                    # Wait for the process to finish\n",
    "                    proc.wait()  # Optional, wait for the process to fully complete\n",
    "\n",
    "                except KeyboardInterrupt:\n",
    "                    # print_red(\"Program interrupted by the user.\")\n",
    "                    # Terminate the process\n",
    "                    if os.name == 'nt': # If the os is Windows\n",
    "                        subprocess.call(['taskkill', '/F', '/T', '/PID', str(proc.pid)]) # Force kill the process\n",
    "                    else:\n",
    "                        os.killpg(os.getpgid(proc.pid), signal.SIGTERM) # Kill the process group\n",
    "\n",
    "                output = \"\"\n",
    "                # Read the contents of the output.txt file\n",
    "                with open(\"output.txt\", \"r\") as file:\n",
    "                    output = file.read()\n",
    "\n",
    "                # Find the last occurrence of 'mnt' in the contents\n",
    "                last_mnt_index = output.rfind(\"mnt\")\n",
    "\n",
    "                if last_mnt_index != -1:\n",
    "                    # Extract the value of mnt after the last occurrence\n",
    "                    solved = output[last_mnt_index:].split(\"=\")[1].strip()\n",
    "                    # Extracting the values using regular expressions\n",
    "                    mnt_temp_match = re.search(r\"\\d+\", solved)\n",
    "                    time_temp_match = re.search(r\"(\\d+\\.\\d+)\", solved)\n",
    "\n",
    "                    # Storing the extracted values in variables\n",
    "                    mnt_temp = float(mnt_temp_match.group())\n",
    "                    time_temp = float(time_temp_match.group())\n",
    "                else:\n",
    "                    mnt_temp = float('inf')\n",
    "                    time_temp = float('inf')\n",
    "                    # print(\"No 'mnt' value found in the file.\")                \n",
    "\n",
    "                # Store values for futures generations\n",
    "                times[i].append(time_temp)\n",
    "\n",
    "                if mnt >= mnt_temp: # If the value is minor from the stored\n",
    "                    if mnt == mnt_temp: # If the value is equal from the stored compare time\n",
    "                        if time >= time_temp: # If the value of time from minizinc is minor from the stored\n",
    "                            if time == time_temp: # If the value of time from minizinc is equal from the stored choose random\n",
    "                                if winner[i] == 0:\n",
    "                                    winner[i] = solver + '/' + model.replace(\"../models/\", \"\").replace(\".mzn\", \"\")\n",
    "                                if random.random() < 0.5:\n",
    "                                    winner[i] = solver + '/' + model.replace(\"../models/\", \"\").replace(\".mzn\", \"\")\n",
    "                            else:\n",
    "                                mnt = mnt_temp\n",
    "                                time = time_temp\n",
    "                                winner[i] = solver + '/' + model.replace(\"../models/\", \"\").replace(\".mzn\", \"\")\n",
    "                    else:\n",
    "                        mnt = mnt_temp\n",
    "                        time = time_temp\n",
    "                        winner[i] = solver + '/' + model.replace(\"../models/\", \"\").replace(\".mzn\", \"\")\n",
    "                        \n",
    "        print_yellow(str(i)+ \": \" + winner[i] + \" WON!\")\n",
    "        \n",
    "    times = np.array(times)\n",
    "    # Remove inf    \n",
    "    def replace_inf_with_max(arr):\n",
    "        # Replace inf values with nan\n",
    "        arr[np.isinf(arr)] = np.nan\n",
    "        max_vals = np.nanmax(arr, axis=0)  # Compute maximum values of each column\n",
    "        print(max_vals)\n",
    "        for i in range(arr.shape[0]):\n",
    "            for j in range(arr.shape[1]):\n",
    "                if np.isnan(arr[i, j]):\n",
    "                    # arr[i, j] = max_vals[j]\n",
    "                    arr[i, j] = timeout_mzn/1000\n",
    "        return arr\n",
    "\n",
    "    return winner, replace_inf_with_max(times)"
   ]
  },
  {
   "cell_type": "code",
   "execution_count": 150,
   "id": "423bf919-3304-49aa-a65f-7c692d8d1569",
   "metadata": {
    "tags": []
   },
   "outputs": [
    {
     "name": "stdout",
     "output_type": "stream",
     "text": [
      "\u001b[33m0: OR-TOOLS/largest-indomain_max WON!\u001b[0m\n",
      "\u001b[33m1: HiGHS/largest-indomain_max WON!\u001b[0m\n",
      "\u001b[33m2: HiGHS/largest-indomain_max WON!\u001b[0m\n",
      "\u001b[33m3: OR-TOOLS/largest-indomain_max WON!\u001b[0m\n",
      "\u001b[33m4: HiGHS/largest-indomain_max WON!\u001b[0m\n",
      "\u001b[33m5: HiGHS/largest-indomain_max WON!\u001b[0m\n",
      "\u001b[33m6: HiGHS/largest-indomain_max WON!\u001b[0m\n",
      "\u001b[33m7: OR-TOOLS/largest-indomain_max WON!\u001b[0m\n",
      "\u001b[33m8: OR-TOOLS/largest-indomain_max WON!\u001b[0m\n",
      "\u001b[33m9: OR-TOOLS/largest-indomain_max WON!\u001b[0m\n",
      "\u001b[33m10: OR-TOOLS/largest-indomain_max WON!\u001b[0m\n",
      "\u001b[33m11: HiGHS/largest-indomain_max WON!\u001b[0m\n",
      "\u001b[33m12: OR-TOOLS/largest-indomain_max WON!\u001b[0m\n",
      "\u001b[33m13: OR-TOOLS/largest-indomain_max WON!\u001b[0m\n",
      "\u001b[33m14: OR-TOOLS/largest-indomain_max WON!\u001b[0m\n",
      "\u001b[33m15: OR-TOOLS/largest-indomain_max WON!\u001b[0m\n",
      "\u001b[33m16: HiGHS/largest-indomain_max WON!\u001b[0m\n",
      "\u001b[33m17: HiGHS/largest-indomain_max WON!\u001b[0m\n",
      "\u001b[33m18: HiGHS/largest-indomain_max WON!\u001b[0m\n",
      "\u001b[33m19: OR-TOOLS/largest-indomain_max WON!\u001b[0m\n",
      "[12.25  5.36]\n"
     ]
    }
   ],
   "source": [
    "labels, times = get_labels(instances_path, 5)"
   ]
  },
  {
   "cell_type": "code",
   "execution_count": 151,
   "id": "e31fdc03",
   "metadata": {},
   "outputs": [
    {
     "name": "stdout",
     "output_type": "stream",
     "text": [
      "HiGHS/largest-indomain_max: 9\n",
      "OR-TOOLS/largest-indomain_max: 11\n",
      "['..\\\\instances\\\\0.dzn', '..\\\\instances\\\\1.dzn', '..\\\\instances\\\\2.dzn', '..\\\\instances\\\\3.dzn', '..\\\\instances\\\\4.dzn', '..\\\\instances\\\\5.dzn', '..\\\\instances\\\\6.dzn', '..\\\\instances\\\\7.dzn', '..\\\\instances\\\\8.dzn', '..\\\\instances\\\\9.dzn', '..\\\\instances\\\\10.dzn', '..\\\\instances\\\\11.dzn', '..\\\\instances\\\\12.dzn', '..\\\\instances\\\\13.dzn', '..\\\\instances\\\\14.dzn', '..\\\\instances\\\\16.dzn', '..\\\\instances\\\\17.dzn', '..\\\\instances\\\\18.dzn'] ['OR-TOOLS/largest-indomain_max', 'HiGHS/largest-indomain_max', 'HiGHS/largest-indomain_max', 'OR-TOOLS/largest-indomain_max', 'HiGHS/largest-indomain_max', 'HiGHS/largest-indomain_max', 'HiGHS/largest-indomain_max', 'OR-TOOLS/largest-indomain_max', 'OR-TOOLS/largest-indomain_max', 'OR-TOOLS/largest-indomain_max', 'OR-TOOLS/largest-indomain_max', 'HiGHS/largest-indomain_max', 'OR-TOOLS/largest-indomain_max', 'OR-TOOLS/largest-indomain_max', 'OR-TOOLS/largest-indomain_max', 'HiGHS/largest-indomain_max', 'HiGHS/largest-indomain_max', 'HiGHS/largest-indomain_max'] [[12.25  4.73]\n",
      " [ 1.54  3.13]\n",
      " [ 5.32  5.32]\n",
      " [ 6.54  5.36]\n",
      " [ 2.32  3.71]\n",
      " [ 1.57  4.23]\n",
      " [ 2.51  2.95]\n",
      " [ 5.43  3.05]\n",
      " [ 5.31  3.62]\n",
      " [ 5.64  2.93]\n",
      " [ 4.99  2.86]\n",
      " [ 1.72  2.42]\n",
      " [ 4.25  2.29]\n",
      " [ 2.29  1.6 ]\n",
      " [ 2.86  1.25]\n",
      " [ 2.08  3.08]\n",
      " [ 2.86  3.71]\n",
      " [ 0.63  1.16]]\n"
     ]
    }
   ],
   "source": [
    "import pandas as pd\n",
    "\n",
    "def undersampling(category, minimum, instances, labels, times):\n",
    "  under_instances = []\n",
    "  under_labels = []\n",
    "  under_times = []\n",
    "  count = 0\n",
    "\n",
    "  for i, label in enumerate(labels):\n",
    "    if label == category:\n",
    "      if count < minimum:\n",
    "        under_instances.append(instances[i])\n",
    "        under_labels.append(label)\n",
    "        under_times.append(times[i])\n",
    "        count += 1\n",
    "    else:\n",
    "      under_instances.append(instances[i])\n",
    "      under_labels.append(label)\n",
    "      under_times.append(times[i])\n",
    "\n",
    "  return under_instances, under_labels, np.array(under_times)\n",
    "\n",
    "#  Count the occurrences of each category\n",
    "unique_categories, category_counts = np.unique(labels, return_counts=True)\n",
    "\n",
    "# Remove the excess the category counts\n",
    "for category, count in zip(unique_categories, category_counts):\n",
    "    print(f\"{category}: {count}\")\n",
    "    instances, labels, times = undersampling(category, min(category_counts), instances, labels, times)\n",
    "\n",
    "print(instances, labels, times)"
   ]
  },
  {
   "cell_type": "code",
   "execution_count": 152,
   "id": "44a28896",
   "metadata": {},
   "outputs": [],
   "source": [
    "import shutil\n",
    "\n",
    "balance_folder = '../instances/balance/'\n",
    "\n",
    "for instance in instances:\n",
    "    shutil.copy(instance, balance_folder)"
   ]
  },
  {
   "attachments": {},
   "cell_type": "markdown",
   "id": "c755d90c-01e4-4081-bb2f-486fd3049227",
   "metadata": {},
   "source": [
    "## Storing labels and times"
   ]
  },
  {
   "cell_type": "code",
   "execution_count": 153,
   "id": "a4831305-7be9-4cb6-9251-1c64637e1ea8",
   "metadata": {},
   "outputs": [],
   "source": [
    "path = '../instances/balance/labels.txt'\n",
    "with open(path, 'w', encoding='utf8') as file_object:\n",
    "    file_object.write(str(labels))\n",
    "\n",
    "path = '../instances/balance/times.txt'\n",
    "with open(path, 'w', encoding='utf8') as file_object:\n",
    "    file_object.write('solvers:\\n'+str(solvers)+'\\nannotations:\\n'+str(models)+'\\nn: Number of products\\n'+str(n)+'\\nTimes that took each solver with a timeout of 10s for each instance.\\nIf 20s then it didnt find answer in 10s so reached cmd timeout.\\n(Values greater than 10s and less than 20 was because minizinc was looking for a last solution).\\n'+str(times.tolist()))"
   ]
  },
  {
   "attachments": {},
   "cell_type": "markdown",
   "id": "4cb97325-7cdf-4603-84bc-81ab5f780042",
   "metadata": {},
   "source": [
    "## Looking for a Patern"
   ]
  },
  {
   "cell_type": "code",
   "execution_count": 154,
   "id": "670a1818-79ea-4a32-8041-0f9d80d6dad2",
   "metadata": {},
   "outputs": [
    {
     "data": {
      "image/png": "[encoded data removed]",
      "text/plain": [
       "<Figure size 640x480 with 1 Axes>"
      ]
     },
     "metadata": {},
     "output_type": "display_data"
    }
   ],
   "source": [
    "import ast\n",
    "path = '../instances/balance/times.txt'\n",
    "with open(path, 'r', encoding='utf8') as file_object:\n",
    "    times = np.array(ast.literal_eval(file_object.read().split('solution).\\n')[1]))\n",
    "\n",
    "# Get n\n",
    "n = []\n",
    "for instance in instances:   \n",
    "    with open(instance, encoding=\"utf8\") as file_object:\n",
    "        n_temp = file_object.read().split(\"n = \")\n",
    "        n_temp = n_temp[1].split(\";\")\n",
    "        n.append(int(n_temp[0]))\n",
    "    \n",
    "YH = times[:,0]\n",
    "YC = times[:,1]\n",
    "\n",
    "# Calculate the coefficients of the polynomial trend line\n",
    "coefficientsYH = np.polyfit(n, YH, 4)\n",
    "coefficientsYC = np.polyfit(n, YC, 4)\n",
    "\n",
    "# Create a polynomial function based on the coefficients\n",
    "trend_funcYH = np.poly1d(coefficientsYH)\n",
    "trend_funcYC = np.poly1d(coefficientsYC)\n",
    "# Generate a range of x-values for plotting the trend line\n",
    "n_range = np.linspace(min(n), max(n), 100)\n",
    "\n",
    "# Create a line plot for y2 with red color\n",
    "plt.scatter(n, YC, color='#ff6b93', label=solvers[1])\n",
    "# Create a line plot for y1 with blue color\n",
    "plt.scatter(n, YH, color='#42c6ff', label=solvers[0])\n",
    "\n",
    "\n",
    "# Plot the trend line\n",
    "plt.plot(n_range, trend_funcYH(n_range), color='blue')\n",
    "plt.plot(n_range, trend_funcYC(n_range), color='red')\n",
    "\n",
    "# Set labels for x-axis and y-axis\n",
    "plt.xlabel('Products(n)')\n",
    "plt.ylabel('Time(s)')\n",
    "\n",
    "# Set title for the plot\n",
    "# plt.title('Algorithms solving instances in 10s')\n",
    "\n",
    "# Add a legend to differentiate lines\n",
    "plt.legend()\n",
    "\n",
    "# Show the plot\n",
    "plt.show()"
   ]
  },
  {
   "cell_type": "code",
   "execution_count": 155,
   "id": "dd91c08e-d48c-4cff-9bd4-75cdd46f702c",
   "metadata": {},
   "outputs": [
    {
     "name": "stdout",
     "output_type": "stream",
     "text": [
      "OR-TOOLS/largest-indomain_max: 9 50.0%\n",
      "HiGHS/largest-indomain_max: 9 50.0%\n"
     ]
    }
   ],
   "source": [
    "freq = {}\n",
    "\n",
    "# Count frequency of each element in the array\n",
    "for num in labels:\n",
    "    if num in freq:\n",
    "        freq[num] += 1\n",
    "    else:\n",
    "        freq[num] = 1\n",
    "\n",
    "# Print frequency of each element\n",
    "for num, count in freq.items():\n",
    "    print(f\"{num}: {count} {count/len(labels)*100}%\")"
   ]
  },
  {
   "cell_type": "code",
   "execution_count": 156,
   "id": "e9e299a1-827b-4610-b48a-17f8194de13c",
   "metadata": {},
   "outputs": [
    {
     "name": "stdout",
     "output_type": "stream",
     "text": [
      "['OR-TOOLS/largest-indomain_max', 'HiGHS/largest-indomain_max', 'HiGHS/largest-indomain_max', 'OR-TOOLS/largest-indomain_max', 'HiGHS/largest-indomain_max', 'HiGHS/largest-indomain_max', 'HiGHS/largest-indomain_max', 'OR-TOOLS/largest-indomain_max', 'OR-TOOLS/largest-indomain_max', 'OR-TOOLS/largest-indomain_max', 'OR-TOOLS/largest-indomain_max', 'HiGHS/largest-indomain_max', 'OR-TOOLS/largest-indomain_max', 'OR-TOOLS/largest-indomain_max', 'OR-TOOLS/largest-indomain_max', 'HiGHS/largest-indomain_max', 'HiGHS/largest-indomain_max', 'HiGHS/largest-indomain_max']\n"
     ]
    }
   ],
   "source": [
    "print(labels)"
   ]
  },
  {
   "cell_type": "code",
   "execution_count": 157,
   "id": "dd4e1715-a11d-42b2-a792-01095cfacdc4",
   "metadata": {},
   "outputs": [
    {
     "name": "stdout",
     "output_type": "stream",
     "text": [
      "Index 121: 0\n"
     ]
    }
   ],
   "source": [
    "def print_numbers_with_index(lst):\n",
    "    for i, num in enumerate(lst):\n",
    "        if(num == 0):\n",
    "            print(f\"Index {i}: {num}\")\n",
    "\n",
    "# Example usage\n",
    "numbers = [21, 11, 11, 21, 21, 21, 21, 11, 11, 21, 11, 11, 21, 21, 21, 11, 11, 11, 11, 21, 11, 21, 21, 11, 21, 21, 21, 11, 21, 21, 21, 21, 21, 21, 11, 21, 21, 11, 21, 11, 21, 21, 11, 11, 11, 21, 11, 21, 11, 11, 11, 11, 11, 11, 11, 21, 11, 11, 21, 21, 11, 11, 21, 21, 21, 21, 21, 11, 11, 21, 11, 11, 21, 11, 11, 21, 21, 11, 11, 21, 21, 11, 11, 11, 11, 11, 11, 21, 11, 11, 21, 11, 21, 11, 11, 21, 11, 11, 21, 21, 11, 21, 21, 11, 21, 21, 11, 11, 21, 11, 21, 21, 21, 11, 21, 11, 21, 21, 11, 21, 11, 0, 21, 21, 21, 11, 11, 21, 11, 21, 21, 21, 11, 11, 11, 21, 11, 11, 21, 21, 21, 11, 21, 21, 21, 11, 11, 21, 21, 21]\n",
    "print_numbers_with_index(numbers)\n"
   ]
  },
  {
   "cell_type": "code",
   "execution_count": null,
   "id": "a1d91b17-0adb-4237-9f04-85f444dc8d0f",
   "metadata": {},
   "outputs": [],
   "source": []
  },
  {
   "cell_type": "code",
   "execution_count": null,
   "id": "458b8eb0-2ce5-4e64-84d4-53d879ed3cca",
   "metadata": {},
   "outputs": [],
   "source": []
  }
 ],
 "metadata": {
  "kernelspec": {
   "display_name": "MENuS",
   "language": "python",
   "name": "python3"
  },
  "language_info": {
   "codemirror_mode": {
    "name": "ipython",
    "version": 3
   },
   "file_extension": ".py",
   "mimetype": "text/x-python",
   "name": "python",
   "nbconvert_exporter": "python",
   "pygments_lexer": "ipython3",
   "version": "3.11.2"
  }
 },
 "nbformat": 4,
 "nbformat_minor": 5
}
