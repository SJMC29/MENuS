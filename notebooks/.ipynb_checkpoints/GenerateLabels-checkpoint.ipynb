{
 "cells": [
  {
   "cell_type": "markdown",
   "id": "4779d03c-ce82-4d54-bcc7-95f93d9f31cd",
   "metadata": {},
   "source": [
    "### Auxiliar Functions"
   ]
  },
  {
   "cell_type": "code",
   "execution_count": null,
   "id": "bce0ac10-6d08-4434-8a2c-5ec495c4f5f6",
   "metadata": {},
   "outputs": [],
   "source": [
    "def print_red(text):\n",
    "    print('\\x1b[31m' + text + '\\x1b[0m')\n",
    "    \n",
    "def print_yellow(text):\n",
    "    print('\\x1b[33m' + text + '\\x1b[0m')\n",
    "\n",
    "def print_green(text):\n",
    "    print('\\x1b[32m' + text + '\\x1b[0m')\n",
    "\n",
    "def print_pink(text):\n",
    "    print('\\x1b[35m' + text + '\\x1b[0m')\n",
    "\n",
    "def print_cyan(text):\n",
    "    print('\\x1b[36m' + text + '\\x1b[0m')"
   ]
  },
  {
   "cell_type": "markdown",
   "id": "66edfe84-2809-4857-a046-2ca9e0916343",
   "metadata": {},
   "source": [
    "## Get the Instances / Ingredient list\n",
    "The instances have been generated using the notebook: Generate Instance.ipynb"
   ]
  },
  {
   "cell_type": "code",
   "execution_count": 3,
   "id": "0a460051-f892-4037-b5f8-54a2c3666ce1",
   "metadata": {},
   "outputs": [],
   "source": [
    "import os\n",
    "\n",
    "instances_folder = '..\\instances'\n",
    "instances_path = [os.path.join(instances_folder, f) for f in os.listdir(instances_folder) if f.endswith('.dzn')]\n",
    "#print(instances_path)"
   ]
  },
  {
   "cell_type": "markdown",
   "id": "268cc177-f021-4051-9f96-e4bcdb111cc5",
   "metadata": {},
   "source": [
    "# Minizinc\n",
    "### Chosen model with annotations\n",
    "The models have been generated using the notebook: GenerateAnnotations.ipynb"
   ]
  },
  {
   "cell_type": "code",
   "execution_count": 4,
   "id": "54ec4975-409f-4da4-9560-2202db231e15",
   "metadata": {},
   "outputs": [],
   "source": [
    "model = '../models/winners/smallest-indomain.mzn'"
   ]
  },
  {
   "cell_type": "markdown",
   "id": "c1156ed7-7a68-498c-8bfc-ddfbf2790596",
   "metadata": {},
   "source": [
    "### Solvers"
   ]
  },
  {
   "cell_type": "code",
   "execution_count": null,
   "id": "cf73aa63-4479-4b05-857e-0441c8b50673",
   "metadata": {},
   "outputs": [],
   "source": [
    "solvers = [\"HiGHS\", \"COIN-BC\"]"
   ]
  },
  {
   "cell_type": "markdown",
   "id": "1ec644f8-5222-46fa-ac21-020c29ace87f",
   "metadata": {},
   "source": [
    "## Calculate labels"
   ]
  },
  {
   "cell_type": "code",
   "execution_count": null,
   "id": "1a6b9d3d-098e-43be-8246-52cb92ab803a",
   "metadata": {},
   "outputs": [],
   "source": [
    "import random\n",
    "import subprocess\n",
    "# Returns the solver who solved the model in the best way possible\n",
    "def solve_with_minizinc(instances, timeout_mzn, timeout):    \n",
    "    winner = [0] * len(instances) # 0 for HiGHS, 1 for COIN-BC\n",
    "    timeout_mzn = timeout_mzn*1000\n",
    "    \n",
    "    for i, instance in enumerate(instances):\n",
    "        mnt = float('inf')\n",
    "        time = float('inf')\n",
    "        for j, solver in enumerate(solvers):\n",
    "            # Run the minizinc command for the current model and data file  \n",
    "            cmd = f\"minizinc --solver {solver} --output-time {model} {instance} --output-time --solver-time-limit {timeout_mzn}\" \n",
    "            proc = subprocess.Popen(cmd, shell=True, stdout=subprocess.PIPE)\n",
    "            try: \n",
    "                # Get output from fzn\n",
    "                stdout, stderr = proc.communicate(timeout=timeout) \n",
    "                stdout = stdout.decode()\n",
    "                try:\n",
    "                    # Store value mnt (temp).\n",
    "                    start = stdout.find('mnt = ')+6\n",
    "                    end = stdout.find(';',start)\n",
    "                    mnt_temp = int(stdout[start:end])\n",
    "                    # Store value time (temp).\n",
    "                    time_temp = float(stdout.split(' ')[-2])\n",
    "                except:\n",
    "                    mnt_temp = float('inf')\n",
    "                    time_temp = float('inf')\n",
    "                print_green(f'{solver} with {instance} SOLVED with a value of {mnt_temp} in {time_temp:.2f} seconds.')\n",
    "\n",
    "            except subprocess.TimeoutExpired: \n",
    "                print_red(f'Error from minizinc: Stopping.')\n",
    "                mnt_temp = float('inf')\n",
    "                time_temp = float('inf')\n",
    "                if os.name == 'nt': # If the os is Windows\n",
    "                    subprocess.call(['taskkill', '/F', '/T', '/PID', str(proc.pid)]) # Force kill the process\n",
    "                else:\n",
    "                    os.killpg(os.getpgid(proc.pid), signal.SIGTERM) # Kill the process group\n",
    "\n",
    "            if mnt >= mnt_temp: # If the value is minor from the stored\n",
    "                if mnt == mnt_temp: # If the value is equal from the stored compare time\n",
    "                    if time >= time_temp: # If the value of time from minizinc is minor from the stored\n",
    "                        if time == time_temp: # If the value of time from minizinc is equal from the stored choose random\n",
    "                            winner[i] = random.randint(j-1,j)    \n",
    "                        else:\n",
    "                            mnt = mnt_temp\n",
    "                            time = time_temp\n",
    "                            winner[i] = j\n",
    "                else:\n",
    "                    mnt = mnt_temp\n",
    "                    time = time_temp\n",
    "                    winner[i] = j\n",
    "        print_yellow(str(winner[i])+\" WON!\")\n",
    "    return winner"
   ]
  },
  {
   "cell_type": "code",
   "execution_count": null,
   "id": "0a1d4413-2425-48f2-8c06-9d3d6a68e550",
   "metadata": {},
   "outputs": [],
   "source": [
    "labels = solve_with_minizinc(instances_path, 10, 15)"
   ]
  },
  {
   "cell_type": "code",
   "execution_count": 6,
   "id": "a4831305-7be9-4cb6-9251-1c64637e1ea8",
   "metadata": {},
   "outputs": [],
   "source": [
    "path = '../instances/labels.txt'\n",
    "with open(path, 'w', encoding='utf8') as file_object:\n",
    "    file_object.write(labels)"
   ]
  },
  {
   "cell_type": "code",
   "execution_count": null,
   "id": "dd91c08e-d48c-4cff-9bd4-75cdd46f702c",
   "metadata": {},
   "outputs": [],
   "source": []
  }
 ],
 "metadata": {
  "kernelspec": {
   "display_name": "MENuS",
   "language": "python",
   "name": "menus"
  },
  "language_info": {
   "codemirror_mode": {
    "name": "ipython",
    "version": 3
   },
   "file_extension": ".py",
   "mimetype": "text/x-python",
   "name": "python",
   "nbconvert_exporter": "python",
   "pygments_lexer": "ipython3",
   "version": "3.11.2"
  }
 },
 "nbformat": 4,
 "nbformat_minor": 5
}
