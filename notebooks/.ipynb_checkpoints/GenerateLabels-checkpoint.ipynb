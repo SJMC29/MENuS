{
 "cells": [
  {
   "cell_type": "markdown",
   "id": "4779d03c-ce82-4d54-bcc7-95f93d9f31cd",
   "metadata": {},
   "source": [
    "### Auxiliar Functions"
   ]
  },
  {
   "cell_type": "code",
   "execution_count": 1,
   "id": "bce0ac10-6d08-4434-8a2c-5ec495c4f5f6",
   "metadata": {},
   "outputs": [],
   "source": [
    "import os\n",
    "import re\n",
    "import numpy as np\n",
    "import random\n",
    "import subprocess\n",
    "import matplotlib.pyplot as plt\n",
    "\n",
    "def print_red(text):\n",
    "    print('\\x1b[31m' + text + '\\x1b[0m')\n",
    "def print_yellow(text):\n",
    "    print('\\x1b[33m' + text + '\\x1b[0m')\n",
    "def print_green(text):\n",
    "    print('\\x1b[32m' + text + '\\x1b[0m')\n",
    "def print_pink(text):\n",
    "    print('\\x1b[35m' + text + '\\x1b[0m')\n",
    "def print_cyan(text):\n",
    "    print('\\x1b[36m' + text + '\\x1b[0m')"
   ]
  },
  {
   "cell_type": "markdown",
   "id": "66edfe84-2809-4857-a046-2ca9e0916343",
   "metadata": {},
   "source": [
    "## Get the Instances / Ingredient list\n",
    "The instances have been generated using the notebook: Generate Instance.ipynb"
   ]
  },
  {
   "cell_type": "code",
   "execution_count": 2,
   "id": "0a460051-f892-4037-b5f8-54a2c3666ce1",
   "metadata": {},
   "outputs": [],
   "source": [
    "instances_folder = '..\\instances'\n",
    "instances_path = [os.path.join(instances_folder, f) for f in os.listdir(instances_folder) if f.endswith('.dzn')]\n",
    "# Sort\n",
    "def numeric_sort_key(file_path):\n",
    "    match = re.search(r'\\d+', file_path)\n",
    "    return int(match.group()) if match else file_path\n",
    "\n",
    "instances_path = sorted(instances_path, key=numeric_sort_key)\n",
    "# print(instances_path)"
   ]
  },
  {
   "cell_type": "markdown",
   "id": "268cc177-f021-4051-9f96-e4bcdb111cc5",
   "metadata": {},
   "source": [
    "# Minizinc\n",
    "### Chosen model with annotations\n",
    "The models have been generated using the notebook: GenerateAnnotations.ipynb"
   ]
  },
  {
   "cell_type": "code",
   "execution_count": 3,
   "id": "54ec4975-409f-4da4-9560-2202db231e15",
   "metadata": {},
   "outputs": [],
   "source": [
    "models = ['../models/largest-indomain_max.mzn']# ../models/largest-indomain_max.mzn'"
   ]
  },
  {
   "cell_type": "markdown",
   "id": "c1156ed7-7a68-498c-8bfc-ddfbf2790596",
   "metadata": {},
   "source": [
    "### Solvers"
   ]
  },
  {
   "cell_type": "code",
   "execution_count": 4,
   "id": "cf73aa63-4479-4b05-857e-0441c8b50673",
   "metadata": {},
   "outputs": [
    {
     "name": "stdout",
     "output_type": "stream",
     "text": [
      "MiniZinc driver.\n",
      "Available solver configurations:\n",
      "  Chuffed 0.12.0 (org.chuffed.chuffed, cp, lcg, int)\n",
      "  COIN-BC 2.10.10/1.17.8 (org.minizinc.mip.coin-bc, mip, float, api, osicbc, coinbc, cbc)\n",
      "  CPLEX <unknown version> (org.minizinc.mip.cplex, mip, float, api)\n",
      "  findMUS 0.7.0 (org.minizinc.findmus)\n",
      "  Gecode 6.3.0 (org.gecode.gecode, default solver, cp, int, float, set, restart)\n",
      "  Gecode Gist 6.3.0 (org.gecode.gist, cp, int, float, set, restart)\n",
      "  Globalizer 0.1.7.2 (org.minizinc.globalizer, experimental, tool)\n",
      "  Gurobi <unknown version> (org.minizinc.mip.gurobi, mip, float, api)\n",
      "  HiGHS 1.5.1 (org.minizinc.mip.highs, mip, float, api, highs)\n",
      "  OR-TOOLS 9.6.0 (com.google.or-tools)\n",
      "  PicatSAT 3.4 (picat)\n",
      "  SCIP <unknown version> (org.minizinc.mip.scip, mip, float, api)\n",
      "  Xpress <unknown version> (org.minizinc.mip.xpress, mip, float, api)\n",
      "Search path for solver configurations:\n",
      "  C:\\Users\\juanj\\AppData\\Roaming/MiniZinc/solvers\n",
      "  C:\\Program Files\\MiniZinc\\share\\minizinc/solvers\n"
     ]
    }
   ],
   "source": [
    "!minizinc --solvers\n",
    "solvers = [\"HiGHS\", \"PicatSAT\"]"
   ]
  },
  {
   "cell_type": "markdown",
   "id": "ae852a97-19f8-48bd-80d7-f36fb558b42e",
   "metadata": {},
   "source": [
    "## Calculate labels"
   ]
  },
  {
   "cell_type": "code",
   "execution_count": 5,
   "id": "1a6b9d3d-098e-43be-8246-52cb92ab803a",
   "metadata": {
    "tags": []
   },
   "outputs": [],
   "source": [
    "# Returns the solver who solved the model in the best way possible\n",
    "def get_labels(instances, timeout_mzn, timeout):    \n",
    "    winner = [0] * len(instances) # 0 for HiGHS, 1 for COIN-BC\n",
    "    times = []\n",
    "    n = []\n",
    "    timeout_mzn = timeout_mzn*1000\n",
    "    \n",
    "    for i, instance in enumerate(instances):\n",
    "        mnt = float('inf')\n",
    "        time = float('inf')\n",
    "        times.append([])\n",
    "        # Get n\n",
    "        with open(instance, encoding=\"utf8\") as file_object:\n",
    "            n_temp = file_object.read().split(\"n = \")\n",
    "            n_temp = n_temp[1].split(\";\")\n",
    "            n.append(int(n_temp[0]))\n",
    "        \n",
    "        for j, solver in enumerate(solvers):\n",
    "            for k, model in enumerate(models):\n",
    "                # Run the minizinc command for the current model and data file  \n",
    "                cmd = f\"minizinc --solver {solver} --output-time {model} {instance} --output-time --solver-time-limit {timeout_mzn} --parallel 2\" \n",
    "                proc = subprocess.Popen(cmd, shell=True, stdout=subprocess.PIPE)\n",
    "                try: \n",
    "                    # Get output from fzn\n",
    "                    stdout, stderr = proc.communicate(timeout=timeout) \n",
    "                    stdout = stdout.decode()\n",
    "                    try:\n",
    "                        # Store value mnt (temp).\n",
    "                        start = stdout.find('mnt = ')+6\n",
    "                        end = stdout.find(';',start)\n",
    "                        mnt_temp = int(stdout[start:end])\n",
    "                        # Store value time (temp).\n",
    "                        time_temp = float(stdout.split(' ')[-2])\n",
    "                    except:\n",
    "                        mnt_temp = float('inf')\n",
    "                        time_temp = float('inf')\n",
    "                    # print_green(f'{solver} with {instance} SOLVED with a value of {mnt_temp} in {time_temp:.2f} seconds.')\n",
    "\n",
    "                except subprocess.TimeoutExpired: \n",
    "                    print_red(f'Error from minizinc: Stopping.')                \n",
    "                    mnt_temp = float('inf')\n",
    "                    time_temp = float('inf')\n",
    "                    if os.name == 'nt': # If the os is Windows\n",
    "                        subprocess.call(['taskkill', '/F', '/T', '/PID', str(proc.pid)]) # Force kill the process\n",
    "                    else:\n",
    "                        os.killpg(os.getpgid(proc.pid), signal.SIGTERM) # Kill the process group\n",
    "\n",
    "                # Store values for futures generations\n",
    "                times[i].append(time_temp)\n",
    "\n",
    "                if mnt >= mnt_temp: # If the value is minor from the stored\n",
    "                    if mnt == mnt_temp: # If the value is equal from the stored compare time\n",
    "                        if time >= time_temp: # If the value of time from minizinc is minor from the stored\n",
    "                            if time == time_temp: # If the value of time from minizinc is equal from the stored choose random\n",
    "                                if winner[i] == 0:\n",
    "                                    winner[i] = solver + '/' + model.replace(\"../models/\", \"\").replace(\".mzn\", \"\")\n",
    "                                if random.random() < 0.5:\n",
    "                                    winner[i] = solver + '/' + model.replace(\"../models/\", \"\").replace(\".mzn\", \"\")\n",
    "                            else:\n",
    "                                mnt = mnt_temp\n",
    "                                time = time_temp\n",
    "                                winner[i] = solver + '/' + model.replace(\"../models/\", \"\").replace(\".mzn\", \"\")\n",
    "                    else:\n",
    "                        mnt = mnt_temp\n",
    "                        time = time_temp\n",
    "                        winner[i] = solver + '/' + model.replace(\"../models/\", \"\").replace(\".mzn\", \"\")\n",
    "                        \n",
    "        print_yellow(str(i)+ \": \" + winner[i] + \" WON!\")\n",
    "        \n",
    "    times = np.array(times)\n",
    "    # Remove inf    \n",
    "    def replace_inf_with_max(arr):\n",
    "        # Replace inf values with nan\n",
    "        arr[np.isinf(arr)] = np.nan\n",
    "        max_vals = np.nanmax(arr, axis=0)  # Compute maximum values of each column\n",
    "        print(max_vals)\n",
    "        for i in range(arr.shape[0]):\n",
    "            for j in range(arr.shape[1]):\n",
    "                if np.isnan(arr[i, j]):\n",
    "                    # arr[i, j] = max_vals[j]\n",
    "                    arr[i, j] = timeout_mzn\n",
    "        return arr\n",
    "\n",
    "    return winner, replace_inf_with_max(times), n"
   ]
  },
  {
   "cell_type": "code",
   "execution_count": 6,
   "id": "423bf919-3304-49aa-a65f-7c692d8d1569",
   "metadata": {
    "tags": []
   },
   "outputs": [
    {
     "ename": "KeyboardInterrupt",
     "evalue": "",
     "output_type": "error",
     "traceback": [
      "\u001b[1;31m---------------------------------------------------------------------------\u001b[0m",
      "\u001b[1;31mKeyboardInterrupt\u001b[0m                         Traceback (most recent call last)",
      "Cell \u001b[1;32mIn[6], line 4\u001b[0m\n\u001b[0;32m      1\u001b[0m mzn_timeout \u001b[38;5;241m=\u001b[39m \u001b[38;5;241m5\u001b[39m\n\u001b[0;32m      2\u001b[0m cmd_timeout \u001b[38;5;241m=\u001b[39m \u001b[38;5;241m6\u001b[39m\n\u001b[1;32m----> 4\u001b[0m labels, times, n \u001b[38;5;241m=\u001b[39m \u001b[43mget_labels\u001b[49m\u001b[43m(\u001b[49m\u001b[43minstances_path\u001b[49m\u001b[43m,\u001b[49m\u001b[43m \u001b[49m\u001b[43mmzn_timeout\u001b[49m\u001b[43m,\u001b[49m\u001b[43m \u001b[49m\u001b[43mcmd_timeout\u001b[49m\u001b[43m)\u001b[49m\n",
      "Cell \u001b[1;32mIn[5], line 25\u001b[0m, in \u001b[0;36mget_labels\u001b[1;34m(instances, timeout_mzn, timeout)\u001b[0m\n\u001b[0;32m     22\u001b[0m proc \u001b[38;5;241m=\u001b[39m subprocess\u001b[38;5;241m.\u001b[39mPopen(cmd, shell\u001b[38;5;241m=\u001b[39m\u001b[38;5;28;01mTrue\u001b[39;00m, stdout\u001b[38;5;241m=\u001b[39msubprocess\u001b[38;5;241m.\u001b[39mPIPE)\n\u001b[0;32m     23\u001b[0m \u001b[38;5;28;01mtry\u001b[39;00m: \n\u001b[0;32m     24\u001b[0m     \u001b[38;5;66;03m# Get output from fzn\u001b[39;00m\n\u001b[1;32m---> 25\u001b[0m     stdout, stderr \u001b[38;5;241m=\u001b[39m \u001b[43mproc\u001b[49m\u001b[38;5;241;43m.\u001b[39;49m\u001b[43mcommunicate\u001b[49m\u001b[43m(\u001b[49m\u001b[43mtimeout\u001b[49m\u001b[38;5;241;43m=\u001b[39;49m\u001b[43mtimeout\u001b[49m\u001b[43m)\u001b[49m \n\u001b[0;32m     26\u001b[0m     stdout \u001b[38;5;241m=\u001b[39m stdout\u001b[38;5;241m.\u001b[39mdecode()\n\u001b[0;32m     27\u001b[0m     \u001b[38;5;28;01mtry\u001b[39;00m:\n\u001b[0;32m     28\u001b[0m         \u001b[38;5;66;03m# Store value mnt (temp).\u001b[39;00m\n",
      "File \u001b[1;32m~\\anaconda3\\envs\\MENuS\\lib\\subprocess.py:1154\u001b[0m, in \u001b[0;36mPopen.communicate\u001b[1;34m(self, input, timeout)\u001b[0m\n\u001b[0;32m   1151\u001b[0m     endtime \u001b[38;5;241m=\u001b[39m \u001b[38;5;28;01mNone\u001b[39;00m\n\u001b[0;32m   1153\u001b[0m \u001b[38;5;28;01mtry\u001b[39;00m:\n\u001b[1;32m-> 1154\u001b[0m     stdout, stderr \u001b[38;5;241m=\u001b[39m \u001b[38;5;28;43mself\u001b[39;49m\u001b[38;5;241;43m.\u001b[39;49m\u001b[43m_communicate\u001b[49m\u001b[43m(\u001b[49m\u001b[38;5;28;43minput\u001b[39;49m\u001b[43m,\u001b[49m\u001b[43m \u001b[49m\u001b[43mendtime\u001b[49m\u001b[43m,\u001b[49m\u001b[43m \u001b[49m\u001b[43mtimeout\u001b[49m\u001b[43m)\u001b[49m\n\u001b[0;32m   1155\u001b[0m \u001b[38;5;28;01mexcept\u001b[39;00m \u001b[38;5;167;01mKeyboardInterrupt\u001b[39;00m:\n\u001b[0;32m   1156\u001b[0m     \u001b[38;5;66;03m# https://bugs.python.org/issue25942\u001b[39;00m\n\u001b[0;32m   1157\u001b[0m     \u001b[38;5;66;03m# See the detailed comment in .wait().\u001b[39;00m\n\u001b[0;32m   1158\u001b[0m     \u001b[38;5;28;01mif\u001b[39;00m timeout \u001b[38;5;129;01mis\u001b[39;00m \u001b[38;5;129;01mnot\u001b[39;00m \u001b[38;5;28;01mNone\u001b[39;00m:\n",
      "File \u001b[1;32m~\\anaconda3\\envs\\MENuS\\lib\\subprocess.py:1528\u001b[0m, in \u001b[0;36mPopen._communicate\u001b[1;34m(self, input, endtime, orig_timeout)\u001b[0m\n\u001b[0;32m   1524\u001b[0m \u001b[38;5;66;03m# Wait for the reader threads, or time out.  If we time out, the\u001b[39;00m\n\u001b[0;32m   1525\u001b[0m \u001b[38;5;66;03m# threads remain reading and the fds left open in case the user\u001b[39;00m\n\u001b[0;32m   1526\u001b[0m \u001b[38;5;66;03m# calls communicate again.\u001b[39;00m\n\u001b[0;32m   1527\u001b[0m \u001b[38;5;28;01mif\u001b[39;00m \u001b[38;5;28mself\u001b[39m\u001b[38;5;241m.\u001b[39mstdout \u001b[38;5;129;01mis\u001b[39;00m \u001b[38;5;129;01mnot\u001b[39;00m \u001b[38;5;28;01mNone\u001b[39;00m:\n\u001b[1;32m-> 1528\u001b[0m     \u001b[38;5;28;43mself\u001b[39;49m\u001b[38;5;241;43m.\u001b[39;49m\u001b[43mstdout_thread\u001b[49m\u001b[38;5;241;43m.\u001b[39;49m\u001b[43mjoin\u001b[49m\u001b[43m(\u001b[49m\u001b[38;5;28;43mself\u001b[39;49m\u001b[38;5;241;43m.\u001b[39;49m\u001b[43m_remaining_time\u001b[49m\u001b[43m(\u001b[49m\u001b[43mendtime\u001b[49m\u001b[43m)\u001b[49m\u001b[43m)\u001b[49m\n\u001b[0;32m   1529\u001b[0m     \u001b[38;5;28;01mif\u001b[39;00m \u001b[38;5;28mself\u001b[39m\u001b[38;5;241m.\u001b[39mstdout_thread\u001b[38;5;241m.\u001b[39mis_alive():\n\u001b[0;32m   1530\u001b[0m         \u001b[38;5;28;01mraise\u001b[39;00m TimeoutExpired(\u001b[38;5;28mself\u001b[39m\u001b[38;5;241m.\u001b[39margs, orig_timeout)\n",
      "File \u001b[1;32m~\\anaconda3\\envs\\MENuS\\lib\\threading.py:1100\u001b[0m, in \u001b[0;36mThread.join\u001b[1;34m(self, timeout)\u001b[0m\n\u001b[0;32m   1096\u001b[0m     \u001b[38;5;28mself\u001b[39m\u001b[38;5;241m.\u001b[39m_wait_for_tstate_lock()\n\u001b[0;32m   1097\u001b[0m \u001b[38;5;28;01melse\u001b[39;00m:\n\u001b[0;32m   1098\u001b[0m     \u001b[38;5;66;03m# the behavior of a negative timeout isn't documented, but\u001b[39;00m\n\u001b[0;32m   1099\u001b[0m     \u001b[38;5;66;03m# historically .join(timeout=x) for x<0 has acted as if timeout=0\u001b[39;00m\n\u001b[1;32m-> 1100\u001b[0m     \u001b[38;5;28;43mself\u001b[39;49m\u001b[38;5;241;43m.\u001b[39;49m\u001b[43m_wait_for_tstate_lock\u001b[49m\u001b[43m(\u001b[49m\u001b[43mtimeout\u001b[49m\u001b[38;5;241;43m=\u001b[39;49m\u001b[38;5;28;43mmax\u001b[39;49m\u001b[43m(\u001b[49m\u001b[43mtimeout\u001b[49m\u001b[43m,\u001b[49m\u001b[43m \u001b[49m\u001b[38;5;241;43m0\u001b[39;49m\u001b[43m)\u001b[49m\u001b[43m)\u001b[49m\n",
      "File \u001b[1;32m~\\anaconda3\\envs\\MENuS\\lib\\threading.py:1116\u001b[0m, in \u001b[0;36mThread._wait_for_tstate_lock\u001b[1;34m(self, block, timeout)\u001b[0m\n\u001b[0;32m   1113\u001b[0m     \u001b[38;5;28;01mreturn\u001b[39;00m\n\u001b[0;32m   1115\u001b[0m \u001b[38;5;28;01mtry\u001b[39;00m:\n\u001b[1;32m-> 1116\u001b[0m     \u001b[38;5;28;01mif\u001b[39;00m \u001b[43mlock\u001b[49m\u001b[38;5;241;43m.\u001b[39;49m\u001b[43macquire\u001b[49m\u001b[43m(\u001b[49m\u001b[43mblock\u001b[49m\u001b[43m,\u001b[49m\u001b[43m \u001b[49m\u001b[43mtimeout\u001b[49m\u001b[43m)\u001b[49m:\n\u001b[0;32m   1117\u001b[0m         lock\u001b[38;5;241m.\u001b[39mrelease()\n\u001b[0;32m   1118\u001b[0m         \u001b[38;5;28mself\u001b[39m\u001b[38;5;241m.\u001b[39m_stop()\n",
      "\u001b[1;31mKeyboardInterrupt\u001b[0m: "
     ]
    }
   ],
   "source": [
    "mzn_timeout = 5\n",
    "cmd_timeout = 10\n",
    "\n",
    "labels, times, n = get_labels(instances_path, mzn_timeout, cmd_timeout)"
   ]
  },
  {
   "cell_type": "markdown",
   "id": "c755d90c-01e4-4081-bb2f-486fd3049227",
   "metadata": {},
   "source": [
    "## Storing labels and times"
   ]
  },
  {
   "cell_type": "code",
   "execution_count": null,
   "id": "a4831305-7be9-4cb6-9251-1c64637e1ea8",
   "metadata": {},
   "outputs": [],
   "source": [
    "path = '../instances/labels.txt'\n",
    "with open(path, 'w', encoding='utf8') as file_object:\n",
    "    file_object.write(str(labels))\n",
    "\n",
    "path = '../instances/times.txt'\n",
    "with open(path, 'w', encoding='utf8') as file_object:\n",
    "    file_object.write('solvers:\\n'+str(solvers)+'\\nannotations:\\n'+str(models)+'\\nn: Number of products\\n'+str(n)+'\\nTimes that took each solver with a timeout of 10s for each instance.\\nIf 20s then it didnt find answer in 10s so reached cmd timeout.\\n(Values greater than 10s and less than 20 was because minizinc was looking for a last solution).\\n'+str(times.tolist()))"
   ]
  },
  {
   "cell_type": "markdown",
   "id": "4cb97325-7cdf-4603-84bc-81ab5f780042",
   "metadata": {},
   "source": [
    "## Looking for a Patern"
   ]
  },
  {
   "cell_type": "code",
   "execution_count": null,
   "id": "670a1818-79ea-4a32-8041-0f9d80d6dad2",
   "metadata": {},
   "outputs": [],
   "source": [
    "path = '../instances/times.txt'\n",
    "with open(path, 'r', encoding='utf8') as file_object:\n",
    "    print(file_object.read().split('solution).\\n')[1])\n",
    "    \n",
    "YH = times[:,0]\n",
    "YC = times[:,1]\n",
    "\n",
    "# Calculate the coefficients of the polynomial trend line\n",
    "coefficientsYH = np.polyfit(n, YH, 4)\n",
    "coefficientsYC = np.polyfit(n, YC, 4)\n",
    "\n",
    "# Create a polynomial function based on the coefficients\n",
    "trend_funcYH = np.poly1d(coefficientsYH)\n",
    "trend_funcYC = np.poly1d(coefficientsYC)\n",
    "# Generate a range of x-values for plotting the trend line\n",
    "n_range = np.linspace(min(n), max(n), 100)\n",
    "\n",
    "# Create a line plot for y1 with blue color\n",
    "plt.scatter(n, YH, color='blue', label='HiGHS')\n",
    "# Create a line plot for y2 with red color\n",
    "plt.scatter(n, YC, color='red', label='COIN-BC')\n",
    "\n",
    "# Plot the trend line\n",
    "plt.plot(n_range, trend_funcYH(n_range), color='blue')\n",
    "plt.plot(n_range, trend_funcYC(n_range), color='red')\n",
    "\n",
    "# Set labels for x-axis and y-axis\n",
    "plt.xlabel('Products(n)')\n",
    "plt.ylabel('Time(s)')\n",
    "\n",
    "# Set title for the plot\n",
    "# plt.title('Algorithms solving instances in 10s')\n",
    "\n",
    "# Add a legend to differentiate lines\n",
    "plt.legend()\n",
    "\n",
    "# Show the plot\n",
    "plt.show()"
   ]
  },
  {
   "cell_type": "code",
   "execution_count": null,
   "id": "dd91c08e-d48c-4cff-9bd4-75cdd46f702c",
   "metadata": {},
   "outputs": [],
   "source": [
    "freq = {}\n",
    "\n",
    "# Count frequency of each element in the array\n",
    "for num in labels:\n",
    "    if num in freq:\n",
    "        freq[num] += 1\n",
    "    else:\n",
    "        freq[num] = 1\n",
    "\n",
    "# Print frequency of each element\n",
    "for num, count in freq.items():\n",
    "    print(f\"{num}: {count} {count/len(labels)*100}%\")"
   ]
  },
  {
   "cell_type": "code",
   "execution_count": null,
   "id": "e9e299a1-827b-4610-b48a-17f8194de13c",
   "metadata": {},
   "outputs": [],
   "source": [
    "print(labels)"
   ]
  },
  {
   "cell_type": "code",
   "execution_count": null,
   "id": "dd4e1715-a11d-42b2-a792-01095cfacdc4",
   "metadata": {},
   "outputs": [],
   "source": [
    "def print_numbers_with_index(lst):\n",
    "    for i, num in enumerate(lst):\n",
    "        if(num == 0):\n",
    "            print(f\"Index {i}: {num}\")\n",
    "\n",
    "# Example usage\n",
    "numbers = [21, 11, 11, 21, 21, 21, 21, 11, 11, 21, 11, 11, 21, 21, 21, 11, 11, 11, 11, 21, 11, 21, 21, 11, 21, 21, 21, 11, 21, 21, 21, 21, 21, 21, 11, 21, 21, 11, 21, 11, 21, 21, 11, 11, 11, 21, 11, 21, 11, 11, 11, 11, 11, 11, 11, 21, 11, 11, 21, 21, 11, 11, 21, 21, 21, 21, 21, 11, 11, 21, 11, 11, 21, 11, 11, 21, 21, 11, 11, 21, 21, 11, 11, 11, 11, 11, 11, 21, 11, 11, 21, 11, 21, 11, 11, 21, 11, 11, 21, 21, 11, 21, 21, 11, 21, 21, 11, 11, 21, 11, 21, 21, 21, 11, 21, 11, 21, 21, 11, 21, 11, 0, 21, 21, 21, 11, 11, 21, 11, 21, 21, 21, 11, 11, 11, 21, 11, 11, 21, 21, 21, 11, 21, 21, 21, 11, 11, 21, 21, 21]\n",
    "print_numbers_with_index(numbers)\n"
   ]
  },
  {
   "cell_type": "code",
   "execution_count": null,
   "id": "a1d91b17-0adb-4237-9f04-85f444dc8d0f",
   "metadata": {},
   "outputs": [],
   "source": []
  },
  {
   "cell_type": "code",
   "execution_count": null,
   "id": "458b8eb0-2ce5-4e64-84d4-53d879ed3cca",
   "metadata": {},
   "outputs": [],
   "source": []
  }
 ],
 "metadata": {
  "kernelspec": {
   "display_name": "Python 3 (ipykernel)",
   "language": "python",
   "name": "python3"
  },
  "language_info": {
   "codemirror_mode": {
    "name": "ipython",
    "version": 3
   },
   "file_extension": ".py",
   "mimetype": "text/x-python",
   "name": "python",
   "nbconvert_exporter": "python",
   "pygments_lexer": "ipython3",
   "version": "3.9.13"
  }
 },
 "nbformat": 4,
 "nbformat_minor": 5
}
