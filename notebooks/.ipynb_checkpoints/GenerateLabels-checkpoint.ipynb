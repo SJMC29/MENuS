{
 "cells": [
  {
   "cell_type": "markdown",
   "id": "4779d03c-ce82-4d54-bcc7-95f93d9f31cd",
   "metadata": {},
   "source": [
    "### Auxiliar Functions"
   ]
  },
  {
   "cell_type": "code",
   "execution_count": 88,
   "id": "bce0ac10-6d08-4434-8a2c-5ec495c4f5f6",
   "metadata": {},
   "outputs": [],
   "source": [
    "import os\n",
    "import re\n",
    "import numpy as np\n",
    "import random\n",
    "import subprocess\n",
    "import matplotlib.pyplot as plt\n",
    "\n",
    "def print_red(text):\n",
    "    print('\\x1b[31m' + text + '\\x1b[0m')\n",
    "def print_yellow(text):\n",
    "    print('\\x1b[33m' + text + '\\x1b[0m')\n",
    "def print_green(text):\n",
    "    print('\\x1b[32m' + text + '\\x1b[0m')\n",
    "def print_pink(text):\n",
    "    print('\\x1b[35m' + text + '\\x1b[0m')\n",
    "def print_cyan(text):\n",
    "    print('\\x1b[36m' + text + '\\x1b[0m')"
   ]
  },
  {
   "cell_type": "markdown",
   "id": "66edfe84-2809-4857-a046-2ca9e0916343",
   "metadata": {},
   "source": [
    "## Get the Instances / Ingredient list\n",
    "The instances have been generated using the notebook: Generate Instance.ipynb"
   ]
  },
  {
   "cell_type": "code",
   "execution_count": 89,
   "id": "0a460051-f892-4037-b5f8-54a2c3666ce1",
   "metadata": {},
   "outputs": [],
   "source": [
    "instances_folder = '..\\instances'\n",
    "instances_path = [os.path.join(instances_folder, f) for f in os.listdir(instances_folder) if f.endswith('.dzn')]\n",
    "# Sort\n",
    "def numeric_sort_key(file_path):\n",
    "    match = re.search(r'\\d+', file_path)\n",
    "    return int(match.group()) if match else file_path\n",
    "\n",
    "instances_path = sorted(instances_path, key=numeric_sort_key)\n",
    "# print(instances_path)"
   ]
  },
  {
   "cell_type": "markdown",
   "id": "268cc177-f021-4051-9f96-e4bcdb111cc5",
   "metadata": {},
   "source": [
    "# Minizinc\n",
    "### Chosen model with annotations\n",
    "The models have been generated using the notebook: GenerateAnnotations.ipynb"
   ]
  },
  {
   "cell_type": "code",
   "execution_count": 90,
   "id": "54ec4975-409f-4da4-9560-2202db231e15",
   "metadata": {},
   "outputs": [],
   "source": [
    "models = ['../models/largest-indomain_max.mzn']# ../models/largest-indomain_max.mzn'"
   ]
  },
  {
   "cell_type": "markdown",
   "id": "c1156ed7-7a68-498c-8bfc-ddfbf2790596",
   "metadata": {},
   "source": [
    "### Solvers"
   ]
  },
  {
   "cell_type": "code",
   "execution_count": 91,
   "id": "cf73aa63-4479-4b05-857e-0441c8b50673",
   "metadata": {},
   "outputs": [
    {
     "name": "stdout",
     "output_type": "stream",
     "text": [
      "MiniZinc driver.\n",
      "Available solver configurations:\n",
      "  Chuffed 0.12.0 (org.chuffed.chuffed, cp, lcg, int)\n",
      "  COIN-BC 2.10.10/1.17.8 (org.minizinc.mip.coin-bc, mip, float, api, osicbc, coinbc, cbc)\n",
      "  CPLEX <unknown version> (org.minizinc.mip.cplex, mip, float, api)\n",
      "  findMUS 0.7.0 (org.minizinc.findmus)\n",
      "  Gecode 6.3.0 (org.gecode.gecode, default solver, cp, int, float, set, restart)\n",
      "  Gecode Gist 6.3.0 (org.gecode.gist, cp, int, float, set, restart)\n",
      "  Globalizer 0.1.7.2 (org.minizinc.globalizer, experimental, tool)\n",
      "  Gurobi <unknown version> (org.minizinc.mip.gurobi, mip, float, api)\n",
      "  HiGHS 1.5.1 (org.minizinc.mip.highs, mip, float, api, highs)\n",
      "  OR-TOOLS 9.6.0 (com.google.or-tools)\n",
      "  SCIP <unknown version> (org.minizinc.mip.scip, mip, float, api)\n",
      "  Xpress <unknown version> (org.minizinc.mip.xpress, mip, float, api)\n",
      "Search path for solver configurations:\n",
      "  C:\\Users\\juanj\\AppData\\Roaming/MiniZinc/solvers\n",
      "  C:\\Program Files\\MiniZinc\\share\\minizinc/solvers\n"
     ]
    }
   ],
   "source": [
    "!minizinc --solvers\n",
    "solvers = [\"HiGHS\", \"COIN-BC\"]"
   ]
  },
  {
   "cell_type": "markdown",
   "id": "ae852a97-19f8-48bd-80d7-f36fb558b42e",
   "metadata": {},
   "source": [
    "## Calculate labels"
   ]
  },
  {
   "cell_type": "code",
   "execution_count": 92,
   "id": "1a6b9d3d-098e-43be-8246-52cb92ab803a",
   "metadata": {
    "tags": []
   },
   "outputs": [],
   "source": [
    "# Returns the solver who solved the model in the best way possible\n",
    "def get_labels(instances, timeout_mzn, timeout):    \n",
    "    winner = [0] * len(instances) # 0 for HiGHS, 1 for COIN-BC\n",
    "    times = []\n",
    "    n = []\n",
    "    timeout_mzn = timeout_mzn*1000\n",
    "    \n",
    "    for i, instance in enumerate(instances):\n",
    "        mnt = float('inf')\n",
    "        time = float('inf')\n",
    "        times.append([])\n",
    "        # Get n\n",
    "        with open(instance, encoding=\"utf8\") as file_object:\n",
    "            n_temp = file_object.read().split(\"n = \")\n",
    "            n_temp = n_temp[1].split(\";\")\n",
    "            n.append(int(n_temp[0]))\n",
    "        \n",
    "        for j, solver in enumerate(solvers, 1):\n",
    "            for k, model in enumerate(models, 1):\n",
    "                # Run the minizinc command for the current model and data file  \n",
    "                cmd = f\"minizinc --solver {solver} --output-time {model} {instance} --output-time --solver-time-limit {timeout_mzn}\" \n",
    "                proc = subprocess.Popen(cmd, shell=True, stdout=subprocess.PIPE)\n",
    "                try: \n",
    "                    # Get output from fzn\n",
    "                    stdout, stderr = proc.communicate(timeout=timeout) \n",
    "                    stdout = stdout.decode()\n",
    "                    try:\n",
    "                        # Store value mnt (temp).\n",
    "                        start = stdout.find('mnt = ')+6\n",
    "                        end = stdout.find(';',start)\n",
    "                        mnt_temp = int(stdout[start:end])\n",
    "                        # Store value time (temp).\n",
    "                        time_temp = float(stdout.split(' ')[-2])\n",
    "                    except:\n",
    "                        mnt_temp = float('inf')\n",
    "                        time_temp = float('inf')\n",
    "                    # print_green(f'{solver} with {instance} SOLVED with a value of {mnt_temp} in {time_temp:.2f} seconds.')\n",
    "\n",
    "                except subprocess.TimeoutExpired: \n",
    "                    # print_red(f'Error from minizinc: Stopping.')                \n",
    "                    mnt_temp = float('inf')\n",
    "                    time_temp = float('inf')\n",
    "                    if os.name == 'nt': # If the os is Windows\n",
    "                        subprocess.call(['taskkill', '/F', '/T', '/PID', str(proc.pid)]) # Force kill the process\n",
    "                    else:\n",
    "                        os.killpg(os.getpgid(proc.pid), signal.SIGTERM) # Kill the process group\n",
    "\n",
    "                # Store values for futures generations\n",
    "                times[i].append(time_temp)\n",
    "\n",
    "                if mnt >= mnt_temp: # If the value is minor from the stored\n",
    "                    if mnt == mnt_temp: # If the value is equal from the stored compare time\n",
    "                        if time >= time_temp: # If the value of time from minizinc is minor from the stored\n",
    "                            if time == time_temp: # If the value of time from minizinc is equal from the stored choose random\n",
    "                                if random.random() < 0.5:\n",
    "                                    winner[i] = j*10 + k\n",
    "                            else:\n",
    "                                mnt = mnt_temp\n",
    "                                time = time_temp\n",
    "                                winner[i] = j*10 + k\n",
    "                    else:\n",
    "                        mnt = mnt_temp\n",
    "                        time = time_temp\n",
    "                        winner[i] = j*10 + k\n",
    "        print_yellow(str(i)+ \": \" + str(solvers[(winner[i]//10)-1]) +\" with \"+ str(models[(winner[i]%10)-1].replace(\"../models/\", \"\").replace(\".mzn\", \"\")) + \" WON!\")\n",
    "        \n",
    "    times = np.array(times)\n",
    "    # Remove inf    \n",
    "    def replace_inf_with_max(arr):\n",
    "        # Replace inf values with nan\n",
    "        arr[np.isinf(arr)] = np.nan\n",
    "        max_vals = np.nanmax(arr, axis=0)  # Compute maximum values of each column\n",
    "        print(max_vals)\n",
    "        for i in range(arr.shape[0]):\n",
    "            for j in range(arr.shape[1]):\n",
    "                if np.isnan(arr[i, j]):\n",
    "                    arr[i, j] = max_vals[j]\n",
    "        return arr\n",
    "\n",
    "    return winner, replace_inf_with_max(times), n"
   ]
  },
  {
   "cell_type": "code",
   "execution_count": 93,
   "id": "423bf919-3304-49aa-a65f-7c692d8d1569",
   "metadata": {
    "tags": []
   },
   "outputs": [
    {
     "name": "stdout",
     "output_type": "stream",
     "text": [
      "\u001b[33m0: COIN-BC with largest-indomain_max WON!\u001b[0m\n",
      "\u001b[33m1: HiGHS with largest-indomain_max WON!\u001b[0m\n",
      "\u001b[33m2: HiGHS with largest-indomain_max WON!\u001b[0m\n",
      "\u001b[33m3: COIN-BC with largest-indomain_max WON!\u001b[0m\n",
      "\u001b[33m4: COIN-BC with largest-indomain_max WON!\u001b[0m\n",
      "\u001b[33m5: COIN-BC with largest-indomain_max WON!\u001b[0m\n",
      "\u001b[33m6: COIN-BC with largest-indomain_max WON!\u001b[0m\n",
      "\u001b[33m7: HiGHS with largest-indomain_max WON!\u001b[0m\n",
      "\u001b[33m8: HiGHS with largest-indomain_max WON!\u001b[0m\n",
      "\u001b[33m9: COIN-BC with largest-indomain_max WON!\u001b[0m\n",
      "\u001b[33m10: HiGHS with largest-indomain_max WON!\u001b[0m\n",
      "\u001b[33m11: HiGHS with largest-indomain_max WON!\u001b[0m\n",
      "\u001b[33m12: COIN-BC with largest-indomain_max WON!\u001b[0m\n",
      "\u001b[33m13: COIN-BC with largest-indomain_max WON!\u001b[0m\n",
      "\u001b[33m14: COIN-BC with largest-indomain_max WON!\u001b[0m\n",
      "\u001b[33m15: HiGHS with largest-indomain_max WON!\u001b[0m\n",
      "\u001b[33m16: HiGHS with largest-indomain_max WON!\u001b[0m\n",
      "\u001b[33m17: HiGHS with largest-indomain_max WON!\u001b[0m\n",
      "\u001b[33m18: HiGHS with largest-indomain_max WON!\u001b[0m\n",
      "\u001b[33m19: COIN-BC with largest-indomain_max WON!\u001b[0m\n",
      "\u001b[33m20: HiGHS with largest-indomain_max WON!\u001b[0m\n",
      "\u001b[33m21: COIN-BC with largest-indomain_max WON!\u001b[0m\n",
      "\u001b[33m22: COIN-BC with largest-indomain_max WON!\u001b[0m\n",
      "\u001b[33m23: HiGHS with largest-indomain_max WON!\u001b[0m\n",
      "\u001b[33m24: COIN-BC with largest-indomain_max WON!\u001b[0m\n",
      "\u001b[33m25: COIN-BC with largest-indomain_max WON!\u001b[0m\n",
      "\u001b[33m26: COIN-BC with largest-indomain_max WON!\u001b[0m\n",
      "\u001b[33m27: HiGHS with largest-indomain_max WON!\u001b[0m\n",
      "\u001b[33m28: COIN-BC with largest-indomain_max WON!\u001b[0m\n",
      "\u001b[33m29: COIN-BC with largest-indomain_max WON!\u001b[0m\n",
      "\u001b[33m30: COIN-BC with largest-indomain_max WON!\u001b[0m\n",
      "\u001b[33m31: COIN-BC with largest-indomain_max WON!\u001b[0m\n",
      "\u001b[33m32: COIN-BC with largest-indomain_max WON!\u001b[0m\n",
      "\u001b[33m33: COIN-BC with largest-indomain_max WON!\u001b[0m\n",
      "\u001b[33m34: HiGHS with largest-indomain_max WON!\u001b[0m\n",
      "\u001b[33m35: COIN-BC with largest-indomain_max WON!\u001b[0m\n",
      "\u001b[33m36: COIN-BC with largest-indomain_max WON!\u001b[0m\n",
      "\u001b[33m37: HiGHS with largest-indomain_max WON!\u001b[0m\n",
      "\u001b[33m38: COIN-BC with largest-indomain_max WON!\u001b[0m\n",
      "\u001b[33m39: HiGHS with largest-indomain_max WON!\u001b[0m\n",
      "\u001b[33m40: COIN-BC with largest-indomain_max WON!\u001b[0m\n",
      "\u001b[33m41: COIN-BC with largest-indomain_max WON!\u001b[0m\n",
      "\u001b[33m42: HiGHS with largest-indomain_max WON!\u001b[0m\n",
      "\u001b[33m43: HiGHS with largest-indomain_max WON!\u001b[0m\n",
      "\u001b[33m44: HiGHS with largest-indomain_max WON!\u001b[0m\n",
      "\u001b[33m45: COIN-BC with largest-indomain_max WON!\u001b[0m\n",
      "\u001b[33m46: HiGHS with largest-indomain_max WON!\u001b[0m\n",
      "\u001b[33m47: COIN-BC with largest-indomain_max WON!\u001b[0m\n",
      "\u001b[33m48: HiGHS with largest-indomain_max WON!\u001b[0m\n",
      "\u001b[33m49: HiGHS with largest-indomain_max WON!\u001b[0m\n",
      "\u001b[33m50: HiGHS with largest-indomain_max WON!\u001b[0m\n",
      "\u001b[33m51: HiGHS with largest-indomain_max WON!\u001b[0m\n",
      "\u001b[33m52: HiGHS with largest-indomain_max WON!\u001b[0m\n",
      "\u001b[33m53: HiGHS with largest-indomain_max WON!\u001b[0m\n",
      "\u001b[33m54: HiGHS with largest-indomain_max WON!\u001b[0m\n",
      "\u001b[33m55: COIN-BC with largest-indomain_max WON!\u001b[0m\n",
      "\u001b[33m56: HiGHS with largest-indomain_max WON!\u001b[0m\n",
      "\u001b[33m57: HiGHS with largest-indomain_max WON!\u001b[0m\n",
      "\u001b[33m58: COIN-BC with largest-indomain_max WON!\u001b[0m\n",
      "\u001b[33m59: COIN-BC with largest-indomain_max WON!\u001b[0m\n",
      "\u001b[33m60: HiGHS with largest-indomain_max WON!\u001b[0m\n",
      "\u001b[33m61: HiGHS with largest-indomain_max WON!\u001b[0m\n",
      "\u001b[33m62: COIN-BC with largest-indomain_max WON!\u001b[0m\n",
      "\u001b[33m63: COIN-BC with largest-indomain_max WON!\u001b[0m\n",
      "\u001b[33m64: COIN-BC with largest-indomain_max WON!\u001b[0m\n",
      "\u001b[33m65: COIN-BC with largest-indomain_max WON!\u001b[0m\n",
      "\u001b[33m66: COIN-BC with largest-indomain_max WON!\u001b[0m\n",
      "\u001b[33m67: HiGHS with largest-indomain_max WON!\u001b[0m\n",
      "\u001b[33m68: HiGHS with largest-indomain_max WON!\u001b[0m\n",
      "\u001b[33m69: COIN-BC with largest-indomain_max WON!\u001b[0m\n",
      "\u001b[33m70: HiGHS with largest-indomain_max WON!\u001b[0m\n",
      "\u001b[33m71: HiGHS with largest-indomain_max WON!\u001b[0m\n",
      "\u001b[33m72: COIN-BC with largest-indomain_max WON!\u001b[0m\n",
      "\u001b[33m73: HiGHS with largest-indomain_max WON!\u001b[0m\n",
      "\u001b[33m74: HiGHS with largest-indomain_max WON!\u001b[0m\n",
      "\u001b[33m75: COIN-BC with largest-indomain_max WON!\u001b[0m\n",
      "\u001b[33m76: COIN-BC with largest-indomain_max WON!\u001b[0m\n",
      "\u001b[33m77: HiGHS with largest-indomain_max WON!\u001b[0m\n",
      "\u001b[33m78: HiGHS with largest-indomain_max WON!\u001b[0m\n",
      "\u001b[33m79: COIN-BC with largest-indomain_max WON!\u001b[0m\n",
      "\u001b[33m80: COIN-BC with largest-indomain_max WON!\u001b[0m\n",
      "\u001b[33m81: HiGHS with largest-indomain_max WON!\u001b[0m\n",
      "\u001b[33m82: HiGHS with largest-indomain_max WON!\u001b[0m\n",
      "\u001b[33m83: HiGHS with largest-indomain_max WON!\u001b[0m\n",
      "\u001b[33m84: HiGHS with largest-indomain_max WON!\u001b[0m\n",
      "\u001b[33m85: HiGHS with largest-indomain_max WON!\u001b[0m\n",
      "\u001b[33m86: HiGHS with largest-indomain_max WON!\u001b[0m\n",
      "\u001b[33m87: COIN-BC with largest-indomain_max WON!\u001b[0m\n",
      "\u001b[33m88: HiGHS with largest-indomain_max WON!\u001b[0m\n",
      "\u001b[33m89: HiGHS with largest-indomain_max WON!\u001b[0m\n",
      "\u001b[33m90: COIN-BC with largest-indomain_max WON!\u001b[0m\n",
      "\u001b[33m91: HiGHS with largest-indomain_max WON!\u001b[0m\n",
      "\u001b[33m92: COIN-BC with largest-indomain_max WON!\u001b[0m\n",
      "\u001b[33m93: HiGHS with largest-indomain_max WON!\u001b[0m\n",
      "\u001b[33m94: HiGHS with largest-indomain_max WON!\u001b[0m\n",
      "\u001b[33m95: COIN-BC with largest-indomain_max WON!\u001b[0m\n",
      "\u001b[33m96: HiGHS with largest-indomain_max WON!\u001b[0m\n",
      "\u001b[33m97: HiGHS with largest-indomain_max WON!\u001b[0m\n",
      "\u001b[33m98: COIN-BC with largest-indomain_max WON!\u001b[0m\n",
      "\u001b[33m99: COIN-BC with largest-indomain_max WON!\u001b[0m\n",
      "\u001b[33m100: HiGHS with largest-indomain_max WON!\u001b[0m\n",
      "\u001b[33m101: COIN-BC with largest-indomain_max WON!\u001b[0m\n",
      "\u001b[33m102: COIN-BC with largest-indomain_max WON!\u001b[0m\n",
      "\u001b[33m103: HiGHS with largest-indomain_max WON!\u001b[0m\n",
      "\u001b[33m104: COIN-BC with largest-indomain_max WON!\u001b[0m\n",
      "\u001b[33m105: COIN-BC with largest-indomain_max WON!\u001b[0m\n",
      "\u001b[33m106: HiGHS with largest-indomain_max WON!\u001b[0m\n",
      "\u001b[33m107: HiGHS with largest-indomain_max WON!\u001b[0m\n",
      "\u001b[33m108: COIN-BC with largest-indomain_max WON!\u001b[0m\n",
      "\u001b[33m109: HiGHS with largest-indomain_max WON!\u001b[0m\n",
      "\u001b[33m110: COIN-BC with largest-indomain_max WON!\u001b[0m\n",
      "\u001b[33m111: COIN-BC with largest-indomain_max WON!\u001b[0m\n",
      "\u001b[33m112: COIN-BC with largest-indomain_max WON!\u001b[0m\n",
      "\u001b[33m113: HiGHS with largest-indomain_max WON!\u001b[0m\n",
      "\u001b[33m114: COIN-BC with largest-indomain_max WON!\u001b[0m\n",
      "\u001b[33m115: HiGHS with largest-indomain_max WON!\u001b[0m\n",
      "\u001b[33m116: COIN-BC with largest-indomain_max WON!\u001b[0m\n",
      "\u001b[33m117: COIN-BC with largest-indomain_max WON!\u001b[0m\n",
      "\u001b[33m118: HiGHS with largest-indomain_max WON!\u001b[0m\n",
      "\u001b[33m119: COIN-BC with largest-indomain_max WON!\u001b[0m\n",
      "\u001b[33m120: HiGHS with largest-indomain_max WON!\u001b[0m\n",
      "\u001b[33m121: COIN-BC with largest-indomain_max WON!\u001b[0m\n",
      "\u001b[33m122: COIN-BC with largest-indomain_max WON!\u001b[0m\n",
      "\u001b[33m123: COIN-BC with largest-indomain_max WON!\u001b[0m\n",
      "\u001b[33m124: COIN-BC with largest-indomain_max WON!\u001b[0m\n",
      "\u001b[33m125: HiGHS with largest-indomain_max WON!\u001b[0m\n",
      "\u001b[33m126: HiGHS with largest-indomain_max WON!\u001b[0m\n",
      "\u001b[33m127: COIN-BC with largest-indomain_max WON!\u001b[0m\n",
      "\u001b[33m128: HiGHS with largest-indomain_max WON!\u001b[0m\n",
      "\u001b[33m129: COIN-BC with largest-indomain_max WON!\u001b[0m\n",
      "\u001b[33m130: COIN-BC with largest-indomain_max WON!\u001b[0m\n",
      "\u001b[33m131: COIN-BC with largest-indomain_max WON!\u001b[0m\n",
      "\u001b[33m132: HiGHS with largest-indomain_max WON!\u001b[0m\n",
      "\u001b[33m133: HiGHS with largest-indomain_max WON!\u001b[0m\n",
      "\u001b[33m134: HiGHS with largest-indomain_max WON!\u001b[0m\n",
      "\u001b[33m135: COIN-BC with largest-indomain_max WON!\u001b[0m\n",
      "\u001b[33m136: HiGHS with largest-indomain_max WON!\u001b[0m\n",
      "\u001b[33m137: HiGHS with largest-indomain_max WON!\u001b[0m\n",
      "\u001b[33m138: COIN-BC with largest-indomain_max WON!\u001b[0m\n",
      "\u001b[33m139: COIN-BC with largest-indomain_max WON!\u001b[0m\n",
      "\u001b[33m140: COIN-BC with largest-indomain_max WON!\u001b[0m\n",
      "\u001b[33m141: HiGHS with largest-indomain_max WON!\u001b[0m\n",
      "\u001b[33m142: COIN-BC with largest-indomain_max WON!\u001b[0m\n",
      "\u001b[33m143: COIN-BC with largest-indomain_max WON!\u001b[0m\n",
      "\u001b[33m144: COIN-BC with largest-indomain_max WON!\u001b[0m\n",
      "\u001b[33m145: HiGHS with largest-indomain_max WON!\u001b[0m\n",
      "\u001b[33m146: HiGHS with largest-indomain_max WON!\u001b[0m\n",
      "\u001b[33m147: COIN-BC with largest-indomain_max WON!\u001b[0m\n",
      "\u001b[33m148: COIN-BC with largest-indomain_max WON!\u001b[0m\n",
      "\u001b[33m149: COIN-BC with largest-indomain_max WON!\u001b[0m\n",
      "[10.2  10.64]\n"
     ]
    }
   ],
   "source": [
    "mzn_timeout = 10\n",
    "cmd_timeout = 20\n",
    "\n",
    "labels, times, n = get_labels(instances_path, mzn_timeout, cmd_timeout)"
   ]
  },
  {
   "cell_type": "markdown",
   "id": "c755d90c-01e4-4081-bb2f-486fd3049227",
   "metadata": {},
   "source": [
    "## Storing labels and times"
   ]
  },
  {
   "cell_type": "code",
   "execution_count": 94,
   "id": "a4831305-7be9-4cb6-9251-1c64637e1ea8",
   "metadata": {},
   "outputs": [],
   "source": [
    "path = '../instances/labels.txt'\n",
    "with open(path, 'w', encoding='utf8') as file_object:\n",
    "    file_object.write(str(labels))\n",
    "\n",
    "path = '../instances/times.txt'\n",
    "with open(path, 'w', encoding='utf8') as file_object:\n",
    "    file_object.write('solvers:\\n'+str(solvers)+'\\nannotations:\\n'+str(models)+'\\nn: Number of products\\n'+str(n)+'\\nTimes that took each solver with a timeout of 10s for each instance.\\nIf 20s then it didnt find answer in 10s so reached cmd timeout.\\n(Values greater than 10s and less than 20 was because minizinc was looking for a last solution).\\n'+str(times))"
   ]
  },
  {
   "cell_type": "markdown",
   "id": "4cb97325-7cdf-4603-84bc-81ab5f780042",
   "metadata": {},
   "source": [
    "## Looking for a Patern"
   ]
  },
  {
   "cell_type": "code",
   "execution_count": 101,
   "id": "670a1818-79ea-4a32-8041-0f9d80d6dad2",
   "metadata": {},
   "outputs": [
    {
     "data": {
      "image/png": "[encoded data removed]",
      "text/plain": [
       "<Figure size 640x480 with 1 Axes>"
      ]
     },
     "metadata": {},
     "output_type": "display_data"
    }
   ],
   "source": [
    "YH = times[:,0]\n",
    "YC = times[:,1]\n",
    "\n",
    "# Calculate the coefficients of the polynomial trend line\n",
    "coefficientsYH = np.polyfit(n, YH, 4)\n",
    "coefficientsYC = np.polyfit(n, YC, 4)\n",
    "\n",
    "# Create a polynomial function based on the coefficients\n",
    "trend_funcYH = np.poly1d(coefficientsYH)\n",
    "trend_funcYC = np.poly1d(coefficientsYC)\n",
    "# Generate a range of x-values for plotting the trend line\n",
    "n_range = np.linspace(min(n), max(n), 100)\n",
    "\n",
    "# Create a line plot for y1 with blue color\n",
    "plt.scatter(n, YH, color='blue', label='HiGHS')\n",
    "# Create a line plot for y2 with red color\n",
    "plt.scatter(n, YC, color='red', label='COIN-BC')\n",
    "\n",
    "# Plot the trend line\n",
    "plt.plot(n_range, trend_funcYH(n_range), color='blue')\n",
    "plt.plot(n_range, trend_funcYC(n_range), color='red')\n",
    "\n",
    "# Set labels for x-axis and y-axis\n",
    "plt.xlabel('Products(n)')\n",
    "plt.ylabel('Time(s)')\n",
    "\n",
    "# Set title for the plot\n",
    "# plt.title('Algorithms solving instances in 10s')\n",
    "\n",
    "# Add a legend to differentiate lines\n",
    "plt.legend()\n",
    "\n",
    "# Show the plot\n",
    "plt.show()"
   ]
  },
  {
   "cell_type": "code",
   "execution_count": 96,
   "id": "dd91c08e-d48c-4cff-9bd4-75cdd46f702c",
   "metadata": {},
   "outputs": [
    {
     "name": "stdout",
     "output_type": "stream",
     "text": [
      "21: 77 51.33333333333333%\n",
      "11: 72 48.0%\n",
      "0: 1 0.6666666666666667%\n"
     ]
    }
   ],
   "source": [
    "freq = {}\n",
    "\n",
    "# Count frequency of each element in the array\n",
    "for num in labels:\n",
    "    if num in freq:\n",
    "        freq[num] += 1\n",
    "    else:\n",
    "        freq[num] = 1\n",
    "\n",
    "# Print frequency of each element\n",
    "for num, count in freq.items():\n",
    "    print(f\"{num}: {count} {count/len(labels)*100}%\")"
   ]
  },
  {
   "cell_type": "code",
   "execution_count": 97,
   "id": "e9e299a1-827b-4610-b48a-17f8194de13c",
   "metadata": {},
   "outputs": [
    {
     "name": "stdout",
     "output_type": "stream",
     "text": [
      "[21, 11, 11, 21, 21, 21, 21, 11, 11, 21, 11, 11, 21, 21, 21, 11, 11, 11, 11, 21, 11, 21, 21, 11, 21, 21, 21, 11, 21, 21, 21, 21, 21, 21, 11, 21, 21, 11, 21, 11, 21, 21, 11, 11, 11, 21, 11, 21, 11, 11, 11, 11, 11, 11, 11, 21, 11, 11, 21, 21, 11, 11, 21, 21, 21, 21, 21, 11, 11, 21, 11, 11, 21, 11, 11, 21, 21, 11, 11, 21, 21, 11, 11, 11, 11, 11, 11, 21, 11, 11, 21, 11, 21, 11, 11, 21, 11, 11, 21, 21, 11, 21, 21, 11, 21, 21, 11, 11, 21, 11, 21, 21, 21, 11, 21, 11, 21, 21, 11, 21, 11, 0, 21, 21, 21, 11, 11, 21, 11, 21, 21, 21, 11, 11, 11, 21, 11, 11, 21, 21, 21, 11, 21, 21, 21, 11, 11, 21, 21, 21]\n"
     ]
    }
   ],
   "source": [
    "print(labels)"
   ]
  },
  {
   "cell_type": "code",
   "execution_count": null,
   "id": "dd4e1715-a11d-42b2-a792-01095cfacdc4",
   "metadata": {},
   "outputs": [],
   "source": []
  }
 ],
 "metadata": {
  "kernelspec": {
   "display_name": "Python 3 (ipykernel)",
   "language": "python",
   "name": "python3"
  },
  "language_info": {
   "codemirror_mode": {
    "name": "ipython",
    "version": 3
   },
   "file_extension": ".py",
   "mimetype": "text/x-python",
   "name": "python",
   "nbconvert_exporter": "python",
   "pygments_lexer": "ipython3",
   "version": "3.9.13"
  }
 },
 "nbformat": 4,
 "nbformat_minor": 5
}
