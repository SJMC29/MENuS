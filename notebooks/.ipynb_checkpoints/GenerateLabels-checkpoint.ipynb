{
 "cells": [
  {
   "cell_type": "markdown",
   "id": "4779d03c-ce82-4d54-bcc7-95f93d9f31cd",
   "metadata": {},
   "source": [
    "### Auxiliar Functions"
   ]
  },
  {
   "cell_type": "code",
   "execution_count": 9,
   "id": "bce0ac10-6d08-4434-8a2c-5ec495c4f5f6",
   "metadata": {},
   "outputs": [],
   "source": [
    "def print_red(text):\n",
    "    print('\\x1b[31m' + text + '\\x1b[0m')\n",
    "    \n",
    "def print_yellow(text):\n",
    "    print('\\x1b[33m' + text + '\\x1b[0m')\n",
    "\n",
    "def print_green(text):\n",
    "    print('\\x1b[32m' + text + '\\x1b[0m')\n",
    "\n",
    "def print_pink(text):\n",
    "    print('\\x1b[35m' + text + '\\x1b[0m')\n",
    "\n",
    "def print_cyan(text):\n",
    "    print('\\x1b[36m' + text + '\\x1b[0m')"
   ]
  },
  {
   "cell_type": "markdown",
   "id": "66edfe84-2809-4857-a046-2ca9e0916343",
   "metadata": {},
   "source": [
    "## Get the Instances / Ingredient list\n",
    "The instances have been generated using the notebook: Generate Instance.ipynb"
   ]
  },
  {
   "cell_type": "code",
   "execution_count": 10,
   "id": "0a460051-f892-4037-b5f8-54a2c3666ce1",
   "metadata": {},
   "outputs": [],
   "source": [
    "import os\n",
    "import re\n",
    "\n",
    "instances_folder = '..\\instances'\n",
    "instances_path = [os.path.join(instances_folder, f) for f in os.listdir(instances_folder) if f.endswith('.dzn')]\n",
    "# Sort\n",
    "def numeric_sort_key(file_path):\n",
    "    match = re.search(r'\\d+', file_path)\n",
    "    return int(match.group()) if match else file_path\n",
    "\n",
    "instances_path = sorted(instances_path, key=numeric_sort_key)\n",
    "# print(instances_path)"
   ]
  },
  {
   "cell_type": "markdown",
   "id": "268cc177-f021-4051-9f96-e4bcdb111cc5",
   "metadata": {},
   "source": [
    "# Minizinc\n",
    "### Chosen model with annotations\n",
    "The models have been generated using the notebook: GenerateAnnotations.ipynb"
   ]
  },
  {
   "cell_type": "code",
   "execution_count": 11,
   "id": "54ec4975-409f-4da4-9560-2202db231e15",
   "metadata": {},
   "outputs": [],
   "source": [
    "model = '../models/largest-indomain_max.mzn'"
   ]
  },
  {
   "cell_type": "markdown",
   "id": "c1156ed7-7a68-498c-8bfc-ddfbf2790596",
   "metadata": {},
   "source": [
    "### Solvers"
   ]
  },
  {
   "cell_type": "code",
   "execution_count": 12,
   "id": "cf73aa63-4479-4b05-857e-0441c8b50673",
   "metadata": {},
   "outputs": [
    {
     "name": "stdout",
     "output_type": "stream",
     "text": [
      "MiniZinc driver.\n",
      "Available solver configurations:\n",
      "  Chuffed 0.11.0 (org.chuffed.chuffed, cp, lcg, int)\n",
      "  COIN-BC 2.10.8/1.17.7 (org.minizinc.mip.coin-bc, mip, float, api, osicbc, coinbc, cbc)\n",
      "  CPLEX <unknown version> (org.minizinc.mip.cplex, mip, float, api)\n",
      "  findMUS 0.7.0 (org.minizinc.findmus)\n",
      "  Gecode 6.3.0 (org.gecode.gecode, default solver, cp, int, float, set, restart)\n",
      "  Gecode Gist 6.3.0 (org.gecode.gist, cp, int, float, set, restart)\n",
      "  Globalizer 0.1.7.2 (org.minizinc.globalizer, experimental, tool)\n",
      "  Gurobi <unknown version> (org.minizinc.mip.gurobi, mip, float, api)\n",
      "  HiGHS 1.4.2 (org.minizinc.mip.highs, mip, float, api, highs)\n",
      "  OR-TOOLS 9.6.0 (com.google.or-tools)\n",
      "  SCIP <unknown version> (org.minizinc.mip.scip, mip, float, api)\n",
      "  Xpress <unknown version> (org.minizinc.mip.xpress, mip, float, api)\n",
      "Search path for solver configurations:\n",
      "  C:\\Users\\juanj\\AppData\\Roaming/MiniZinc/solvers\n",
      "  C:\\Program Files\\MiniZinc\\share\\minizinc/solvers\n"
     ]
    }
   ],
   "source": [
    "!minizinc --solvers\n",
    "solvers = [\"HiGHS\", \"COIN-BC\"]"
   ]
  },
  {
   "cell_type": "markdown",
   "id": "1ec644f8-5222-46fa-ac21-020c29ace87f",
   "metadata": {},
   "source": [
    "## Calculate labels"
   ]
  },
  {
   "cell_type": "code",
   "execution_count": 13,
   "id": "1a6b9d3d-098e-43be-8246-52cb92ab803a",
   "metadata": {},
   "outputs": [],
   "source": [
    "import random\n",
    "import subprocess\n",
    "# Returns the solver who solved the model in the best way possible\n",
    "def solve_with_minizinc(instances, timeout_mzn, timeout):    \n",
    "    winner = [0] * len(instances) # 0 for HiGHS, 1 for COIN-BC\n",
    "    times = []\n",
    "    timeout_mzn = timeout_mzn*1000\n",
    "    \n",
    "    for i, instance in enumerate(instances):\n",
    "        mnt = float('inf')\n",
    "        time = float('inf')\n",
    "        times.append([])\n",
    "        for j, solver in enumerate(solvers):\n",
    "            # Run the minizinc command for the current model and data file  \n",
    "            cmd = f\"minizinc --solver {solver} --output-time {model} {instance} --output-time --solver-time-limit {timeout_mzn}\" \n",
    "            proc = subprocess.Popen(cmd, shell=True, stdout=subprocess.PIPE)\n",
    "            try: \n",
    "                # Get output from fzn\n",
    "                stdout, stderr = proc.communicate(timeout=timeout) \n",
    "                stdout = stdout.decode()\n",
    "                try:\n",
    "                    # Store value mnt (temp).\n",
    "                    start = stdout.find('mnt = ')+6\n",
    "                    end = stdout.find(';',start)\n",
    "                    mnt_temp = int(stdout[start:end])\n",
    "                    # Store value time (temp).\n",
    "                    time_temp = float(stdout.split(' ')[-2])\n",
    "                except:\n",
    "                    mnt_temp = float('inf')\n",
    "                    time_temp = float('inf')\n",
    "                # print_green(f'{solver} with {instance} SOLVED with a value of {mnt_temp} in {time_temp:.2f} seconds.')\n",
    "                \n",
    "            except subprocess.TimeoutExpired: \n",
    "                print_red(f'Error from minizinc: Stopping.')                \n",
    "                mnt_temp = float('inf')\n",
    "                time_temp = float('inf')\n",
    "                if os.name == 'nt': # If the os is Windows\n",
    "                    subprocess.call(['taskkill', '/F', '/T', '/PID', str(proc.pid)]) # Force kill the process\n",
    "                else:\n",
    "                    os.killpg(os.getpgid(proc.pid), signal.SIGTERM) # Kill the process group\n",
    "            \n",
    "            # Store values for futures generations\n",
    "            times[i].append(time_temp)\n",
    "            \n",
    "            if mnt >= mnt_temp: # If the value is minor from the stored\n",
    "                if mnt == mnt_temp: # If the value is equal from the stored compare time\n",
    "                    if time >= time_temp: # If the value of time from minizinc is minor from the stored\n",
    "                        if time == time_temp: # If the value of time from minizinc is equal from the stored choose random\n",
    "                            winner[i] = random.randint(j-1,j)    \n",
    "                        else:\n",
    "                            mnt = mnt_temp\n",
    "                            time = time_temp\n",
    "                            winner[i] = j\n",
    "                else:\n",
    "                    mnt = mnt_temp\n",
    "                    time = time_temp\n",
    "                    winner[i] = j\n",
    "        print_yellow(str(i)+ \": \" + solvers[winner[i]]+\" WON!\")\n",
    "    return winner, times"
   ]
  },
  {
   "cell_type": "code",
   "execution_count": 14,
   "id": "0a1d4413-2425-48f2-8c06-9d3d6a68e550",
   "metadata": {
    "tags": []
   },
   "outputs": [
    {
     "name": "stdout",
     "output_type": "stream",
     "text": [
      "\u001b[33m0: HiGHS WON!\u001b[0m\n",
      "\u001b[33m1: HiGHS WON!\u001b[0m\n",
      "\u001b[33m2: HiGHS WON!\u001b[0m\n",
      "\u001b[33m3: HiGHS WON!\u001b[0m\n",
      "\u001b[33m4: HiGHS WON!\u001b[0m\n",
      "\u001b[33m5: COIN-BC WON!\u001b[0m\n",
      "\u001b[33m6: COIN-BC WON!\u001b[0m\n",
      "\u001b[33m7: HiGHS WON!\u001b[0m\n",
      "\u001b[33m8: HiGHS WON!\u001b[0m\n",
      "\u001b[33m9: COIN-BC WON!\u001b[0m\n",
      "\u001b[33m10: HiGHS WON!\u001b[0m\n",
      "\u001b[33m11: HiGHS WON!\u001b[0m\n",
      "\u001b[33m12: HiGHS WON!\u001b[0m\n",
      "\u001b[33m13: COIN-BC WON!\u001b[0m\n",
      "\u001b[33m14: HiGHS WON!\u001b[0m\n",
      "\u001b[33m15: HiGHS WON!\u001b[0m\n",
      "\u001b[33m16: HiGHS WON!\u001b[0m\n",
      "\u001b[33m17: COIN-BC WON!\u001b[0m\n",
      "\u001b[33m18: HiGHS WON!\u001b[0m\n",
      "\u001b[33m19: COIN-BC WON!\u001b[0m\n",
      "\u001b[33m20: COIN-BC WON!\u001b[0m\n",
      "\u001b[33m21: HiGHS WON!\u001b[0m\n",
      "\u001b[33m22: HiGHS WON!\u001b[0m\n",
      "\u001b[33m23: HiGHS WON!\u001b[0m\n",
      "\u001b[33m24: HiGHS WON!\u001b[0m\n",
      "\u001b[33m25: HiGHS WON!\u001b[0m\n",
      "\u001b[33m26: HiGHS WON!\u001b[0m\n",
      "\u001b[33m27: HiGHS WON!\u001b[0m\n",
      "\u001b[33m28: HiGHS WON!\u001b[0m\n",
      "\u001b[33m29: HiGHS WON!\u001b[0m\n",
      "\u001b[33m30: HiGHS WON!\u001b[0m\n",
      "\u001b[33m31: HiGHS WON!\u001b[0m\n",
      "\u001b[33m32: HiGHS WON!\u001b[0m\n",
      "\u001b[33m33: HiGHS WON!\u001b[0m\n",
      "\u001b[33m34: HiGHS WON!\u001b[0m\n",
      "\u001b[33m35: COIN-BC WON!\u001b[0m\n",
      "\u001b[33m36: HiGHS WON!\u001b[0m\n",
      "\u001b[33m37: HiGHS WON!\u001b[0m\n",
      "\u001b[33m38: HiGHS WON!\u001b[0m\n",
      "\u001b[33m39: HiGHS WON!\u001b[0m\n",
      "\u001b[33m40: HiGHS WON!\u001b[0m\n",
      "\u001b[33m41: HiGHS WON!\u001b[0m\n",
      "\u001b[33m42: COIN-BC WON!\u001b[0m\n",
      "\u001b[33m43: HiGHS WON!\u001b[0m\n",
      "\u001b[33m44: HiGHS WON!\u001b[0m\n",
      "\u001b[33m45: HiGHS WON!\u001b[0m\n",
      "\u001b[33m46: HiGHS WON!\u001b[0m\n",
      "\u001b[33m47: COIN-BC WON!\u001b[0m\n",
      "\u001b[33m48: COIN-BC WON!\u001b[0m\n",
      "\u001b[33m49: HiGHS WON!\u001b[0m\n",
      "\u001b[33m50: HiGHS WON!\u001b[0m\n",
      "\u001b[33m51: HiGHS WON!\u001b[0m\n",
      "\u001b[33m52: HiGHS WON!\u001b[0m\n",
      "\u001b[33m53: HiGHS WON!\u001b[0m\n",
      "\u001b[33m54: HiGHS WON!\u001b[0m\n",
      "\u001b[33m55: HiGHS WON!\u001b[0m\n",
      "\u001b[33m56: HiGHS WON!\u001b[0m\n",
      "\u001b[33m57: HiGHS WON!\u001b[0m\n",
      "\u001b[33m58: COIN-BC WON!\u001b[0m\n",
      "\u001b[33m59: HiGHS WON!\u001b[0m\n",
      "\u001b[33m60: HiGHS WON!\u001b[0m\n",
      "\u001b[33m61: HiGHS WON!\u001b[0m\n",
      "\u001b[33m62: COIN-BC WON!\u001b[0m\n",
      "\u001b[33m63: COIN-BC WON!\u001b[0m\n",
      "\u001b[33m64: COIN-BC WON!\u001b[0m\n",
      "\u001b[33m65: HiGHS WON!\u001b[0m\n",
      "\u001b[33m66: HiGHS WON!\u001b[0m\n",
      "\u001b[33m67: HiGHS WON!\u001b[0m\n",
      "\u001b[33m68: HiGHS WON!\u001b[0m\n",
      "\u001b[33m69: HiGHS WON!\u001b[0m\n",
      "\u001b[33m70: COIN-BC WON!\u001b[0m\n",
      "\u001b[33m71: COIN-BC WON!\u001b[0m\n",
      "\u001b[33m72: HiGHS WON!\u001b[0m\n",
      "\u001b[33m73: HiGHS WON!\u001b[0m\n",
      "\u001b[33m74: HiGHS WON!\u001b[0m\n",
      "\u001b[33m75: HiGHS WON!\u001b[0m\n",
      "\u001b[33m76: COIN-BC WON!\u001b[0m\n",
      "\u001b[33m77: HiGHS WON!\u001b[0m\n",
      "\u001b[33m78: HiGHS WON!\u001b[0m\n",
      "\u001b[33m79: HiGHS WON!\u001b[0m\n",
      "\u001b[33m80: COIN-BC WON!\u001b[0m\n",
      "\u001b[33m81: HiGHS WON!\u001b[0m\n",
      "\u001b[33m82: HiGHS WON!\u001b[0m\n",
      "\u001b[33m83: HiGHS WON!\u001b[0m\n",
      "\u001b[33m84: HiGHS WON!\u001b[0m\n",
      "\u001b[33m85: HiGHS WON!\u001b[0m\n",
      "\u001b[33m86: COIN-BC WON!\u001b[0m\n",
      "\u001b[33m87: HiGHS WON!\u001b[0m\n",
      "\u001b[33m88: COIN-BC WON!\u001b[0m\n",
      "\u001b[33m89: HiGHS WON!\u001b[0m\n",
      "\u001b[33m90: COIN-BC WON!\u001b[0m\n",
      "\u001b[33m91: HiGHS WON!\u001b[0m\n",
      "\u001b[33m92: COIN-BC WON!\u001b[0m\n",
      "\u001b[33m93: COIN-BC WON!\u001b[0m\n",
      "\u001b[33m94: COIN-BC WON!\u001b[0m\n",
      "\u001b[33m95: HiGHS WON!\u001b[0m\n",
      "\u001b[33m96: HiGHS WON!\u001b[0m\n",
      "\u001b[33m97: HiGHS WON!\u001b[0m\n",
      "\u001b[33m98: COIN-BC WON!\u001b[0m\n",
      "\u001b[33m99: HiGHS WON!\u001b[0m\n"
     ]
    }
   ],
   "source": [
    "labels, times = solve_with_minizinc(instances_path, 10, 15)"
   ]
  },
  {
   "cell_type": "markdown",
   "id": "c755d90c-01e4-4081-bb2f-486fd3049227",
   "metadata": {},
   "source": [
    "## Storing labels and times"
   ]
  },
  {
   "cell_type": "code",
   "execution_count": 15,
   "id": "a4831305-7be9-4cb6-9251-1c64637e1ea8",
   "metadata": {},
   "outputs": [],
   "source": [
    "path = '../instances/labels.txt'\n",
    "with open(path, 'w', encoding='utf8') as file_object:\n",
    "    file_object.write(str(labels))\n",
    "    \n",
    "path = '../instances/times.txt'\n",
    "with open(path, 'w', encoding='utf8') as file_object:\n",
    "    file_object.write('solvers:\\n'+str(solvers)+'\\nTimes that took each solver with a timeout of 10s for each instance.\\n(Values greater than 10s was because minizinc was looking for a last solution).\\n'+str(times))"
   ]
  },
  {
   "cell_type": "code",
   "execution_count": 16,
   "id": "dd91c08e-d48c-4cff-9bd4-75cdd46f702c",
   "metadata": {},
   "outputs": [
    {
     "name": "stdout",
     "output_type": "stream",
     "text": [
      "0: 74 74.0%\n",
      "1: 26 26.0%\n"
     ]
    }
   ],
   "source": [
    "freq = {}\n",
    "\n",
    "# Count frequency of each element in the array\n",
    "for num in labels:\n",
    "    if num in freq:\n",
    "        freq[num] += 1\n",
    "    else:\n",
    "        freq[num] = 1\n",
    "\n",
    "# Print frequency of each element\n",
    "for num, count in freq.items():\n",
    "    print(f\"{num}: {count} {count/len(labels)*100}%\")"
   ]
  },
  {
   "cell_type": "code",
   "execution_count": null,
   "id": "e9e299a1-827b-4610-b48a-17f8194de13c",
   "metadata": {},
   "outputs": [],
   "source": []
  }
 ],
 "metadata": {
  "kernelspec": {
   "display_name": "MENuS",
   "language": "python",
   "name": "menus"
  },
  "language_info": {
   "codemirror_mode": {
    "name": "ipython",
    "version": 3
   },
   "file_extension": ".py",
   "mimetype": "text/x-python",
   "name": "python",
   "nbconvert_exporter": "python",
   "pygments_lexer": "ipython3",
   "version": "3.10.9"
  }
 },
 "nbformat": 4,
 "nbformat_minor": 5
}
