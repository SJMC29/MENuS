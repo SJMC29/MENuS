{
 "cells": [
  {
   "cell_type": "markdown",
   "id": "4779d03c-ce82-4d54-bcc7-95f93d9f31cd",
   "metadata": {},
   "source": [
    "### Auxiliar Functions"
   ]
  },
  {
   "cell_type": "code",
   "execution_count": 14,
   "id": "bce0ac10-6d08-4434-8a2c-5ec495c4f5f6",
   "metadata": {},
   "outputs": [],
   "source": [
    "def print_red(text):\n",
    "    print('\\x1b[31m' + text + '\\x1b[0m')\n",
    "    \n",
    "def print_yellow(text):\n",
    "    print('\\x1b[33m' + text + '\\x1b[0m')\n",
    "\n",
    "def print_green(text):\n",
    "    print('\\x1b[32m' + text + '\\x1b[0m')\n",
    "\n",
    "def print_pink(text):\n",
    "    print('\\x1b[35m' + text + '\\x1b[0m')\n",
    "\n",
    "def print_cyan(text):\n",
    "    print('\\x1b[36m' + text + '\\x1b[0m')"
   ]
  },
  {
   "cell_type": "markdown",
   "id": "66edfe84-2809-4857-a046-2ca9e0916343",
   "metadata": {},
   "source": [
    "## Get the Instances / Ingredient list\n",
    "The instances have been generated using the notebook: Generate Instance.ipynb"
   ]
  },
  {
   "cell_type": "code",
   "execution_count": 15,
   "id": "0a460051-f892-4037-b5f8-54a2c3666ce1",
   "metadata": {},
   "outputs": [],
   "source": [
    "import os\n",
    "import re\n",
    "\n",
    "instances_folder = '..\\instances'\n",
    "instances_path = [os.path.join(instances_folder, f) for f in os.listdir(instances_folder) if f.endswith('.dzn')]\n",
    "# Sort\n",
    "def numeric_sort_key(file_path):\n",
    "    match = re.search(r'\\d+', file_path)\n",
    "    return int(match.group()) if match else file_path\n",
    "\n",
    "instances_path = sorted(instances_path, key=numeric_sort_key)\n",
    "# print(instances_path)"
   ]
  },
  {
   "cell_type": "markdown",
   "id": "268cc177-f021-4051-9f96-e4bcdb111cc5",
   "metadata": {},
   "source": [
    "# Minizinc\n",
    "### Chosen model with annotations\n",
    "The models have been generated using the notebook: GenerateAnnotations.ipynb"
   ]
  },
  {
   "cell_type": "code",
   "execution_count": 16,
   "id": "54ec4975-409f-4da4-9560-2202db231e15",
   "metadata": {},
   "outputs": [],
   "source": [
    "model = '../models/winners/smallest-indomain.mzn'"
   ]
  },
  {
   "cell_type": "markdown",
   "id": "c1156ed7-7a68-498c-8bfc-ddfbf2790596",
   "metadata": {},
   "source": [
    "### Solvers"
   ]
  },
  {
   "cell_type": "code",
   "execution_count": 17,
   "id": "cf73aa63-4479-4b05-857e-0441c8b50673",
   "metadata": {},
   "outputs": [
    {
     "name": "stdout",
     "output_type": "stream",
     "text": [
      "MiniZinc driver.\n",
      "Available solver configurations:\n",
      "  Chuffed 0.11.0 (org.chuffed.chuffed, cp, lcg, int)\n",
      "  COIN-BC 2.10.8/1.17.7 (org.minizinc.mip.coin-bc, mip, float, api, osicbc, coinbc, cbc)\n",
      "  CPLEX <unknown version> (org.minizinc.mip.cplex, mip, float, api)\n",
      "  findMUS 0.7.0 (org.minizinc.findmus)\n",
      "  Gecode 6.3.0 (org.gecode.gecode, default solver, cp, int, float, set, restart)\n",
      "  Gecode Gist 6.3.0 (org.gecode.gist, cp, int, float, set, restart)\n",
      "  Globalizer 0.1.7.2 (org.minizinc.globalizer, experimental, tool)\n",
      "  Gurobi <unknown version> (org.minizinc.mip.gurobi, mip, float, api)\n",
      "  HiGHS 1.4.2 (org.minizinc.mip.highs, mip, float, api, highs)\n",
      "  OR-TOOLS 9.6.0 (com.google.or-tools)\n",
      "  SCIP <unknown version> (org.minizinc.mip.scip, mip, float, api)\n",
      "  Xpress <unknown version> (org.minizinc.mip.xpress, mip, float, api)\n",
      "Search path for solver configurations:\n",
      "  C:\\Users\\juanj\\AppData\\Roaming/MiniZinc/solvers\n",
      "  C:\\Program Files\\MiniZinc\\share\\minizinc/solvers\n"
     ]
    }
   ],
   "source": [
    "!minizinc --solvers\n",
    "solvers = [\"HiGHS\", \"COIN-BC\", \"OR-TOOLS\"]"
   ]
  },
  {
   "cell_type": "markdown",
   "id": "1ec644f8-5222-46fa-ac21-020c29ace87f",
   "metadata": {},
   "source": [
    "## Calculate labels"
   ]
  },
  {
   "cell_type": "code",
   "execution_count": 18,
   "id": "1a6b9d3d-098e-43be-8246-52cb92ab803a",
   "metadata": {},
   "outputs": [],
   "source": [
    "import random\n",
    "import subprocess\n",
    "# Returns the solver who solved the model in the best way possible\n",
    "def solve_with_minizinc(instances, timeout_mzn, timeout):    \n",
    "    winner = [0] * len(instances) # 0 for HiGHS, 1 for COIN-BC\n",
    "    timeout_mzn = timeout_mzn*1000\n",
    "    \n",
    "    for i, instance in enumerate(instances):\n",
    "        mnt = float('inf')\n",
    "        time = float('inf')\n",
    "        for j, solver in enumerate(solvers):\n",
    "            # Run the minizinc command for the current model and data file  \n",
    "            cmd = f\"minizinc --solver {solver} --output-time {model} {instance} --output-time --solver-time-limit {timeout_mzn}\" \n",
    "            proc = subprocess.Popen(cmd, shell=True, stdout=subprocess.PIPE)\n",
    "            try: \n",
    "                # Get output from fzn\n",
    "                stdout, stderr = proc.communicate(timeout=timeout) \n",
    "                stdout = stdout.decode()\n",
    "                try:\n",
    "                    # Store value mnt (temp).\n",
    "                    start = stdout.find('mnt = ')+6\n",
    "                    end = stdout.find(';',start)\n",
    "                    mnt_temp = int(stdout[start:end])\n",
    "                    # Store value time (temp).\n",
    "                    time_temp = float(stdout.split(' ')[-2])\n",
    "                except:\n",
    "                    mnt_temp = float('inf')\n",
    "                    time_temp = float('inf')\n",
    "                print_green(f'{solver} with {instance} SOLVED with a value of {mnt_temp} in {time_temp:.2f} seconds.')\n",
    "\n",
    "            except subprocess.TimeoutExpired: \n",
    "                print_red(f'Error from minizinc: Stopping.')\n",
    "                mnt_temp = float('inf')\n",
    "                time_temp = float('inf')\n",
    "                if os.name == 'nt': # If the os is Windows\n",
    "                    subprocess.call(['taskkill', '/F', '/T', '/PID', str(proc.pid)]) # Force kill the process\n",
    "                else:\n",
    "                    os.killpg(os.getpgid(proc.pid), signal.SIGTERM) # Kill the process group\n",
    "\n",
    "            if mnt >= mnt_temp: # If the value is minor from the stored\n",
    "                if mnt == mnt_temp: # If the value is equal from the stored compare time\n",
    "                    if time >= time_temp: # If the value of time from minizinc is minor from the stored\n",
    "                        if time == time_temp: # If the value of time from minizinc is equal from the stored choose random\n",
    "                            winner[i] = random.randint(j-1,j)    \n",
    "                        else:\n",
    "                            mnt = mnt_temp\n",
    "                            time = time_temp\n",
    "                            winner[i] = j\n",
    "                else:\n",
    "                    mnt = mnt_temp\n",
    "                    time = time_temp\n",
    "                    winner[i] = j\n",
    "        print_yellow(str(winner[i])+\" WON!\")\n",
    "    return winner"
   ]
  },
  {
   "cell_type": "code",
   "execution_count": 24,
   "id": "0a1d4413-2425-48f2-8c06-9d3d6a68e550",
   "metadata": {},
   "outputs": [
    {
     "name": "stdout",
     "output_type": "stream",
     "text": [
      "['..\\\\instances\\\\0.dzn', '..\\\\instances\\\\1.dzn', '..\\\\instances\\\\2.dzn', '..\\\\instances\\\\3.dzn', '..\\\\instances\\\\4.dzn', '..\\\\instances\\\\5.dzn', '..\\\\instances\\\\6.dzn', '..\\\\instances\\\\7.dzn', '..\\\\instances\\\\8.dzn', '..\\\\instances\\\\9.dzn', '..\\\\instances\\\\10.dzn', '..\\\\instances\\\\11.dzn', '..\\\\instances\\\\12.dzn', '..\\\\instances\\\\13.dzn', '..\\\\instances\\\\14.dzn', '..\\\\instances\\\\15.dzn', '..\\\\instances\\\\16.dzn', '..\\\\instances\\\\17.dzn', '..\\\\instances\\\\18.dzn', '..\\\\instances\\\\19.dzn', '..\\\\instances\\\\20.dzn', '..\\\\instances\\\\21.dzn', '..\\\\instances\\\\22.dzn', '..\\\\instances\\\\23.dzn', '..\\\\instances\\\\24.dzn', '..\\\\instances\\\\25.dzn', '..\\\\instances\\\\26.dzn', '..\\\\instances\\\\27.dzn', '..\\\\instances\\\\28.dzn', '..\\\\instances\\\\29.dzn', '..\\\\instances\\\\30.dzn', '..\\\\instances\\\\31.dzn', '..\\\\instances\\\\32.dzn', '..\\\\instances\\\\33.dzn', '..\\\\instances\\\\34.dzn', '..\\\\instances\\\\35.dzn', '..\\\\instances\\\\36.dzn', '..\\\\instances\\\\37.dzn', '..\\\\instances\\\\38.dzn', '..\\\\instances\\\\39.dzn', '..\\\\instances\\\\40.dzn', '..\\\\instances\\\\41.dzn', '..\\\\instances\\\\42.dzn', '..\\\\instances\\\\43.dzn', '..\\\\instances\\\\44.dzn', '..\\\\instances\\\\45.dzn', '..\\\\instances\\\\46.dzn', '..\\\\instances\\\\47.dzn', '..\\\\instances\\\\48.dzn', '..\\\\instances\\\\49.dzn', '..\\\\instances\\\\50.dzn', '..\\\\instances\\\\51.dzn', '..\\\\instances\\\\52.dzn', '..\\\\instances\\\\53.dzn', '..\\\\instances\\\\54.dzn', '..\\\\instances\\\\55.dzn', '..\\\\instances\\\\56.dzn', '..\\\\instances\\\\57.dzn', '..\\\\instances\\\\58.dzn', '..\\\\instances\\\\59.dzn', '..\\\\instances\\\\60.dzn', '..\\\\instances\\\\61.dzn', '..\\\\instances\\\\62.dzn', '..\\\\instances\\\\63.dzn', '..\\\\instances\\\\64.dzn', '..\\\\instances\\\\65.dzn', '..\\\\instances\\\\66.dzn', '..\\\\instances\\\\67.dzn', '..\\\\instances\\\\68.dzn', '..\\\\instances\\\\69.dzn', '..\\\\instances\\\\70.dzn', '..\\\\instances\\\\71.dzn', '..\\\\instances\\\\72.dzn', '..\\\\instances\\\\73.dzn', '..\\\\instances\\\\74.dzn', '..\\\\instances\\\\75.dzn', '..\\\\instances\\\\76.dzn', '..\\\\instances\\\\77.dzn', '..\\\\instances\\\\78.dzn', '..\\\\instances\\\\79.dzn', '..\\\\instances\\\\80.dzn', '..\\\\instances\\\\81.dzn', '..\\\\instances\\\\82.dzn', '..\\\\instances\\\\83.dzn', '..\\\\instances\\\\84.dzn', '..\\\\instances\\\\85.dzn', '..\\\\instances\\\\86.dzn', '..\\\\instances\\\\87.dzn', '..\\\\instances\\\\88.dzn', '..\\\\instances\\\\89.dzn', '..\\\\instances\\\\90.dzn', '..\\\\instances\\\\91.dzn', '..\\\\instances\\\\92.dzn', '..\\\\instances\\\\93.dzn', '..\\\\instances\\\\94.dzn', '..\\\\instances\\\\95.dzn', '..\\\\instances\\\\96.dzn', '..\\\\instances\\\\97.dzn', '..\\\\instances\\\\98.dzn', '..\\\\instances\\\\99.dzn', '..\\\\instances\\\\100.dzn', '..\\\\instances\\\\101.dzn', '..\\\\instances\\\\102.dzn', '..\\\\instances\\\\103.dzn', '..\\\\instances\\\\104.dzn', '..\\\\instances\\\\105.dzn', '..\\\\instances\\\\106.dzn', '..\\\\instances\\\\107.dzn', '..\\\\instances\\\\108.dzn', '..\\\\instances\\\\109.dzn', '..\\\\instances\\\\110.dzn', '..\\\\instances\\\\111.dzn', '..\\\\instances\\\\112.dzn', '..\\\\instances\\\\113.dzn', '..\\\\instances\\\\114.dzn', '..\\\\instances\\\\115.dzn', '..\\\\instances\\\\116.dzn', '..\\\\instances\\\\117.dzn', '..\\\\instances\\\\118.dzn', '..\\\\instances\\\\119.dzn', '..\\\\instances\\\\120.dzn', '..\\\\instances\\\\121.dzn', '..\\\\instances\\\\122.dzn', '..\\\\instances\\\\123.dzn', '..\\\\instances\\\\124.dzn', '..\\\\instances\\\\125.dzn', '..\\\\instances\\\\126.dzn', '..\\\\instances\\\\127.dzn', '..\\\\instances\\\\128.dzn', '..\\\\instances\\\\129.dzn', '..\\\\instances\\\\130.dzn', '..\\\\instances\\\\131.dzn', '..\\\\instances\\\\132.dzn', '..\\\\instances\\\\133.dzn', '..\\\\instances\\\\134.dzn', '..\\\\instances\\\\135.dzn', '..\\\\instances\\\\136.dzn', '..\\\\instances\\\\137.dzn', '..\\\\instances\\\\138.dzn', '..\\\\instances\\\\139.dzn', '..\\\\instances\\\\140.dzn', '..\\\\instances\\\\141.dzn', '..\\\\instances\\\\142.dzn', '..\\\\instances\\\\143.dzn', '..\\\\instances\\\\144.dzn', '..\\\\instances\\\\145.dzn', '..\\\\instances\\\\146.dzn', '..\\\\instances\\\\147.dzn', '..\\\\instances\\\\148.dzn', '..\\\\instances\\\\149.dzn', '..\\\\instances\\\\150.dzn', '..\\\\instances\\\\151.dzn', '..\\\\instances\\\\152.dzn', '..\\\\instances\\\\153.dzn', '..\\\\instances\\\\154.dzn', '..\\\\instances\\\\155.dzn', '..\\\\instances\\\\156.dzn', '..\\\\instances\\\\157.dzn', '..\\\\instances\\\\158.dzn', '..\\\\instances\\\\159.dzn', '..\\\\instances\\\\160.dzn', '..\\\\instances\\\\161.dzn', '..\\\\instances\\\\162.dzn', '..\\\\instances\\\\163.dzn', '..\\\\instances\\\\164.dzn', '..\\\\instances\\\\165.dzn', '..\\\\instances\\\\166.dzn', '..\\\\instances\\\\167.dzn', '..\\\\instances\\\\168.dzn', '..\\\\instances\\\\169.dzn', '..\\\\instances\\\\170.dzn', '..\\\\instances\\\\171.dzn', '..\\\\instances\\\\172.dzn', '..\\\\instances\\\\173.dzn', '..\\\\instances\\\\174.dzn', '..\\\\instances\\\\175.dzn', '..\\\\instances\\\\176.dzn', '..\\\\instances\\\\177.dzn', '..\\\\instances\\\\178.dzn', '..\\\\instances\\\\179.dzn', '..\\\\instances\\\\180.dzn', '..\\\\instances\\\\181.dzn', '..\\\\instances\\\\182.dzn', '..\\\\instances\\\\183.dzn', '..\\\\instances\\\\184.dzn', '..\\\\instances\\\\185.dzn', '..\\\\instances\\\\186.dzn', '..\\\\instances\\\\187.dzn', '..\\\\instances\\\\188.dzn', '..\\\\instances\\\\189.dzn', '..\\\\instances\\\\190.dzn', '..\\\\instances\\\\191.dzn', '..\\\\instances\\\\192.dzn', '..\\\\instances\\\\193.dzn', '..\\\\instances\\\\194.dzn', '..\\\\instances\\\\195.dzn', '..\\\\instances\\\\196.dzn', '..\\\\instances\\\\197.dzn', '..\\\\instances\\\\198.dzn', '..\\\\instances\\\\199.dzn']\n"
     ]
    }
   ],
   "source": [
    "# OG : labels = solve_with_minizinc(instances_path, 10, 15)\n",
    "labels = solve_with_minizinc(instances_path, 10, 15)"
   ]
  },
  {
   "cell_type": "code",
   "execution_count": 20,
   "id": "a4831305-7be9-4cb6-9251-1c64637e1ea8",
   "metadata": {},
   "outputs": [],
   "source": [
    "path = '../instances/labels.txt'\n",
    "with open(path, 'w', encoding='utf8') as file_object:\n",
    "    file_object.write(str(labels))"
   ]
  },
  {
   "cell_type": "code",
   "execution_count": null,
   "id": "dd91c08e-d48c-4cff-9bd4-75cdd46f702c",
   "metadata": {},
   "outputs": [],
   "source": []
  },
  {
   "cell_type": "code",
   "execution_count": null,
   "id": "e9e299a1-827b-4610-b48a-17f8194de13c",
   "metadata": {},
   "outputs": [],
   "source": []
  }
 ],
 "metadata": {
  "kernelspec": {
   "display_name": "Python 3 (ipykernel)",
   "language": "python",
   "name": "python3"
  },
  "language_info": {
   "codemirror_mode": {
    "name": "ipython",
    "version": 3
   },
   "file_extension": ".py",
   "mimetype": "text/x-python",
   "name": "python",
   "nbconvert_exporter": "python",
   "pygments_lexer": "ipython3",
   "version": "3.10.9"
  }
 },
 "nbformat": 4,
 "nbformat_minor": 5
}
