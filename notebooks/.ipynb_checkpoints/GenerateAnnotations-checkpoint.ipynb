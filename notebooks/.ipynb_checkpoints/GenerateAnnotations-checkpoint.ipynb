{
 "cells": [
  {
   "cell_type": "markdown",
   "id": "2d222a51-4da4-47e7-ab5b-767283d7194b",
   "metadata": {},
   "source": [
    "# Generate Annotations\n",
    "The propuse of this notebook is generate all the 140 anotations combinations for our minizinc model"
   ]
  },
  {
   "cell_type": "markdown",
   "id": "330cf6c6-7de6-4c8a-a983-771c8218d2fd",
   "metadata": {},
   "source": [
    "## Get the model"
   ]
  },
  {
   "cell_type": "code",
   "execution_count": 2,
   "id": "1b55cfd5-9aa1-456d-9aef-ccc6d9655b94",
   "metadata": {},
   "outputs": [],
   "source": [
    "import re\n",
    "\n",
    "model = \"\"\n",
    "\n",
    "with open('../base.mzn', encoding=\"utf8\") as file_object:\n",
    "    model = file_object.read()\n",
    "\n",
    "# print(model)"
   ]
  },
  {
   "cell_type": "markdown",
   "id": "bd370fd3-e85e-4d26-bb78-e93a8166fc83",
   "metadata": {},
   "source": [
    "# Format data"
   ]
  },
  {
   "cell_type": "code",
   "execution_count": 3,
   "id": "eb83f74b-b31a-4e2a-ae41-9eaa7cbc46e8",
   "metadata": {},
   "outputs": [],
   "source": [
    "    \n",
    "begin = model[0:model.find(\"],\")+2]\n",
    "end = model[model.find(\"minimize\"):len(model)]\n",
    "\n",
    "\n",
    "# print(begin)\n",
    "# print(end)"
   ]
  },
  {
   "cell_type": "markdown",
   "id": "eb9b810c-2a41-4568-ab85-3d9690097abc",
   "metadata": {},
   "source": [
    "# Get the Annotations"
   ]
  },
  {
   "cell_type": "code",
   "execution_count": 3,
   "id": "ff67a7ea-85fd-45be-a2e0-6ae813335995",
   "metadata": {},
   "outputs": [],
   "source": [
    "variable_selection = [\"anti_first_fail\", \"dom_w_deg\", \"first_fail\", \"input_order\", \"largest\", \"max_regret\", \"most_constrained\", \"occurrence\", \"smallest\"] \n",
    "# Deprecated:  \"impact\",  \n",
    "value_choice = [\"indomain\", \"indomain_max\", \"indomain_min\", \"indomain_random\", \"indomain_reverse_split\", \"indomain_split\"] \n",
    "# Deprecated: \"indomain_split_random\", \"outdomain_max\",  \"outdomain_median\", \"outdomain_min\", \"outdomain_random\", \"indomain_interval\", \"indomain_median\", \"indomain_middle\" "
   ]
  },
  {
   "cell_type": "markdown",
   "id": "01475364-9992-4e5c-8f57-1c9342b4f885",
   "metadata": {},
   "source": [
    "# Generate the models\n",
    "`int_search( <variables>, <varchoice>, <constrainchoice> )`"
   ]
  },
  {
   "cell_type": "code",
   "execution_count": 5,
   "id": "5d62844d-1c1f-44cc-9b79-fa8b52953195",
   "metadata": {},
   "outputs": [
    {
     "name": "stdout",
     "output_type": "stream",
     "text": [
      "created: anti_first_fail indomain\n",
      "created: anti_first_fail indomain_max\n",
      "created: anti_first_fail indomain_min\n",
      "created: anti_first_fail indomain_random\n",
      "created: anti_first_fail indomain_reverse_split\n",
      "created: anti_first_fail indomain_split\n",
      "created: dom_w_deg indomain\n",
      "created: dom_w_deg indomain_max\n",
      "created: dom_w_deg indomain_min\n",
      "created: dom_w_deg indomain_random\n",
      "created: dom_w_deg indomain_reverse_split\n",
      "created: dom_w_deg indomain_split\n",
      "created: first_fail indomain\n",
      "created: first_fail indomain_max\n",
      "created: first_fail indomain_min\n",
      "created: first_fail indomain_random\n",
      "created: first_fail indomain_reverse_split\n",
      "created: first_fail indomain_split\n",
      "created: input_order indomain\n",
      "created: input_order indomain_max\n",
      "created: input_order indomain_min\n",
      "created: input_order indomain_random\n",
      "created: input_order indomain_reverse_split\n",
      "created: input_order indomain_split\n",
      "created: largest indomain\n",
      "created: largest indomain_max\n",
      "created: largest indomain_min\n",
      "created: largest indomain_random\n",
      "created: largest indomain_reverse_split\n",
      "created: largest indomain_split\n",
      "created: max_regret indomain\n",
      "created: max_regret indomain_max\n",
      "created: max_regret indomain_min\n",
      "created: max_regret indomain_random\n",
      "created: max_regret indomain_reverse_split\n",
      "created: max_regret indomain_split\n",
      "created: most_constrained indomain\n",
      "created: most_constrained indomain_max\n",
      "created: most_constrained indomain_min\n",
      "created: most_constrained indomain_random\n",
      "created: most_constrained indomain_reverse_split\n",
      "created: most_constrained indomain_split\n",
      "created: occurrence indomain\n",
      "created: occurrence indomain_max\n",
      "created: occurrence indomain_min\n",
      "created: occurrence indomain_random\n",
      "created: occurrence indomain_reverse_split\n",
      "created: occurrence indomain_split\n",
      "created: smallest indomain\n",
      "created: smallest indomain_max\n",
      "created: smallest indomain_min\n",
      "created: smallest indomain_random\n",
      "created: smallest indomain_reverse_split\n",
      "created: smallest indomain_split\n"
     ]
    }
   ],
   "source": [
    "for i in range(len(variable_selection)):\n",
    "    for j in range(len(value_choice)):\n",
    "        varchoice = variable_selection[i]\n",
    "        constrainchoice = value_choice[j]\n",
    "        path = '../models/'+varchoice+'-'+ constrainchoice+'.mzn'\n",
    "        \n",
    "        model = begin + ' ' + varchoice + ',' + constrainchoice + ')\\n' + end\n",
    "        \n",
    "        #print(model)\n",
    "        with open(path, 'w', encoding='utf8') as file_object:\n",
    "            file_object.write(model)\n",
    "        print('created:',varchoice,constrainchoice)"
   ]
  }
 ],
 "metadata": {
  "kernelspec": {
   "display_name": "Python 3 (ipykernel)",
   "language": "python",
   "name": "python3"
  },
  "language_info": {
   "codemirror_mode": {
    "name": "ipython",
    "version": 3
   },
   "file_extension": ".py",
   "mimetype": "text/x-python",
   "name": "python",
   "nbconvert_exporter": "python",
   "pygments_lexer": "ipython3",
   "version": "3.9.13"
  }
 },
 "nbformat": 4,
 "nbformat_minor": 5
}
