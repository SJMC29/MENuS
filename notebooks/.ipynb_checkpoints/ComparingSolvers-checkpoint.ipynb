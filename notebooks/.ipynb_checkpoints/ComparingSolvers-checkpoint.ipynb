{
 "cells": [
  {
   "cell_type": "code",
   "execution_count": 107,
   "id": "d2a47cd4-ba13-49a1-a84f-dbaf99c978da",
   "metadata": {
    "tags": []
   },
   "outputs": [],
   "source": [
    "def print_red(text):\n",
    "    print('\\x1b[31m' + text + '\\x1b[0m')\n",
    "    \n",
    "def print_yellow(text):\n",
    "    print('\\x1b[33m' + text + '\\x1b[0m')\n",
    "\n",
    "def print_green(text):\n",
    "    print('\\x1b[32m' + text + '\\x1b[0m')\n",
    "\n",
    "def print_pink(text):\n",
    "    print('\\x1b[35m' + text + '\\x1b[0m')\n",
    "\n",
    "def print_cyan(text):\n",
    "    print('\\x1b[36m' + text + '\\x1b[0m')"
   ]
  },
  {
   "cell_type": "code",
   "execution_count": 108,
   "id": "ab71c3b1-a7af-423d-867c-a9089c3fe9c1",
   "metadata": {
    "tags": []
   },
   "outputs": [
    {
     "name": "stdout",
     "output_type": "stream",
     "text": [
      "MiniZinc driver.\n",
      "Available solver configurations:\n",
      "  Chuffed 0.11.0 (org.chuffed.chuffed, cp, lcg, int)\n",
      "  COIN-BC 2.10.8/1.17.7 (org.minizinc.mip.coin-bc, mip, float, api, osicbc, coinbc, cbc)\n",
      "  CPLEX <unknown version> (org.minizinc.mip.cplex, mip, float, api)\n",
      "  findMUS 0.7.0 (org.minizinc.findmus)\n",
      "  Gecode 6.3.0 (org.gecode.gecode, default solver, cp, int, float, set, restart)\n",
      "  Gecode Gist 6.3.0 (org.gecode.gist, cp, int, float, set, restart)\n",
      "  Globalizer 0.1.7.2 (org.minizinc.globalizer, experimental, tool)\n",
      "  Gurobi <unknown version> (org.minizinc.mip.gurobi, mip, float, api)\n",
      "  HiGHS 1.4.2 (org.minizinc.mip.highs, mip, float, api, highs)\n",
      "  SCIP <unknown version> (org.minizinc.mip.scip, mip, float, api)\n",
      "  Xpress <unknown version> (org.minizinc.mip.xpress, mip, float, api)\n",
      "Search path for solver configurations:\n",
      "  C:\\Program Files\\MiniZinc\\share\\minizinc/solvers\n"
     ]
    }
   ],
   "source": [
    "!minizinc --solvers"
   ]
  },
  {
   "cell_type": "code",
   "execution_count": 109,
   "id": "7328d7a7-175b-406c-9cdf-9793e57f634c",
   "metadata": {
    "tags": []
   },
   "outputs": [
    {
     "name": "stdout",
     "output_type": "stream",
     "text": [
      "here grocerylist = [0, 0, 0, 0, 0, 0, 0, 0, 0, 0, 0, 0, 0, 0, 0, 0, 0, 0, 0, 0, 0, 0, 0, 0, 0, 0, 0, 0, 0, 0, 0, 0, 0, 0, 0, 0, 0, 0, 0, 0, 0, 0, 0, 0, 0, 0, 0, 0, 0, 0, 0, 0, 0, 0, 0, 0, 0, 0, 0, 0, 0, 0, 0, 0, 0, 0, 0, 1, 0, 0, 0, 0, 0, 0, 0, 0, 0, 0, 0, 0, 0, 0, 0, 0, 0, 0, 0, 0, 0, 0, 0, 0, 0, 0, 0, 0, 0, 0, 0, 0, 0, 0, 0, 0, 0, 0, 0, 0, 0, 0, 0, 0, 0, 0, 0, 0, 0, 0, 0, 0, 0, 0, 0, 0, 0, 0, 0, 0, 0, 0, 0, 0, 0, 0, 0, 0, 0, 0, 0, 0, 0, 0, 0, 0, 0, 0, 0, 0, 0, 0, 0, 0, 0, 0, 0, 0, 0, 0, 0, 0, 0, 0, 0, 0, 0, 0, 0, 2, 0, 0, 0, 0, 0, 0, 0, 0, 0, 0, 0, 0, 0, 0, 0, 0, 0, 0, 0, 0, 0, 0, 0, 0, 0, 0, 0, 0, 0, 0, 0, 0, 0, 0, 0, 0, 0, 0, 0, 0, 0, 3, 0, 0, 0, 0, 0, 0, 0, 0, 0, 0, 0, 0, 1, 0, 0, 0, 0, 0, 0, 0, 0, 0, 0, 0, 0, 0, 0, 0, 0, 0, 0, 0, 3, 0, 0, 0, 0, 0, 0, 0, 0, 0, 0, 0, 0, 3, 0, 0, 0, 0, 0, 0, 0, 0, 0, 0, 0, 0, 0, 0, 0, 0, 0, 0, 0, 0, 0, 0, 0, 0, 0, 0, 0, 0, 0, 0, 0, 0, 0, 0, 0, 0, 0, 0, 0, 0, 0, 0, 0, 0, 0, 0, 0, 0, 0, 0, 0, 0, 0, 0, 0, 0, 0, 0, 0, 0, 0, 0, 0, 0, 0, 0, 0, 0, 0, 0, 0, 0, 0, 0, 0, 0, 0, 0, 0, 0, 0, 0, 0, 0, 0, 0, 0, 0, 0, 0, 0, 0, 0, 0, 0, 0, 0, 0, 0, 0, 0, 0, 0, 0, 0, 0, 0, 0, 0, 0, 0, 0, 0, 0, 0, 0, 0, 0, 0, 0, 0, 0, 0, 0, 0, 0, 0, 0, 0, 0, 0, 0, 0, 0, 0, 0, 0, 0, 0, 0, 0, 0, 0, 0, 0, 0, 0, 0, 0, 0, 0, 0, 0, 0, 0, 0, 0, 0, 0, 0, 0, 0, 0, 0, 0, 0, 0, 0, 0, 0, 0, 0, 0, 0, 0, 0, 0, 0];\n",
      "acumprice = 12088;\n",
      "totalItems = 13;\n",
      "protein = 1093;\n",
      "carbo = 6086;\n",
      "fat = 1781;\n",
      "lackPro = 47;\n",
      "lackCar = 0;\n",
      "lackFat = 0;\n",
      "excessPro = 0;\n",
      "excessCar = 0;\n",
      "excessFat = 0;\n",
      "mnt = 40;\n",
      "% time elapsed: 1.46 s\n",
      "----------\n",
      "==========\n",
      "% time elapsed: 1.46 s\n",
      "\n",
      "\u001b[32mHiGHS with ../instances\\83.dzn SOLVED with a value of 40 in 1.46 seconds.\u001b[0m\n",
      "here \n",
      "\u001b[32mCOIN-BC with ../instances\\83.dzn SOLVED with a value of inf in inf seconds.\u001b[0m\n",
      "\u001b[33m0 WON!\u001b[0m\n"
     ]
    }
   ],
   "source": [
    "import os \n",
    "import subprocess\n",
    "import random\n",
    "\n",
    "instances_folder = '../instances'\n",
    "instances = [os.path.join(instances_folder, f) for f in os.listdir(instances_folder) if f.endswith('.dzn')][82:83]\n",
    "# Remember, you are missing the stastic sample, calculate this number using len(instances)\n",
    "\n",
    "model = '../models/winners/smallest-indomain.mzn'\n",
    "\n",
    "solvers = [\"HiGHS\", \"COIN-BC\"]\n",
    "winner = [0] * len(instances) # 0 for HiGHS, 1 for COIN-BC\n",
    "\n",
    "timeout = 25\n",
    "timeout_mzn = 20*1000\n",
    "\n",
    "# instances\n",
    "for i, instance in enumerate(instances):\n",
    "    mnt = float('inf')\n",
    "    time = float('inf')\n",
    "    for j, solver in enumerate(solvers):\n",
    "        # Run the minizinc command for the current model and data file  \n",
    "        cmd = f\"minizinc --solver {solver} --output-time {model} {instance} --output-time --solver-time-limit {timeout_mzn}\" \n",
    "        proc = subprocess.Popen(cmd, shell=True, stdout=subprocess.PIPE)\n",
    "        try: \n",
    "            # Get output from fzn\n",
    "            stdout, stderr = proc.communicate(timeout=timeout) \n",
    "            stdout = stdout.decode()\n",
    "            try:\n",
    "                # Store value mnt (temp).\n",
    "                start = stdout.find('mnt = ')+6\n",
    "                end = stdout.find(';',start)\n",
    "                mnt_temp = int(stdout[start:end])\n",
    "                # Store value time (temp).\n",
    "                time_temp = float(stdout.split(' ')[-2])\n",
    "            except:\n",
    "                mnt_temp = float('inf')\n",
    "                time_temp = float('inf')\n",
    "            print_green(f'{solver} with {instance} SOLVED with a value of {mnt_temp} in {time_temp:.2f} seconds.')\n",
    "            \n",
    "        except subprocess.TimeoutExpired: \n",
    "            print_red(f'Error from minizinc: Stopping.')\n",
    "            mnt_temp = float('inf')\n",
    "            time_temp = float('inf')\n",
    "            if os.name == 'nt': # If the os is Windows\n",
    "                subprocess.call(['taskkill', '/F', '/T', '/PID', str(proc.pid)]) # Force kill the process\n",
    "            else:\n",
    "                os.killpg(os.getpgid(proc.pid), signal.SIGTERM) # Kill the process group\n",
    "        \n",
    "        if mnt >= mnt_temp: # If the value is minor from the stored\n",
    "            if mnt == mnt_temp: # If the value is equal from the stored compare time\n",
    "                if time >= time_temp: # If the value of time from minizinc is minor from the stored\n",
    "                    if time == time_temp: # If the value of time from minizinc is equal from the stored choose random\n",
    "                        winner[i] = random.randint(j-1,j)    \n",
    "                    else:\n",
    "                        mnt = mnt_temp\n",
    "                        time = time_temp\n",
    "                        winner[i] = j\n",
    "            else:\n",
    "                mnt = mnt_temp\n",
    "                time = time_temp\n",
    "                winner[i] = j\n",
    "    print_yellow(str(winner[i])+\" WON!\")"
   ]
  },
  {
   "cell_type": "code",
   "execution_count": 110,
   "id": "b35291b1-bf0a-4a92-909f-8bb67b662fad",
   "metadata": {},
   "outputs": [
    {
     "name": "stdout",
     "output_type": "stream",
     "text": [
      "[0]\n"
     ]
    }
   ],
   "source": [
    "print(winner)"
   ]
  },
  {
   "cell_type": "markdown",
   "id": "48b37ba2-c265-4783-b649-5b6d72fe7d15",
   "metadata": {},
   "source": [
    "## ANALISIS"
   ]
  },
  {
   "cell_type": "code",
   "execution_count": null,
   "id": "9180dd04-f617-4567-9ca1-997d9c9752dd",
   "metadata": {},
   "outputs": [],
   "source": []
  }
 ],
 "metadata": {
  "kernelspec": {
   "display_name": "MENuS",
   "language": "python",
   "name": "menus"
  },
  "language_info": {
   "codemirror_mode": {
    "name": "ipython",
    "version": 3
   },
   "file_extension": ".py",
   "mimetype": "text/x-python",
   "name": "python",
   "nbconvert_exporter": "python",
   "pygments_lexer": "ipython3",
   "version": "3.10.9"
  }
 },
 "nbformat": 4,
 "nbformat_minor": 5
}
