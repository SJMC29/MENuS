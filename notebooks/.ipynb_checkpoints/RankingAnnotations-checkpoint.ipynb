{
 "cells": [
  {
   "cell_type": "markdown",
   "id": "227290c0-22c8-4ef7-be0d-6d84baca13e4",
   "metadata": {},
   "source": [
    "# Timer"
   ]
  },
  {
   "cell_type": "code",
   "execution_count": null,
   "id": "b943b2c6-6d9c-4154-a202-0386277f4c09",
   "metadata": {
    "tags": []
   },
   "outputs": [],
   "source": [
    "\"\"\"import time  \n",
    "import os   \n",
    "import subprocess \n",
    "import random\n",
    "\n",
    "timeout = 3    \n",
    "models_folder = '../models'  \n",
    "models = [os.path.join(models_folder, f) for f in os.listdir(models_folder) if f.endswith('.mzn')]\n",
    "random.shuffle(models)\n",
    "instances_folder = '../instances'  \n",
    "instances = [os.path.join(instances_folder, f) for f in os.listdir(instances_folder) if f.endswith('.dzn')] \n",
    "times = []\n",
    " \n",
    "for model in models:  \n",
    "    for instance in instances:  \n",
    "        start_time = time.time()  \n",
    "        # Run the minizinc command for the current model and data file  \n",
    "        cmd = f\"minizinc --solver Gecode --output-time {model} {instance}\" \n",
    "        proc = subprocess.Popen(cmd, shell=True)\n",
    "        try: \n",
    "            result = proc.wait(timeout=timeout)  \n",
    "            elapsed_time = time.time() - start_time  \n",
    "            print(f'{model} with {instance} SOLVED in {elapsed_time:.2f} seconds.')\n",
    "            times.append(elapsed_time)\n",
    "        except subprocess.TimeoutExpired: \n",
    "            print(f'{model} with {instance} TIMED OUT after {timeout} seconds.')\n",
    "            times.append(timeout)\n",
    "        finally:\n",
    "            proc.terminate()\n",
    "print(\"----FINISHED----\")\n",
    "\"\"\"\n",
    "import time  \n",
    "import os   \n",
    "import subprocess \n",
    "import random\n",
    "\n",
    "timeout = 3    \n",
    "models_folder = '../models'  \n",
    "models = [os.path.join(models_folder, f) for f in os.listdir(models_folder) if f.endswith('.mzn')]\n",
    "random.shuffle(models)\n",
    "instances_folder = '../instances'  \n",
    "instances = [os.path.join(instances_folder, f) for f in os.listdir(instances_folder) if f.endswith('.dzn')] \n",
    "times = []\n",
    " \n",
    "for model in models:  \n",
    "    for instance in instances:  \n",
    "        start_time = time.time()  \n",
    "        # Run the minizinc command for the current model and data file  \n",
    "        cmd = f\"minizinc --solver Gecode --output-time {model} {instance}\" \n",
    "        proc = subprocess.Popen(cmd, shell=True)\n",
    "        try: \n",
    "            result = proc.wait(timeout=timeout)  \n",
    "            elapsed_time = time.time() - start_time  \n",
    "            print(f'{model} with {instance} SOLVED in {elapsed_time:.2f} seconds.')\n",
    "            times.append(elapsed_time)\n",
    "        except subprocess.TimeoutExpired: \n",
    "            print(f'{model} with {instance} TIMED OUT after {timeout} seconds.')\n",
    "            times.append(timeout)\n",
    "            if os.name == 'nt': # Windows\n",
    "                subprocess.call(['taskkill', '/F', '/T', '/PID', str(proc.pid)]) # Force kill the process\n",
    "            else:\n",
    "                os.killpg(os.getpgid(proc.pid), signal.SIGTERM) # Kill the process group\n",
    "\n",
    "print(\"----FINISHED----\")\n",
    "\n"
   ]
  },
  {
   "cell_type": "code",
   "execution_count": null,
   "id": "b8b5ff73-09c2-41ae-b4ff-eb328bda9ecb",
   "metadata": {
    "tags": []
   },
   "outputs": [],
   "source": [
    "# importing the necessary libraries and modules \n",
    "import matplotlib.pyplot as plt \n",
    "   \n",
    "models = [model for i, model in enumerate(models) if times[i] < timeout] \n",
    "# Remove \"../models/\" and \".mzn\" \n",
    "models = [model.replace(\"../models/\", \"\").replace(\".mzn\", \"\") for model in models]\n",
    "times = [time for time in times if time < timeout]\n",
    "    \n",
    "# using the pyplot.barh funtion for the horizontal bar \n",
    "plt.barh(models,times)\n",
    "\n",
    "# to show our graph \n",
    "plt.show()"
   ]
  },
  {
   "cell_type": "code",
   "execution_count": null,
   "id": "748e8a9a-0289-4882-87dc-3493c0d015a6",
   "metadata": {},
   "outputs": [],
   "source": [
    "import psutil\n",
    "\n",
    "for proc in psutil.process_iter(['pid', 'name', 'username']):\n",
    "    try:\n",
    "        pinfo = proc.as_dict(attrs=['pid', 'name', 'username'])\n",
    "        if 'jupyter' in pinfo['name']:\n",
    "            print(pinfo)\n",
    "    except (psutil.NoSuchProcess, psutil.AccessDenied, psutil.ZombieProcess):\n",
    "        pass\n"
   ]
  },
  {
   "cell_type": "code",
   "execution_count": null,
   "id": "b5c1ac6e-e942-4f45-81ff-8f37a6ea40c9",
   "metadata": {},
   "outputs": [],
   "source": []
  }
 ],
 "metadata": {
  "kernelspec": {
   "display_name": "MENuS",
   "language": "python",
   "name": "menus"
  },
  "language_info": {
   "codemirror_mode": {
    "name": "ipython",
    "version": 3
   },
   "file_extension": ".py",
   "mimetype": "text/x-python",
   "name": "python",
   "nbconvert_exporter": "python",
   "pygments_lexer": "ipython3",
   "version": "3.10.9"
  }
 },
 "nbformat": 4,
 "nbformat_minor": 5
}
