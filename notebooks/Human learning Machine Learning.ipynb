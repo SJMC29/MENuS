{
 "cells": [
  {
   "cell_type": "markdown",
   "id": "991121f8",
   "metadata": {},
   "source": [
    "# MENuS\n",
    "## Using Machine Learning to select the best algorithm\n",
    "* Define the features.\n",
    "* Include the ingredients generator.\n",
    "    * Generate an Instance of Ingredients list.\n",
    "* Finish the model.\n",
    "* Use minizinc from python.\n",
    "    * Run it with 3 Algorithms.\n",
    "    * Add the Instance to the Instances List.\n",
    "    * Add the time it takes for each Algorithm to the Time Execution Matrix.\n",
    "    * Transform the Instances List into the Features Array.\n",
    "    * Travel through the Time Execution Matrix and pick the Algorithms with faster results for each Instance.\n",
    "    * The Algorithm with the fastest result will be added to the Labels list.\n",
    "\n",
    "|  | Alg1 | Alg2 | Alg3 |\n",
    "| --- | --- | --- | --- |\n",
    "| Ins1 | X | Y | Z |\n",
    "| Ins2 | X | Y | Z |\n",
    "| Ins3 | X | Y | Z |\n",
    "   \n",
    "* Transform the ingredients list into the dataset for machine learning.\n",
    "    * Create the Ingredients list.\n",
    "    * Test with the minizinc model, all the Alg = 3 -> minizinc(300).\n",
    "    * Take and transform the one that takes less time.\n",
    "* Training the AI. Split dataset, 70% for training and 30% for prediction, at least 80% accuracy expected. \n",
    "----------------------------------------------------------------------------------------------------------"
   ]
  },
  {
   "cell_type": "markdown",
   "id": "3157e4ec-f829-4580-8d79-9e6e85dc239c",
   "metadata": {
    "tags": []
   },
   "source": [
    "### Auxiliar Functions"
   ]
  },
  {
   "cell_type": "code",
   "execution_count": 48,
   "id": "4a7ddcc8-d830-4df2-a339-a26989dc6d01",
   "metadata": {
    "tags": []
   },
   "outputs": [],
   "source": [
    "def print_red(text):\n",
    "    print('\\x1b[31m' + text + '\\x1b[0m')\n",
    "    \n",
    "def print_yellow(text):\n",
    "    print('\\x1b[33m' + text + '\\x1b[0m')\n",
    "\n",
    "def print_green(text):\n",
    "    print('\\x1b[32m' + text + '\\x1b[0m')\n",
    "\n",
    "def print_pink(text):\n",
    "    print('\\x1b[35m' + text + '\\x1b[0m')\n",
    "\n",
    "def print_cyan(text):\n",
    "    print('\\x1b[36m' + text + '\\x1b[0m')"
   ]
  },
  {
   "cell_type": "code",
   "execution_count": 49,
   "id": "48ef1087-7694-4e9f-80ed-1494f7d5473f",
   "metadata": {},
   "outputs": [
    {
     "name": "stdout",
     "output_type": "stream",
     "text": [
      "n = 10;\n",
      "budget = 200000;\n",
      "groceries = [|2947,84,196,203,186,1900|1413,252,81,9,196,1752|2728,40,120,232,122,3507|2934,126,324,126,114,800|1393,7,231,49,60,2762|1710,75,60,130,89,3185|3008,120,200,192,184,3337|4293,81,324,297,87,3213|2510,50,15,250,160,3172|2328,48,156,168,53,1036|];\n",
      "requirements = [|5860,6776|152,202|800,880|228,272|];\n"
     ]
    }
   ],
   "source": [
    "import os   \n",
    "import re\n",
    "\n",
    "instances_folder = '../instances'  \n",
    "instances = [os.path.join(instances_folder, f) for f in os.listdir(instances_folder) if f.endswith('.dzn')]\n",
    "for i in range(len(instances)):\n",
    "    with open(instances[i], encoding=\"utf8\") as file_object:\n",
    "        instances[i] = file_object.read()\n",
    "\n",
    "print(instances[0])"
   ]
  },
  {
   "cell_type": "markdown",
   "id": "9c199d6f",
   "metadata": {},
   "source": [
    "## Get the data\n",
    "### Ingredients List\n",
    "The instances have been generated using the notebook: Generate Instance.ipynb"
   ]
  },
  {
   "cell_type": "code",
   "execution_count": 50,
   "id": "1087b2d4",
   "metadata": {},
   "outputs": [],
   "source": [
    "import os\n",
    "import subprocess \n",
    "import re\n",
    "\n",
    "instances_folder = '..\\instances'\n",
    "instances = [os.path.join(instances_folder, f) for f in os.listdir(instances_folder) if f.endswith('.dzn')]\n",
    "il = []\n",
    "for i in range(len(instances)):\n",
    "    with open(instances[i], encoding=\"utf8\") as file_object:\n",
    "        il.append(file_object.read())\n",
    "#print(instances[0])\n",
    "#print(il[0])"
   ]
  },
  {
   "cell_type": "markdown",
   "id": "1e4f2a2f-7bfe-4eb2-9b82-5d5d5067f410",
   "metadata": {},
   "source": [
    "### Models with annotations\n",
    "The models have been generated using the notebook: GenerateAnnotations.ipynb"
   ]
  },
  {
   "cell_type": "code",
   "execution_count": 51,
   "id": "5685c50e-8b65-49cb-b814-2b492d0d6442",
   "metadata": {},
   "outputs": [],
   "source": [
    "instances_folder = '..\\models'\n",
    "model_1 = instances_folder+'\\\\first_fail-indomain.mzn'\n",
    "model_2 = instances_folder+'\\\\anti_first_fail-indomain.mzn'\n",
    "model_3 = instances_folder+'\\\\smallest-indomain.mzn'"
   ]
  },
  {
   "cell_type": "markdown",
   "id": "fadad751",
   "metadata": {},
   "source": [
    "# Create Features and Labels"
   ]
  },
  {
   "cell_type": "code",
   "execution_count": 52,
   "id": "18b6e5cf",
   "metadata": {
    "scrolled": true
   },
   "outputs": [],
   "source": [
    "import numpy as np\n",
    "\n",
    "#-MINIZINC---------------------------------\n",
    "n_inst=len(il)\n",
    "#ingredient_size=5\n",
    "tem = np.zeros((n_inst, 3))\n",
    "#-MACHINE LEARNING-------------------------\n",
    "q_features = 40\n",
    "features = np.zeros((n_inst, q_features))\n",
    "labels = np.zeros((n_inst), dtype=int)\n",
    "#------------------------------------------\n",
    "\n",
    "# Run Model-Annotation with Instance: Returns the Time Execution\n",
    "def solve_with_minizinc(model, instance):\n",
    "    timeout = 3\n",
    "    # Run the minizinc command for the current model and data file  \n",
    "    cmd = f\"minizinc --solver Gecode --output-time {model} {instance}\" \n",
    "    proc = subprocess.Popen(cmd, shell=True, stdout=subprocess.PIPE)\n",
    "    try: \n",
    "        # Get output from fzn\n",
    "        stdout, stderr = proc.communicate(timeout=timeout)\n",
    "        elapsed_time = float(stdout.decode().split(' ')[-2])\n",
    "\n",
    "        # print_green(f'{model} with {instance} SOLVED in {elapsed_time:.2f} seconds.')\n",
    "        # times.append(elapsed_time)\n",
    "        return elapsed_time\n",
    "    except subprocess.TimeoutExpired: \n",
    "        # print_red(f'{model} with {instance} TIMED OUT after {timeout} seconds.')\n",
    "        # times.append(timeout)\n",
    "        if os.name == 'nt': # If the os is Windows\n",
    "            subprocess.call(['taskkill', '/F', '/T', '/PID', str(proc.pid)]) # Force kill the process\n",
    "        else:\n",
    "            os.killpg(os.getpgid(proc.pid), signal.SIGTERM) # Kill the process group\n",
    "        return timeout\n",
    "    \n",
    "# Create Time Execution Matrix:\n",
    "def create_TEM(n):\n",
    "    for i in range(n):\n",
    "        # Here there should be the Minizinc Time results.\n",
    "        tem[i, 0] = solve_with_minizinc(model_1, instances[i])\n",
    "        tem[i, 1] = solve_with_minizinc(model_2, instances[i])\n",
    "        tem[i, 2] = solve_with_minizinc(model_3, instances[i])\n",
    "        print(\"it\",i)\n",
    "    print(\"\\nUpdated [tem].\\n\",tem)"
   ]
  },
  {
   "cell_type": "code",
   "execution_count": 53,
   "id": "8b079165",
   "metadata": {
    "tags": []
   },
   "outputs": [
    {
     "name": "stdout",
     "output_type": "stream",
     "text": [
      "it 0\n",
      "it 1\n",
      "it 2\n",
      "it 3\n",
      "it 4\n",
      "it 5\n",
      "it 6\n",
      "it 7\n",
      "it 8\n",
      "it 9\n",
      "\n",
      "Updated [tem].\n",
      " [[3. 3. 3.]\n",
      " [3. 3. 3.]\n",
      " [3. 3. 3.]\n",
      " [3. 3. 3.]\n",
      " [3. 3. 3.]\n",
      " [3. 3. 3.]\n",
      " [3. 3. 3.]\n",
      " [3. 3. 3.]\n",
      " [3. 3. 3.]\n",
      " [3. 3. 3.]]\n",
      "[[3. 3. 3.]\n",
      " [3. 3. 3.]\n",
      " [3. 3. 3.]\n",
      " [3. 3. 3.]\n",
      " [3. 3. 3.]\n",
      " [3. 3. 3.]\n",
      " [3. 3. 3.]\n",
      " [3. 3. 3.]\n",
      " [3. 3. 3.]\n",
      " [3. 3. 3.]]\n"
     ]
    }
   ],
   "source": [
    "#create_IL(n_inst,ingredient_size)\n",
    "create_TEM(n_inst)\n",
    "print(tem)"
   ]
  },
  {
   "cell_type": "code",
   "execution_count": 54,
   "id": "ca092789",
   "metadata": {},
   "outputs": [
    {
     "name": "stdout",
     "output_type": "stream",
     "text": [
      "[[2947, 84, 196, 203, 186, 1900], [1413, 252, 81, 9, 196, 1752], [2728, 40, 120, 232, 122, 3507], [2934, 126, 324, 126, 114, 800], [1393, 7, 231, 49, 60, 2762], [1710, 75, 60, 130, 89, 3185], [3008, 120, 200, 192, 184, 3337], [4293, 81, 324, 297, 87, 3213], [2510, 50, 15, 250, 160, 3172], [2328, 48, 156, 168, 53, 1036]]\n",
      "[[3015, 153, 135, 207, 52, 2976], [3030, 100, 230, 190, 87, 3302], [1470, 130, 35, 90, 153, 3142], [2445, 150, 135, 145, 154, 2829], [4923, 45, 639, 243, 186, 3973], [2408, 70, 91, 196, 87, 1865], [2912, 14, 336, 168, 75, 2880], [1820, 35, 357, 28, 89, 1583], [1165, 75, 25, 85, 99, 1642], [2034, 24, 120, 162, 93, 1449], [6390, 80, 190, 590, 132, 2556], [4842, 66, 186, 426, 199, 2036], [1370, 75, 20, 110, 156, 1799]]\n",
      "[[2828, 168, 224, 140, 116, 1423], [2604, 14, 196, 196, 179, 2398], [384, 18, 24, 24, 167, 3347], [3380, 90, 260, 220, 53, 2242], [4360, 30, 610, 200, 132, 3126], [1855, 35, 260, 75, 153, 3665], [3440, 65, 120, 300, 58, 1868], [1744, 80, 248, 48, 197, 3670], [3712, 8, 272, 288, 140, 2818], [1925, 75, 170, 105, 94, 2658], [3184, 96, 232, 208, 64, 3442]]\n",
      "[[2640, 112, 224, 144, 121, 1894], [1880, 170, 30, 120, 182, 937], [1212, 150, 18, 60, 142, 1048], [3339, 45, 243, 243, 95, 2599], [2336, 56, 168, 160, 188, 3725], [2250, 60, 390, 50, 53, 1802], [2808, 112, 536, 24, 151, 2792], [2112, 96, 216, 96, 126, 3243], [8440, 90, 310, 760, 115, 3540], [2300, 40, 175, 160, 78, 2954], [2180, 50, 270, 100, 174, 3190], [2979, 45, 234, 207, 71, 834], [2984, 120, 176, 200, 111, 3972]]\n",
      "[[1611, 36, 144, 99, 140, 3215], [2457, 203, 112, 133, 92, 3963], [2800, 210, 175, 140, 77, 2855], [3152, 56, 192, 240, 101, 844], [3880, 100, 600, 120, 181, 3061], [575, 50, 15, 35, 140, 3681], [2395, 5, 110, 215, 178, 3468], [5040, 117, 171, 432, 79, 1562], [5075, 84, 161, 455, 132, 3143], [1855, 30, 130, 135, 183, 2016]]\n",
      "[[2055, 85, 170, 115, 71, 1577], [1360, 95, 110, 60, 170, 1799], [1500, 72, 114, 84, 52, 3049], [1020, 60, 105, 40, 91, 821], [1305, 27, 117, 81, 171, 3601], [468, 42, 48, 12, 84, 3338], [1624, 7, 84, 140, 77, 1992], [2552, 32, 480, 56, 102, 2787], [2990, 80, 150, 230, 121, 1886], [4905, 117, 36, 477, 92, 3775], [6288, 72, 168, 592, 123, 2558], [6660, 20, 340, 580, 73, 2480], [2860, 130, 180, 180, 73, 2970]]\n",
      "[[1808, 112, 232, 48, 62, 1574], [1040, 24, 56, 80, 120, 2320], [2259, 243, 180, 63, 199, 1349], [3000, 90, 210, 200, 105, 2296], [1053, 54, 27, 81, 74, 3125], [4179, 98, 490, 203, 58, 2686], [1407, 7, 77, 119, 87, 2525], [1296, 24, 138, 72, 115, 914], [7100, 30, 80, 740, 156, 3022], [7190, 60, 50, 750, 162, 2089], [4968, 32, 40, 520, 63, 2786], [4060, 120, 130, 340, 162, 3858]]\n",
      "[[1816, 104, 224, 56, 93, 2566], [2984, 120, 104, 232, 55, 3379], [2562, 28, 203, 182, 191, 2492], [2296, 56, 140, 168, 108, 942], [2472, 48, 264, 136, 93, 1654], [3528, 7, 434, 196, 178, 2937], [4060, 60, 10, 420, 171, 1902], [2705, 65, 15, 265, 165, 3577], [4208, 16, 136, 400, 56, 1059], [472, 16, 48, 24, 179, 1914]]\n",
      "[[3528, 216, 216, 200, 126, 3982], [3890, 200, 300, 210, 133, 2174], [1110, 15, 105, 70, 118, 1292], [2480, 70, 325, 100, 171, 2282], [4113, 108, 414, 225, 194, 3478], [1812, 66, 198, 84, 130, 1807], [4356, 72, 126, 396, 141, 1056], [3969, 105, 210, 301, 73, 3758], [3760, 5, 80, 380, 94, 3690], [4930, 20, 740, 210, 109, 2589]]\n",
      "[[1900, 40, 210, 100, 95, 1446], [1284, 96, 144, 36, 130, 3777], [2611, 105, 154, 175, 119, 3167], [1872, 135, 90, 108, 183, 869], [1115, 35, 75, 75, 183, 3046], [1330, 35, 95, 90, 54, 2870], [1674, 66, 150, 90, 195, 3197], [830, 45, 50, 50, 155, 954], [2760, 30, 300, 160, 83, 1611], [3608, 8, 48, 376, 150, 3366], [1720, 60, 280, 40, 126, 838], [2933, 56, 252, 189, 91, 2297]]\n"
     ]
    }
   ],
   "source": [
    "def get_groceries(g_array):\n",
    "    data_groceries = []\n",
    "    for i in range(0, len(g_array)):\n",
    "        loop_groceries = g_array[i].split(\"groceries = [|\")\n",
    "        loop_groceries = loop_groceries[1].split(\"|];\\nrequirements\")\n",
    "        loop_groceries = loop_groceries[0].split(\"|\")\n",
    "        \n",
    "        for j in range(0, len(loop_groceries)):\n",
    "            # Conversion from String to Int Array.\n",
    "            loop_groceries[j] = [int(x) for x in loop_groceries[j].split(\",\")]\n",
    "            \n",
    "        data_groceries = data_groceries + [np.array(loop_groceries)]\n",
    "    return data_groceries\n",
    "\n",
    "np_groceries = get_groceries(il)\n",
    "\n",
    "def create_features(inst_array):\n",
    "    for i in range(0,n_inst):\n",
    "        # features: i in the left represents an Instance; 0,1... in the right represents a Feature.\n",
    "        # np_groceries: i in the left represents an Instance; \":\" represents all rows; 0,1... in the right represents a Macronutrient Column.\n",
    "        # 0: Calories. 1: Protein. 2: Carbo. 3: Fat. 4: Quantity. 5: Price.\n",
    "        features[i,0] = np.mean(np_groceries[i][:,0])\n",
    "        features[i,1] = np.median(np_groceries[i][:,0])\n",
    "        features[i,2] = np.std(np_groceries[i][:,0])\n",
    "        features[i,3] = np.var(np_groceries[i][:,0])\n",
    "        features[i,4] = np.min(np_groceries[i][:,0])\n",
    "        features[i,5] = np.max(np_groceries[i][:,0])\n",
    "        features[i,6] = np.argmin(np_groceries[i][:,0])\n",
    "        features[i,7] = np.argmax(np_groceries[i][:,0])\n",
    "        features[i,8] = np.percentile(np_groceries[i][:,0],25)\n",
    "        features[i,9] = np.percentile(np_groceries[i][:,0],75)\n",
    "        #----------------------------------------------------\n",
    "        features[i,10] = np.mean(np_groceries[i][:,1])\n",
    "        features[i,11] = np.median(np_groceries[i][:,1])\n",
    "        features[i,12] = np.std(np_groceries[i][:,1])\n",
    "        features[i,13] = np.var(np_groceries[i][:,1])\n",
    "        features[i,14] = np.min(np_groceries[i][:,1])\n",
    "        features[i,15] = np.max(np_groceries[i][:,1])\n",
    "        features[i,16] = np.argmin(np_groceries[i][:,1])\n",
    "        features[i,17] = np.argmax(np_groceries[i][:,1])\n",
    "        features[i,18] = np.percentile(np_groceries[i][:,1],25)\n",
    "        features[i,19] = np.percentile(np_groceries[i][:,1],75)\n",
    "        #----------------------------------------------------\n",
    "        features[i,20] = np.mean(np_groceries[i][:,2])\n",
    "        features[i,21] = np.median(np_groceries[i][:,2])\n",
    "        features[i,22] = np.std(np_groceries[i][:,2])\n",
    "        features[i,23] = np.var(np_groceries[i][:,2])\n",
    "        features[i,24] = np.min(np_groceries[i][:,2])\n",
    "        features[i,25] = np.max(np_groceries[i][:,2])\n",
    "        features[i,26] = np.argmin(np_groceries[i][:,2])\n",
    "        features[i,27] = np.argmax(np_groceries[i][:,2])\n",
    "        features[i,28] = np.percentile(np_groceries[i][:,2],25)\n",
    "        features[i,29] = np.percentile(np_groceries[i][:,2],75)                \n",
    "        #----------------------------------------------------\n",
    "        features[i,30] = np.mean(np_groceries[i][:,3])\n",
    "        features[i,31] = np.median(np_groceries[i][:,3])\n",
    "        features[i,32] = np.std(np_groceries[i][:,3])\n",
    "        features[i,33] = np.var(np_groceries[i][:,3])\n",
    "        features[i,34] = np.min(np_groceries[i][:,3])\n",
    "        features[i,35] = np.max(np_groceries[i][:,3])\n",
    "        features[i,36] = np.argmin(np_groceries[i][:,3])\n",
    "        features[i,37] = np.argmax(np_groceries[i][:,3])\n",
    "        features[i,38] = np.percentile(np_groceries[i][:,3],25)\n",
    "        features[i,39] = np.percentile(np_groceries[i][:,3],75) \n",
    "\n",
    "create_features(np_groceries)"
   ]
  },
  {
   "cell_type": "code",
   "execution_count": 55,
   "id": "48481cba",
   "metadata": {},
   "outputs": [],
   "source": [
    "import random\n",
    "\n",
    "def create_labels(n,m):\n",
    "    for i in range(0,n):\n",
    "        min_indices = np.where(m[i] == np.min(m[i]))[0]\n",
    "        chosen_index = random.choice(min_indices)\n",
    "        labels[i] = chosen_index + 1\n",
    "\n",
    "    \n",
    "create_labels(n_inst, tem)"
   ]
  },
  {
   "cell_type": "code",
   "execution_count": 56,
   "id": "324167d1",
   "metadata": {
    "scrolled": true,
    "tags": []
   },
   "outputs": [
    {
     "name": "stdout",
     "output_type": "stream",
     "text": [
      "Accuracy: 0.0\n"
     ]
    }
   ],
   "source": [
    "X = features # Features\n",
    "y = labels # Labels\n",
    "\n",
    "# Normalize the data to have zero mean and unit variance\n",
    "mean = np.mean(X, axis=0)\n",
    "std = np.std(X, axis=0)\n",
    "X = np.where(std == 0, 0, (X - mean) / std)\n",
    "\n",
    "# Split the data into training and testing sets\n",
    "from sklearn.model_selection import train_test_split\n",
    "X_train, X_test, y_train, y_test = train_test_split(X, y, test_size=0.2)\n",
    "\n",
    "# Train a machine learning model on the training set\n",
    "from sklearn.linear_model import LogisticRegression\n",
    "model = LogisticRegression()\n",
    "model.fit(X_train, y_train)\n",
    "\n",
    "# Evaluate the model on the testing set\n",
    "accuracy = model.score(X_test, y_test)\n",
    "print('Accuracy:', accuracy)"
   ]
  },
  {
   "cell_type": "code",
   "execution_count": 57,
   "id": "80f816f2-7127-493f-8f8a-5924e91ad0ca",
   "metadata": {
    "tags": []
   },
   "outputs": [
    {
     "name": "stdout",
     "output_type": "stream",
     "text": [
      "Accuracy: 0.0\n"
     ]
    }
   ],
   "source": [
    "# Train a machine learning model on the training set\n",
    "from sklearn.ensemble import RandomForestClassifier\n",
    "model = RandomForestClassifier(max_depth=10, random_state=0)\n",
    "model.fit(X_train, y_train)\n",
    "\n",
    "# Evaluate the model on the testing set\n",
    "accuracy = model.score(X_test, y_test)\n",
    "print('Accuracy:', accuracy)"
   ]
  },
  {
   "cell_type": "code",
   "execution_count": 58,
   "id": "f374d0d2-1de8-4a37-a733-96462d7ba210",
   "metadata": {},
   "outputs": [
    {
     "name": "stdout",
     "output_type": "stream",
     "text": [
      "[1 2 3]\n",
      "[4 2 2]\n"
     ]
    }
   ],
   "source": [
    "unique, counts = np.unique(y_train, return_counts=True)\n",
    "print(unique)\n",
    "print(counts)\n"
   ]
  },
  {
   "cell_type": "code",
   "execution_count": null,
   "id": "51556304-95c9-43a2-8db9-4079e9259a8b",
   "metadata": {},
   "outputs": [],
   "source": []
  }
 ],
 "metadata": {
  "kernelspec": {
   "display_name": "MENuS",
   "language": "python",
   "name": "menus"
  },
  "language_info": {
   "codemirror_mode": {
    "name": "ipython",
    "version": 3
   },
   "file_extension": ".py",
   "mimetype": "text/x-python",
   "name": "python",
   "nbconvert_exporter": "python",
   "pygments_lexer": "ipython3",
   "version": "3.10.9"
  }
 },
 "nbformat": 4,
 "nbformat_minor": 5
}
