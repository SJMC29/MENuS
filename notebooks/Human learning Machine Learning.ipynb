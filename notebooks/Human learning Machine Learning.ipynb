{
 "cells": [
  {
   "cell_type": "markdown",
   "id": "991121f8",
   "metadata": {
    "tags": []
   },
   "source": [
    "# MENuS\n",
    "## Using Machine Learning to select the best solver\n",
    "* Calculate the labels\n",
    "* Include the ingredients generator.\n",
    "    * Generate an Instance of Ingredients list.\n",
    "* Finish the model.\n",
    "* Use minizinc from python.\n",
    "    * Run it with 3 Algorithms.\n",
    "    * Add the Instance to the Instances List.\n",
    "    * Add the time it takes for each Algorithm to the Time Execution Matrix.\n",
    "    * Transform the Instances List into the Features Array.\n",
    "    * Travel through the Time Execution Matrix and pick the Algorithms with faster results for each Instance.\n",
    "    * The Algorithm with the fastest result will be added to the Labels list.\n",
    "\n",
    "|  | Alg1 | Alg2 | Alg3 |\n",
    "| --- | --- | --- | --- |\n",
    "| Ins1 | X | Y | Z |\n",
    "| Ins2 | X | Y | Z |\n",
    "| Ins3 | X | Y | Z |\n",
    "   \n",
    "* Transform the ingredients list into the dataset for machine learning.\n",
    "    * Create the Ingredients list.\n",
    "    * Test with the minizinc model, all the Alg = 3 -> minizinc(300).\n",
    "    * Take and transform the one that takes less time.\n",
    "* Training the AI. Split dataset, 70% for training and 30% for prediction, at least 80% accuracy expected. \n",
    "----------------------------------------------------------------------------------------------------------"
   ]
  },
  {
   "cell_type": "markdown",
   "id": "3157e4ec-f829-4580-8d79-9e6e85dc239c",
   "metadata": {
    "tags": []
   },
   "source": [
    "### Auxiliar Functions"
   ]
  },
  {
   "cell_type": "code",
   "execution_count": 25,
   "id": "4a7ddcc8-d830-4df2-a339-a26989dc6d01",
   "metadata": {
    "jupyter": {
     "source_hidden": true
    },
    "tags": []
   },
   "outputs": [],
   "source": [
    "def print_red(text):\n",
    "    print('\\x1b[31m' + text + '\\x1b[0m')\n",
    "    \n",
    "def print_yellow(text):\n",
    "    print('\\x1b[33m' + text + '\\x1b[0m')\n",
    "\n",
    "def print_green(text):\n",
    "    print('\\x1b[32m' + text + '\\x1b[0m')\n",
    "\n",
    "def print_pink(text):\n",
    "    print('\\x1b[35m' + text + '\\x1b[0m')\n",
    "\n",
    "def print_cyan(text):\n",
    "    print('\\x1b[36m' + text + '\\x1b[0m')"
   ]
  },
  {
   "cell_type": "markdown",
   "id": "9c199d6f",
   "metadata": {},
   "source": [
    "## Get the Instances\n",
    "The instances have been generated using the notebook: Generate Instance.ipynb"
   ]
  },
  {
   "cell_type": "code",
   "execution_count": 26,
   "id": "1087b2d4",
   "metadata": {},
   "outputs": [
    {
     "name": "stdout",
     "output_type": "stream",
     "text": [
      "[0, 0, 0, 1, 0, 0, 0, 1, 0, 0, 0, 1, 1, 0, 0, 1, 0, 1, 1, 0, 1, 1, 0, 1, 0, 0, 1, 0, 0, 1, 0, 0, 0, 0, 1, 0, 1, 1, 0, 1, 0, 1, 1, 0, 0, 0, 1, 1, 1, 1, 1, 0, 0, 2, 0, 1, 1, 0, 0, 0, 0, 0, 0, 0, 0, 0, 0, 0, 0, 0, 1, 0, 1, 1, 0, 1, 0, 1, 0, 0, 0, 0, 1, 1, 0, 0, 1, 1, 0, 0, 0, 0, 0, 0, 0, 1, 1, 0, 0, 1, 1, 1, 0, 0, 0, 0, 0, 0, 1, 0, 0, 1, 1, 1, 1, 0, 1, 0, 1, 1, 0, 0, 0, 0, 1, 0, 0, 0, 0, 0, 1, 0, 0, 0, 0, 0, 1, 1, 1, 1, 0, 0, 0, 0, 1, 0, 0, 1, 0, 1, 0, 0, 0, 0, 0, 0, 0, 0, 1, 0, 0, 0, 0, 1, 0, 0, 0, 0, 1, 1, 1, 0, 1, 0, 0, 1, 0, 0, 0, 0, 1, 1, 1, 0, 0, 1, 0, 0, 0, 1, 0, 0, 1, 0, 1, 0, 0, 0, 1, 0]\n"
     ]
    }
   ],
   "source": [
    "import os\n",
    "\n",
    "instances_folder = '../datasets/i5_200_1_1000'\n",
    "instances_path = [os.path.join(instances_folder, f) for f in os.listdir(instances_folder) if f.endswith('.dzn')]\n",
    "instances = []\n",
    "labels_txt = ''\n",
    "for path in instances_path:\n",
    "    with open(path, encoding=\"utf8\") as file_object:\n",
    "        instances.append(file_object.read())\n",
    "        \n",
    "with open(instances_folder+'/labels.txt', encoding=\"utf8\") as file_object:\n",
    "        labels_txt = file_object.read()\n",
    "#print(instances_path)\n",
    "print(labels_txt)"
   ]
  },
  {
   "cell_type": "markdown",
   "id": "fadad751",
   "metadata": {},
   "source": [
    "# Machine Learning\n",
    "## Get data: Parse instances to features."
   ]
  },
  {
   "cell_type": "code",
   "execution_count": 27,
   "id": "c2ecd121-a23a-405b-8d80-7349aff3cda4",
   "metadata": {
    "tags": []
   },
   "outputs": [],
   "source": [
    "import numpy as np\n",
    "\n",
    "# Ingredients list\n",
    "def get_groceries(g_array):\n",
    "    data_groceries = []\n",
    "    for i in range(0, len(g_array)):\n",
    "        loop_groceries = g_array[i].split(\"groceries = [|\")\n",
    "        loop_groceries = loop_groceries[1].split(\"|];\\nrequirements\")\n",
    "        loop_groceries = loop_groceries[0].split(\"|\")\n",
    "        \n",
    "        for j in range(0, len(loop_groceries)):\n",
    "            # Conversion from String to Int Array.\n",
    "            loop_groceries[j] = [int(x) for x in loop_groceries[j].split(\",\")]\n",
    "            \n",
    "        data_groceries = data_groceries + [np.array(loop_groceries)]\n",
    "    return data_groceries\n",
    "\n",
    "def get_requirements(r_array):\n",
    "    data_requirements = []\n",
    "    for i in range(0, len(r_array)):\n",
    "        loop_requirements = r_array[i].split(\"requirements = [|\")\n",
    "        loop_requirements = loop_requirements[1].split(\"|];\")\n",
    "        loop_requirements = loop_requirements[0].split(\"|\")\n",
    "        \n",
    "        for j in range(0, len(loop_requirements)):\n",
    "            # Conversion from String to Int Array.\n",
    "            loop_requirements[j] = [int(x) for x in loop_requirements[j].split(\",\")]\n",
    "            \n",
    "        data_requirements = data_requirements + [np.array(loop_requirements)]\n",
    "    return data_requirements\n",
    "\n",
    "\n",
    "def create_features(instances):\n",
    "    q_features = 31\n",
    "    res = np.zeros((len(instances), q_features))    \n",
    "    np_groceries = get_groceries(instances)\n",
    "    np_requirements = get_requirements(instances)\n",
    "    # print(np_groceries[0])\n",
    "    # print(np_requirements[0])\n",
    "    \n",
    "    for i in range(0,len(instances)):\n",
    "        # features: i in the left represents an Instance; 0,1... in the right represents a Feature.\n",
    "        #----------------------------------------------------\n",
    "        # np_groceries: i in the left represents an Instance; \":\" represents all rows; 0,1... in the right represents a Macronutrient Column.\n",
    "        # 0: Calories. 1: Protein. 2: Carbo. 3: Fat. 4: Quantity. 5: Price.\n",
    "        \"\"\"res[i,0] = np.mean(np_groceries[i][:,0])\n",
    "        res[i,1] = np.median(np_groceries[i][:,0])\n",
    "        res[i,2] = np.std(np_groceries[i][:,0])\n",
    "        res[i,3] = np.var(np_groceries[i][:,0])\n",
    "        res[i,4] = np.min(np_groceries[i][:,0])\n",
    "        res[i,5] = np.max(np_groceries[i][:,0])\n",
    "        res[i,6] = np.argmin(np_groceries[i][:,0])\n",
    "        res[i,7] = np.argmax(np_groceries[i][:,0])\n",
    "        res[i,8] = np.percentile(np_groceries[i][:,0],25)\n",
    "        res[i,9] = np.percentile(np_groceries[i][:,0],75)\"\"\"\n",
    "        #----------------------------------------------------\n",
    "        res[i,0] = np.mean(np_groceries[i][:,1])\n",
    "        res[i,1] = np.median(np_groceries[i][:,1])\n",
    "        res[i,2] = np.std(np_groceries[i][:,1])\n",
    "        res[i,3] = np.var(np_groceries[i][:,1])\n",
    "        res[i,4] = np.min(np_groceries[i][:,1])\n",
    "        res[i,5] = np.max(np_groceries[i][:,1])\n",
    "        res[i,6] = np.argmin(np_groceries[i][:,1])\n",
    "        res[i,7] = np.argmax(np_groceries[i][:,1])\n",
    "        res[i,8] = np.percentile(np_groceries[i][:,1],25)\n",
    "        res[i,9] = np.percentile(np_groceries[i][:,1],75)\n",
    "        #----------------------------------------------------\n",
    "        res[i,10] = np.mean(np_groceries[i][:,2])\n",
    "        res[i,11] = np.median(np_groceries[i][:,2])\n",
    "        res[i,12] = np.std(np_groceries[i][:,2])\n",
    "        res[i,13] = np.var(np_groceries[i][:,2])\n",
    "        res[i,14] = np.min(np_groceries[i][:,2])\n",
    "        res[i,15] = np.max(np_groceries[i][:,2])\n",
    "        res[i,16] = np.argmin(np_groceries[i][:,2])\n",
    "        res[i,17] = np.argmax(np_groceries[i][:,2])\n",
    "        res[i,18] = np.percentile(np_groceries[i][:,2],25)\n",
    "        res[i,19] = np.percentile(np_groceries[i][:,2],75)                \n",
    "        #----------------------------------------------------\n",
    "        res[i,20] = np.mean(np_groceries[i][:,3])\n",
    "        res[i,21] = np.median(np_groceries[i][:,3])\n",
    "        res[i,22] = np.std(np_groceries[i][:,3])\n",
    "        res[i,23] = np.var(np_groceries[i][:,3])\n",
    "        res[i,24] = np.min(np_groceries[i][:,3])\n",
    "        res[i,25] = np.max(np_groceries[i][:,3])\n",
    "        res[i,26] = np.argmin(np_groceries[i][:,3])\n",
    "        res[i,27] = np.argmax(np_groceries[i][:,3])\n",
    "        res[i,28] = np.percentile(np_groceries[i][:,3],25)\n",
    "        res[i,29] = np.percentile(np_groceries[i][:,3],75)\n",
    "        #---------------------------------------------------\n",
    "        # np_requirements: i in the left represents an Instance; \":\" represents all rows; 0,1... in the right represents a Macronutrient Column.\n",
    "        # 0: Calories. 1: Protein. 2: Carbo. 3: Fat. 4: Quantity. 5: Price.\n",
    "        #---------------------------------------------------\n",
    "        res[i,30] = len(np_groceries[i])\n",
    "        \n",
    "    return res"
   ]
  },
  {
   "cell_type": "markdown",
   "id": "47ddbcad-b0b7-4c5c-8b9f-b8943e1cbcfa",
   "metadata": {
    "tags": []
   },
   "source": [
    "## Create Labels and Features.\n",
    "Represents the solver that solved the model in the best way, comparing first the result and then the time. The best solver will be the one that solves the model with a minor value in less time."
   ]
  },
  {
   "cell_type": "code",
   "execution_count": 28,
   "id": "18b6e5cf",
   "metadata": {
    "scrolled": true,
    "tags": []
   },
   "outputs": [
    {
     "name": "stdout",
     "output_type": "stream",
     "text": [
      "[0, 0, 0, 1, 0, 0, 0, 1, 0, 0, 0, 1, 1, 0, 0, 1, 0, 1, 1, 0, 1, 1, 0, 1, 0, 0, 1, 0, 0, 1, 0, 0, 0, 0, 1, 0, 1, 1, 0, 1, 0, 1, 1, 0, 0, 0, 1, 1, 1, 1, 1, 0, 0, 2, 0, 1, 1, 0, 0, 0, 0, 0, 0, 0, 0, 0, 0, 0, 0, 0, 1, 0, 1, 1, 0, 1, 0, 1, 0, 0, 0, 0, 1, 1, 0, 0, 1, 1, 0, 0, 0, 0, 0, 0, 0, 1, 1, 0, 0, 1, 1, 1, 0, 0, 0, 0, 0, 0, 1, 0, 0, 1, 1, 1, 1, 0, 1, 0, 1, 1, 0, 0, 0, 0, 1, 0, 0, 0, 0, 0, 1, 0, 0, 0, 0, 0, 1, 1, 1, 1, 0, 0, 0, 0, 1, 0, 0, 1, 0, 1, 0, 0, 0, 0, 0, 0, 0, 0, 1, 0, 0, 0, 0, 1, 0, 0, 0, 0, 1, 1, 1, 0, 1, 0, 0, 1, 0, 0, 0, 0, 1, 1, 1, 0, 0, 1, 0, 0, 0, 1, 0, 0, 1, 0, 1, 0, 0, 0, 1, 0]\n"
     ]
    }
   ],
   "source": [
    "features = create_features(instances)\n",
    "import ast\n",
    "labels = ast.literal_eval(labels_txt)\n",
    "print(labels)\n",
    "\n",
    "#labels = solve_with_minizinc(instances_path, 10, 15)"
   ]
  },
  {
   "cell_type": "markdown",
   "id": "686c861d-a5e3-4318-80d5-40ddaf2e2800",
   "metadata": {},
   "source": [
    "## Algorithms"
   ]
  },
  {
   "cell_type": "code",
   "execution_count": 29,
   "id": "324167d1",
   "metadata": {
    "scrolled": true,
    "tags": []
   },
   "outputs": [
    {
     "name": "stdout",
     "output_type": "stream",
     "text": [
      "Accuracy: 0.6\n"
     ]
    }
   ],
   "source": [
    "X = features # Features\n",
    "y = labels # Labels\n",
    "\n",
    "# Normalize the data to have zero mean and unit variance\n",
    "mean = np.mean(X, axis=0)\n",
    "std = np.std(X, axis=0)\n",
    "X = np.where(std == 0, 0, (X - mean) / std)\n",
    "\n",
    "# Split the data into training and testing sets\n",
    "from sklearn.model_selection import train_test_split\n",
    "X_train, X_test, y_train, y_test = train_test_split(X, y, test_size=0.2)\n",
    "\n",
    "# Train a machine learning model on the training set\n",
    "from sklearn.linear_model import LogisticRegression\n",
    "model = LogisticRegression()\n",
    "model.fit(X_train, y_train)\n",
    "\n",
    "# Evaluate the model on the testing set\n",
    "accuracy = model.score(X_test, y_test)\n",
    "print('Accuracy:', accuracy)"
   ]
  },
  {
   "cell_type": "code",
   "execution_count": 30,
   "id": "80f816f2-7127-493f-8f8a-5924e91ad0ca",
   "metadata": {
    "tags": []
   },
   "outputs": [
    {
     "name": "stdout",
     "output_type": "stream",
     "text": [
      "Accuracy: 0.625\n"
     ]
    }
   ],
   "source": [
    "# Train a machine learning model on the training set\n",
    "from sklearn.ensemble import RandomForestClassifier\n",
    "model = RandomForestClassifier(max_depth=10, random_state=0)\n",
    "model.fit(X_train, y_train)\n",
    "\n",
    "# Evaluate the model on the testing set\n",
    "accuracy = model.score(X_test, y_test)\n",
    "# Predict labels for the test set\n",
    "y_pred = model.predict(X_test)\n",
    "\n",
    "print('Accuracy:', accuracy)"
   ]
  },
  {
   "cell_type": "markdown",
   "id": "f3f15256-51b7-4c05-b629-018771fefc2e",
   "metadata": {},
   "source": [
    "## Confusion Matrix"
   ]
  },
  {
   "cell_type": "code",
   "execution_count": 31,
   "id": "d4f4097d-f2e9-4389-91d9-d129ea07a6e8",
   "metadata": {},
   "outputs": [
    {
     "data": {
      "image/png": "[encoded data removed]",
      "text/plain": [
       "<Figure size 640x480 with 2 Axes>"
      ]
     },
     "metadata": {},
     "output_type": "display_data"
    }
   ],
   "source": [
    "from sklearn.metrics import confusion_matrix\n",
    "# create confusion matrix\n",
    "cm = confusion_matrix(y_test, y_pred)\n",
    "# print confusion matrix\n",
    "# print(cm)\n",
    "import seaborn as sns\n",
    "import matplotlib.pyplot as plt\n",
    "\n",
    "sns.heatmap(cm, annot=True, cbar_kws={\"orientation\": \"vertical\", \"label\": \"occurrence\"}, xticklabels=[0,1,2], yticklabels=[0,1,2])\n",
    "plt.show()"
   ]
  },
  {
   "cell_type": "code",
   "execution_count": 32,
   "id": "f374d0d2-1de8-4a37-a733-96462d7ba210",
   "metadata": {},
   "outputs": [
    {
     "name": "stdout",
     "output_type": "stream",
     "text": [
      "[0 1 2]\n",
      "[105  54   1]\n"
     ]
    }
   ],
   "source": [
    "unique, counts = np.unique(y_train, return_counts=True)\n",
    "print(unique)\n",
    "print(counts)\n"
   ]
  },
  {
   "cell_type": "code",
   "execution_count": 33,
   "id": "51556304-95c9-43a2-8db9-4079e9259a8b",
   "metadata": {},
   "outputs": [
    {
     "name": "stdout",
     "output_type": "stream",
     "text": [
      "0: 128 64.0%\n",
      "1: 71 35.5%\n",
      "2: 1 0.5%\n"
     ]
    }
   ],
   "source": [
    "freq = {}\n",
    "\n",
    "# Count frequency of each element in the array\n",
    "for num in labels:\n",
    "    if num in freq:\n",
    "        freq[num] += 1\n",
    "    else:\n",
    "        freq[num] = 1\n",
    "\n",
    "# Print frequency of each element\n",
    "for num, count in freq.items():\n",
    "    print(f\"{num}: {count} {count/len(labels)*100}%\")\n"
   ]
  },
  {
   "cell_type": "code",
   "execution_count": null,
   "id": "960841ea-670b-4f0c-b920-ac80c22d0447",
   "metadata": {},
   "outputs": [],
   "source": []
  }
 ],
 "metadata": {
  "kernelspec": {
   "display_name": "Python 3 (ipykernel)",
   "language": "python",
   "name": "python3"
  },
  "language_info": {
   "codemirror_mode": {
    "name": "ipython",
    "version": 3
   },
   "file_extension": ".py",
   "mimetype": "text/x-python",
   "name": "python",
   "nbconvert_exporter": "python",
   "pygments_lexer": "ipython3",
   "version": "3.10.9"
  }
 },
 "nbformat": 4,
 "nbformat_minor": 5
}
