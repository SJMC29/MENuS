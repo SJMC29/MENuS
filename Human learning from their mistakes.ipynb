{
 "cells": [
  {
   "cell_type": "code",
   "execution_count": null,
   "id": "cf0ea3a7",
   "metadata": {},
   "outputs": [],
   "source": []
  }
 ],
 "metadata": {
  "kernelspec": {
   "display_name": "MENuS",
   "language": "python",
   "name": "menus"
  }
 },
 "nbformat": 4,
 "nbformat_minor": 5
}
