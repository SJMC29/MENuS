{
 "cells": [
  {
   "cell_type": "markdown",
   "id": "991121f8",
   "metadata": {},
   "source": [
    "# MENuS\n",
    "## Using Machine Learning to select the best algorithm\n",
    "* Define the features.\n",
    "* Include the ingredients generator.\n",
    "    * Generate an Instance of Ingredients list.\n",
    "* Finish the model.\n",
    "* Use minizinc from python.\n",
    "    * Run it with 3 Algorithms.\n",
    "    * Add the Instance to the Instances List.\n",
    "    * Add the time it takes for each Algorithm to the Time Execution Matrix.\n",
    "    * Transform the Instances List into the Features Array.\n",
    "    * Travel through the Time Execution Matrix and pick the Algorithms with faster results for each Instance.\n",
    "    * The Algorithm with the fastest result will be added to the Labels list.\n",
    "\n",
    "|  | Alg1 | Alg2 | Alg3 |\n",
    "| --- | --- | --- | --- |\n",
    "| Ins1 | X | Y | Z |\n",
    "| Ins2 | X | Y | Z |\n",
    "| Ins3 | X | Y | Z |\n",
    "   \n",
    "* Transform the ingredients list into the dataset for machine learning.\n",
    "    * Create the Ingredients list.\n",
    "    * Test with the minizinc model, all the Alg = 3 -> minizinc(300).\n",
    "    * Take and transform the one that takes less time.\n",
    "* Training the AI. Split dataset, 70% for training and 30% for prediction, at least 80% accuracy expected. \n",
    "----------------------------------------------------------------------------------------------------------"
   ]
  },
  {
   "cell_type": "markdown",
   "id": "9c199d6f",
   "metadata": {},
   "source": [
    "# Generate the Ingredients List"
   ]
  },
  {
   "cell_type": "code",
   "execution_count": 31,
   "id": "1087b2d4",
   "metadata": {},
   "outputs": [],
   "source": [
    "import random\n",
    "import math\n",
    "\n",
    "def printN(n):\n",
    "    n = \"n = \" + str(n)\n",
    "    return n\n",
    "\n",
    "def createProtein():\n",
    "    quantity = 1#random.randint(1,10)\n",
    "    protein = random.randint(1, 30)*quantity\n",
    "    carbohydrate = random.randint(1, 37)*quantity\n",
    "    fat = random.randint(1, 30)*quantity\n",
    "    calories = protein*4 + carbohydrate*4 + fat*4\n",
    "    product = \"\"\n",
    "    product = product + str(calories) + \",\" + str(protein) + \",\" + str(carbohydrate) + \",\" + str(fat) + \",\" + str(random.randint(50, 200)) + \",\" + str(random.randint(800, 4000)) + \"|\"\n",
    "    return product\n",
    "\n",
    "def createCarbohydrate():\n",
    "    quantity = 1#random.randint(1,10)\n",
    "    protein = random.randint(1, 15)*quantity\n",
    "    carbohydrate = random.randint(1, 75)*quantity\n",
    "    fat = random.randint(1, 30)*quantity\n",
    "    calories = protein*4 + carbohydrate*4 + fat*4\n",
    "    product = \"\"\n",
    "    product = product + str(calories) + \",\" + str(protein) + \",\" + str(carbohydrate) + \",\" + str(fat) + \",\" + str(random.randint(50, 200)) + \",\" + str(random.randint(800, 4000)) + \"|\"\n",
    "    return product\n",
    "\n",
    "def createFat():\n",
    "    quantity = 1#random.randint(1,10)\n",
    "    protein = random.randint(1, 15)*quantity\n",
    "    carbohydrate = random.randint(1, 37)*quantity\n",
    "    fat = random.randint(1, 80)*quantity\n",
    "    calories = protein*4 + carbohydrate*4 +fat*4\n",
    "    product = \"\"\n",
    "    product = product + str(calories) + \",\" + str(protein) + \",\" + str(carbohydrate) + \",\" + str(fat) + \",\" + str(random.randint(50, 200)) + \",\" + str(random.randint(800, 4000)) + \"|\"\n",
    "    return product\n",
    "\n",
    "def createGroceries(n):\n",
    "    longitud = 0\n",
    "    groceries = \"[|\"\n",
    "    for i in range(0,math.floor(n/3)):\n",
    "        groceries = groceries + createProtein()\n",
    "        longitud = longitud + 1\n",
    "    for i in range(0,math.floor(n/3)):\n",
    "        groceries = groceries + createCarbohydrate()\n",
    "        longitud = longitud + 1\n",
    "    for i in range(0,math.floor(n/3)):\n",
    "        groceries = groceries + createFat()\n",
    "        longitud = longitud + 1\n",
    "    for i in range(n-longitud):\n",
    "        groceries = groceries + createCarbohydrate()\n",
    "        longitud = longitud + 1\n",
    "    groceries = groceries + \"]\"\n",
    "    return groceries\n",
    "\n",
    "def printGroceries(n):\n",
    "    groceries = \"groceries = \" + str(createGroceries(n))\n",
    "    return groceries\n",
    "\n",
    "def createRequirements(d, p):\n",
    "    #Redondear holgura < 2\n",
    "    holgura = 1.1\n",
    "    requirements = \"[|\" + str(1677*d*p) + \",\" + str(int(2024*d*p*holgura)) + \"|\" + str(38*d*p) + \",\" + str(int(46*d*p*holgura)) + \"|\" + str(130*d*p) + \",\" + str(int(130*d*p*holgura)) + \"|\" + str(57*d*p) + \",\" + str(int(62*d*p*holgura)) + \"|]\"\n",
    "    return requirements\n",
    "\n",
    "def printRequirements(d, p):\n",
    "    requirements = \"requirements = \" + str(createRequirements(d, p)) \n",
    "    return requirements\n",
    "\n",
    "def createDZN(n):\n",
    "#    days = random.randint(7,15)\n",
    "#    people = random.randint(1,5)\n",
    "    days = 3\n",
    "    people = 1\n",
    "    dzn = printN(n) + \";\\n\" + printGroceries(n) + \";\\n\" + printRequirements(days, people) + \";\"\n",
    "    return(dzn)\n",
    "\n",
    "#with open('/Users/Sara Maradiago/Desktop/MENUS/data.dzn', 'w') as f:\n",
    "#    f.write(createDZN(30))"
   ]
  },
  {
   "cell_type": "code",
   "execution_count": 100,
   "id": "91104213",
   "metadata": {
    "scrolled": false
   },
   "outputs": [
    {
     "data": {
      "text/plain": [
       "'n = 10;\\ngroceries = [|204,13,27,11,155,3588|228,11,25,21,182,1175|308,30,27,20,100,1826|348,14,48,25,133,3413|304,12,37,27,98,832|292,10,60,3,102,3322|148,7,11,19,96,1065|312,5,33,40,98,2657|328,7,32,43,146,1482|320,6,47,27,80,1287|];\\nrequirements = [|5031,6679|114,151|390,429|171,204|];'"
      ]
     },
     "execution_count": 100,
     "metadata": {},
     "output_type": "execute_result"
    }
   ],
   "source": [
    "createDZN(10)"
   ]
  },
  {
   "cell_type": "code",
   "execution_count": 94,
   "id": "18b6e5cf",
   "metadata": {
    "scrolled": true
   },
   "outputs": [],
   "source": [
    "import numpy as np\n",
    "\n",
    "#-MINIZINC---------------------------------\n",
    "n_inst=10\n",
    "ingredient_size=20\n",
    "il = np.zeros((n_inst), dtype=str)\n",
    "tem = np.zeros((n_inst, 3))\n",
    "#------------------------------------------\n",
    "#-MACHINE LEARNING-------------------------\n",
    "q_features = 20\n",
    "features = np.zeros((n_inst, q_features))\n",
    "labels = np.zeros((n_inst), dtype=int)\n",
    "#------------------------------------------\n",
    "\n",
    "# Create Instances List:\n",
    "def create_IL(n, isz):\n",
    "    for i in range(0,n):\n",
    "        il[i] = createDZN(isz)\n",
    "    print(\"Updated [il].\\n\",len(il))\n",
    "        \n",
    "# Create Time Execution Matrix:\n",
    "def create_TEM(n):\n",
    "    for i in range(n):\n",
    "        # Here there should be the Minizinc Time results.\n",
    "        tem[i, :] = np.random.rand(3) * 10\n",
    "    print(\"\\nUpdated [tem].\\n\",tem)"
   ]
  },
  {
   "cell_type": "code",
   "execution_count": 95,
   "id": "f87f5360",
   "metadata": {
    "scrolled": false
   },
   "outputs": [
    {
     "name": "stdout",
     "output_type": "stream",
     "text": [
      "Updated [il].\n",
      " 10\n",
      "\n",
      "Updated [tem].\n",
      " [[4.15786879 5.54266859 0.37077915]\n",
      " [4.17299532 7.69983925 7.17602666]\n",
      " [7.49673736 9.89628867 4.70368134]\n",
      " [3.04593321 3.51238022 6.3396502 ]\n",
      " [8.58984023 8.24438891 1.91599188]\n",
      " [5.05881247 6.97948581 2.31519343]\n",
      " [9.33324338 5.18899089 6.80676279]\n",
      " [5.39629501 1.45046348 9.65005638]\n",
      " [7.63194752 8.02929369 2.27023134]\n",
      " [3.06627106 5.58905366 3.58032974]]\n"
     ]
    }
   ],
   "source": [
    "create_IL(n_inst,ingredient_size)  \n",
    "create_TEM(n_inst)"
   ]
  },
  {
   "cell_type": "code",
   "execution_count": 99,
   "id": "138abb92",
   "metadata": {
    "scrolled": true
   },
   "outputs": [
    {
     "name": "stdout",
     "output_type": "stream",
     "text": [
      "Updated [labels].\n",
      " [3 1 3 1 3 3 2 2 3 1]\n"
     ]
    }
   ],
   "source": [
    "def create_labels(n,m):\n",
    "    for i in range(0,n):\n",
    "        labels[i] = np.argmin(m[i])+1\n",
    "    print(\"Updated [labels].\\n\",labels)\n",
    "    \n",
    "create_labels(n_inst, tem)\n",
    "    "
   ]
  },
  {
   "cell_type": "code",
   "execution_count": null,
   "id": "466bef63",
   "metadata": {},
   "outputs": [],
   "source": []
  }
 ],
 "metadata": {
  "kernelspec": {
   "display_name": "MENuS",
   "language": "python",
   "name": "menus"
  },
  "language_info": {
   "codemirror_mode": {
    "name": "ipython",
    "version": 3
   },
   "file_extension": ".py",
   "mimetype": "text/x-python",
   "name": "python",
   "nbconvert_exporter": "python",
   "pygments_lexer": "ipython3",
   "version": "3.9.13"
  }
 },
 "nbformat": 4,
 "nbformat_minor": 5
}
