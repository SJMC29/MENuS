{
 "cells": [
  {
   "cell_type": "markdown",
   "id": "991121f8",
   "metadata": {},
   "source": [
    "# MENuS\n",
    "## Using Machine Learning to select the best algorithm\n",
    "* Define the features.\n",
    "* Include the ingredients generator.\n",
    "* Use minizinc from python.\n",
    "\n",
    "* Transform the ingredients list into the dataset.\n",
    "* Finish the model.\n",
    "------------------------------\n",
    "* Define dataset(100) for machine learning.\n",
    "    * Create the ingredients list.\n",
    "    * Test with the minizinc model, all the Alg = 3 -> minizinc(300).\n",
    "    * Take and transform the one that takes less time.\n",
    "* Dataset created = 100.\n",
    "* Use split to get train and test.\n"
   ]
  },
  {
   "cell_type": "code",
   "execution_count": 10,
   "id": "9985aeeb",
   "metadata": {},
   "outputs": [
    {
     "name": "stdout",
     "output_type": "stream",
     "text": [
      "Entrada: Una instancia de caracteristicas: [<size>,<x_C>,<x_F>,<x_C>]\n",
      "Salida: Configuración con la cual se tiene que correr\n",
      "[123, 53, 123, 0.1, 32] -> Alg1 = 2s\n",
      "[123, 53, 123, 0.1, 32] -> Alg2 = 1s\n",
      "[123, 53, 123, 0.1, 32] -> Alg3 = 5s\n",
      "[123, 53, 123, 0.1, 32] -> Coja el Alg2\n"
     ]
    }
   ],
   "source": [
    "print(\"Entrada: Una instancia de caracteristicas: [<size>,<x_C>,<x_F>,<x_C>]\")\n",
    "print(\"Salida: Configuración con la cual se tiene que correr\")\n",
    "\n",
    "\n",
    "print(\"[123, 53, 123, 0.1, 32] -> Alg1 = 2s\")\n",
    "print(\"[123, 53, 123, 0.1, 32] -> Alg2 = 1s\")\n",
    "print(\"[123, 53, 123, 0.1, 32] -> Alg3 = 5s\")\n",
    "\n",
    "# DATASET\n",
    "print(\"[123, 53, 123, 0.1, 32] -> Coja el Alg2\")\n",
    "\n",
    "\n"
   ]
  }
 ],
 "metadata": {
  "kernelspec": {
   "display_name": "MENuS",
   "language": "python",
   "name": "menus"
  },
  "language_info": {
   "codemirror_mode": {
    "name": "ipython",
    "version": 3
   },
   "file_extension": ".py",
   "mimetype": "text/x-python",
   "name": "python",
   "nbconvert_exporter": "python",
   "pygments_lexer": "ipython3",
   "version": "3.10.4"
  }
 },
 "nbformat": 4,
 "nbformat_minor": 5
}
